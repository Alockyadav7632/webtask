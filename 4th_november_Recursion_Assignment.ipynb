{
 "cells": [
  {
   "cell_type": "markdown",
   "id": "053ab24d-6c65-49e1-a085-13a9e1a08634",
   "metadata": {},
   "source": [
    "### Q. 3 Print the max value of the array [ 13, 1, -3, 22, 5]."
   ]
  },
  {
   "cell_type": "code",
   "execution_count": 5,
   "id": "fa24b129-337a-44b4-952b-85fdf6a2c87d",
   "metadata": {},
   "outputs": [
    {
     "name": "stdout",
     "output_type": "stream",
     "text": [
      "max value is: 22\n"
     ]
    }
   ],
   "source": [
    "# declare the array\n",
    "arr = [13,1,-3,22,5]\n",
    "# max value calculate\n",
    "max_value = max(arr)\n",
    "# print max value\n",
    "print(\"max value is:\" , max_value)"
   ]
  },
  {
   "cell_type": "markdown",
   "id": "56e028f7-b64a-4791-978b-c73ffd7ab15f",
   "metadata": {},
   "source": [
    "### Q.4 Find the sum of the values of the array [92, 23, 15, -20, 10]."
   ]
  },
  {
   "cell_type": "code",
   "execution_count": 4,
   "id": "9d95a4a1-b2b7-4428-b7f2-9412309f5d98",
   "metadata": {},
   "outputs": [
    {
     "name": "stdout",
     "output_type": "stream",
     "text": [
      "Sum of array: 120\n"
     ]
    }
   ],
   "source": [
    "# declare the array\n",
    "arr = [92,23,15,-20,10]\n",
    "# sum of the array\n",
    "sumofarray= sum(arr)\n",
    "# print max value\n",
    "print(\"Sum of array:\" , sumofarray)"
   ]
  },
  {
   "cell_type": "markdown",
   "id": "3269b37f-16c9-48ac-92ac-86b2e657bc43",
   "metadata": {},
   "source": [
    "### Q.5 Given a number n. Print if it is an armstrong number or not.An armstrong number is a number if the sum\n",
    "of every digit in that number raised to the power of total digits in that number is equal to the number.\n",
    "Example : 153 = 1^3 + 5^3 + 3^3 = 1 + 125 + 27 = 153 hence 153 is an armstrong number. (Easy)\n",
    "Input1 : 153\n",
    "Output1 : Yes\n",
    "Input 2 : 134\n",
    "Output2 : No"
   ]
  },
  {
   "cell_type": "code",
   "execution_count": 6,
   "id": "d0f15a2c-b90c-48ea-8df3-110fae8d6219",
   "metadata": {},
   "outputs": [
    {
     "name": "stdout",
     "output_type": "stream",
     "text": [
      "Input 1: 153\n",
      "Output 1: Yes\n",
      "Input 2: 134\n",
      "Output 2: No\n"
     ]
    }
   ],
   "source": [
    "def is_armstrong_number(n):\n",
    "    # Convert the number to a string to find the total digits\n",
    "    num_str = str(n)\n",
    "    total_digits = len(num_str)\n",
    "    \n",
    "    # Calculate the sum of each digit raised to the power of total digits\n",
    "    armstrong_sum = sum(int(digit) ** total_digits for digit in num_str)\n",
    "    \n",
    "    # Check if the sum is equal to the original number\n",
    "    return armstrong_sum == n\n",
    "\n",
    "# Example usage\n",
    "input_number1 = 153\n",
    "input_number2 = 134\n",
    "\n",
    "output1 = \"Yes\" if is_armstrong_number(input_number1) else \"No\"\n",
    "output2 = \"Yes\" if is_armstrong_number(input_number2) else \"No\"\n",
    "\n",
    "print(\"Input 1:\", input_number1)\n",
    "print(\"Output 1:\", output1)\n",
    "\n",
    "print(\"Input 2:\", input_number2)\n",
    "print(\"Output 2:\", output2)\n"
   ]
  },
  {
   "cell_type": "markdown",
   "id": "94e7db0a-d2ce-4414-9767-33bc2a53ec33",
   "metadata": {},
   "source": [
    "### Q.2 Given two strings word1 and word2, return the minimum number of operations required to convert word1\n",
    "to word2.\n",
    "Example 1:\n",
    "Input: word1 = \"horse\", word2 = \"ros\"\n",
    "Output: 3\n",
    "Explanation:\n",
    "horse -> rorse (replace 'h' with 'r')\n",
    "rorse -> rose (remove 'r')\n",
    "rose -> ros (remove 'e')\n",
    "Example 2:\n",
    "Input: word1 = \"intention\", word2 = \"execution\"\n",
    "Output: 5\n",
    "Explanation:\n",
    "intention -> inention (remove 't')\n",
    "inention -> enention (replace 'i' with 'e')\n",
    "enention -> exention (replace 'n' with 'x')\n",
    "exention -> exection (replace 'n' with 'c')\n",
    "exection -> execution (insert 'u')"
   ]
  },
  {
   "cell_type": "code",
   "execution_count": null,
   "id": "0f4f5212-1616-4605-9f05-c0954f4c2051",
   "metadata": {},
   "outputs": [],
   "source": []
  }
 ],
 "metadata": {
  "kernelspec": {
   "display_name": "Python 3 (ipykernel)",
   "language": "python",
   "name": "python3"
  },
  "language_info": {
   "codemirror_mode": {
    "name": "ipython",
    "version": 3
   },
   "file_extension": ".py",
   "mimetype": "text/x-python",
   "name": "python",
   "nbconvert_exporter": "python",
   "pygments_lexer": "ipython3",
   "version": "3.10.8"
  }
 },
 "nbformat": 4,
 "nbformat_minor": 5
}
