{
 "cells": [
  {
   "cell_type": "markdown",
   "id": "dd9d0cab-e1a2-4a25-876b-cb8dde44a797",
   "metadata": {},
   "source": [
    "1.  Declare two variables, `x` and `y`, and assign them integer values. Swap the\n",
    "values of these variables without using any temporary variable."
   ]
  },
  {
   "cell_type": "code",
   "execution_count": 7,
   "id": "d6f28b87-d52f-42f8-b549-f9f2b365d994",
   "metadata": {},
   "outputs": [],
   "source": [
    "# Step 1: Initialize variables\n",
    "x =5\n",
    "y=10"
   ]
  },
  {
   "cell_type": "code",
   "execution_count": 8,
   "id": "226788a6-721a-448e-8df6-7b75446364f2",
   "metadata": {},
   "outputs": [],
   "source": [
    "# Step 2: Perform addition to swap values\n",
    "x = x + y"
   ]
  },
  {
   "cell_type": "code",
   "execution_count": 9,
   "id": "5667de7a-026e-4e22-9fca-e0e5472c4872",
   "metadata": {},
   "outputs": [],
   "source": [
    "# Step 3: Perform subtraction to get the new value of y\n",
    "y = x - y"
   ]
  },
  {
   "cell_type": "code",
   "execution_count": 10,
   "id": "29172431-66b8-462f-ac1f-50eda7bd6b55",
   "metadata": {},
   "outputs": [],
   "source": [
    "# Step 4: Perform subtraction to get the new value of x\n",
    "x = x - y"
   ]
  },
  {
   "cell_type": "code",
   "execution_count": 11,
   "id": "6b6f0116-eabd-436b-bc12-2987f59849f8",
   "metadata": {},
   "outputs": [
    {
     "name": "stdout",
     "output_type": "stream",
     "text": [
      "After swapping:\n",
      "x = 10\n",
      "y = 5\n"
     ]
    }
   ],
   "source": [
    "# Print the result\n",
    "print(\"After swapping:\")\n",
    "print(\"x =\", x)\n",
    "print(\"y =\", y)"
   ]
  },
  {
   "cell_type": "code",
   "execution_count": null,
   "id": "b1198990-d5b4-4b38-b354-949af23bf882",
   "metadata": {},
   "outputs": [],
   "source": []
  },
  {
   "cell_type": "markdown",
   "id": "84234147-a3a0-4178-a2ef-a9b31ccd70f6",
   "metadata": {},
   "source": [
    "### 2. Create a program that calculates the area of a rectangle. Take the length and\n",
    "width as inputs from the user and store them in variables. Calculate and\n",
    "display the area."
   ]
  },
  {
   "cell_type": "code",
   "execution_count": 1,
   "id": "854b8ed0-7e1c-4bcf-a57f-2b6cc89c132a",
   "metadata": {},
   "outputs": [],
   "source": [
    "# take input from the user"
   ]
  },
  {
   "cell_type": "code",
   "execution_count": 3,
   "id": "d9893221-d970-4233-a2ed-0277f9966774",
   "metadata": {},
   "outputs": [
    {
     "name": "stdin",
     "output_type": "stream",
     "text": [
      "Enter the length of the rectangle:  32\n",
      "Enter the breadth of the rectangle:  4\n"
     ]
    }
   ],
   "source": [
    "length = float(input(\"Enter the length of the rectangle: \"))\n",
    "breadth = float(input(\"Enter the breadth of the rectangle: \"))"
   ]
  },
  {
   "cell_type": "code",
   "execution_count": 4,
   "id": "6431ec17-f069-4e8d-b445-76d17374c7e3",
   "metadata": {},
   "outputs": [],
   "source": [
    "# calculate the area of rectangle"
   ]
  },
  {
   "cell_type": "code",
   "execution_count": 5,
   "id": "adef020f-8de0-4aff-8b4f-2e559942c2cb",
   "metadata": {},
   "outputs": [],
   "source": [
    "area = length * breadth"
   ]
  },
  {
   "cell_type": "code",
   "execution_count": 6,
   "id": "856dff68-b72b-431a-8f21-3d05aa7e14de",
   "metadata": {},
   "outputs": [],
   "source": [
    "# print the final result"
   ]
  },
  {
   "cell_type": "code",
   "execution_count": 10,
   "id": "65bf7144-11c1-424e-80bc-214bfc10aa1b",
   "metadata": {},
   "outputs": [
    {
     "name": "stdout",
     "output_type": "stream",
     "text": [
      "The area of rectangle is: 128.0\n"
     ]
    }
   ],
   "source": [
    "print(f\"The area of rectangle is: {area}\")"
   ]
  },
  {
   "cell_type": "code",
   "execution_count": null,
   "id": "146fd29b-7e1e-4817-83c2-09b0154a1a9d",
   "metadata": {},
   "outputs": [],
   "source": []
  },
  {
   "cell_type": "markdown",
   "id": "7a624bad-00b8-49df-b119-41c4abe595fa",
   "metadata": {},
   "source": [
    "### 3. Write a Python program that converts temperatures from Celsius to\n",
    "Fahrenheit. Take the temperature in Celsius as input, store it in a variable,\n",
    "convert it to Fahrenheit, and display the result."
   ]
  },
  {
   "cell_type": "code",
   "execution_count": 11,
   "id": "82dabe5f-83a9-4a56-985a-6716dfc02c05",
   "metadata": {},
   "outputs": [],
   "source": [
    "# Get input from the user for temperature in Celsius"
   ]
  },
  {
   "cell_type": "code",
   "execution_count": 12,
   "id": "7b4f4c43-55e0-495b-908f-63c1130a91f0",
   "metadata": {},
   "outputs": [
    {
     "name": "stdin",
     "output_type": "stream",
     "text": [
      "Enter the temperature in Celsius:  32\n"
     ]
    }
   ],
   "source": [
    "celsius = float(input(\"Enter the temperature in Celsius: \"))"
   ]
  },
  {
   "cell_type": "code",
   "execution_count": 13,
   "id": "7c812728-33a6-42bb-988d-b2c02e988ea4",
   "metadata": {},
   "outputs": [],
   "source": [
    "# Convert Celsius to Fahrenheit formula"
   ]
  },
  {
   "cell_type": "code",
   "execution_count": 14,
   "id": "cb1d0124-e470-4ebc-8cb1-f85dd611dec4",
   "metadata": {},
   "outputs": [],
   "source": [
    "fahrenheit = (celsius * 9/5) + 32"
   ]
  },
  {
   "cell_type": "code",
   "execution_count": 15,
   "id": "6afda33c-cbb1-4d6f-9c31-bed3499e54f3",
   "metadata": {},
   "outputs": [],
   "source": [
    "# Display the result"
   ]
  },
  {
   "cell_type": "code",
   "execution_count": 16,
   "id": "50ab9f78-2f9b-4b3c-b426-1de9236dee15",
   "metadata": {},
   "outputs": [
    {
     "name": "stdout",
     "output_type": "stream",
     "text": [
      "32.0 degree is equal to the 89.6 degree fahrenheit\n"
     ]
    }
   ],
   "source": [
    "print(f\"{celsius} degree is equal to the {fahrenheit} degree fahrenheit\")"
   ]
  },
  {
   "cell_type": "markdown",
   "id": "13928b3b-e891-4378-ae58-d17756104b41",
   "metadata": {},
   "source": [
    "### String based questions"
   ]
  },
  {
   "cell_type": "markdown",
   "id": "ca8ea0d6-40f5-494d-b720-9c91b0bd1818",
   "metadata": {},
   "source": [
    "### 1.Write a Python program that takes a string as input and prints the length of\n",
    "the string."
   ]
  },
  {
   "cell_type": "code",
   "execution_count": 1,
   "id": "ec3c4b5d-1af5-4a51-aa9d-5875465bc13b",
   "metadata": {},
   "outputs": [],
   "source": [
    "# take input from the user for string"
   ]
  },
  {
   "cell_type": "code",
   "execution_count": 2,
   "id": "18cd980f-da0c-40fa-b4ea-500595d92d10",
   "metadata": {},
   "outputs": [
    {
     "name": "stdin",
     "output_type": "stream",
     "text": [
      "Enter a string: Hello pwskills\n"
     ]
    }
   ],
   "source": [
    "user = input(\"Enter a string:\")"
   ]
  },
  {
   "cell_type": "code",
   "execution_count": 3,
   "id": "ff344f91-50b4-42db-bb58-02b1a3fd5e7e",
   "metadata": {},
   "outputs": [],
   "source": [
    "# calculate length of string"
   ]
  },
  {
   "cell_type": "code",
   "execution_count": 9,
   "id": "e0cc2ad9-e0b1-4ec5-9520-91f50bf6129a",
   "metadata": {},
   "outputs": [],
   "source": [
    " str =len(user)"
   ]
  },
  {
   "cell_type": "code",
   "execution_count": 5,
   "id": "60adffc1-c727-4cba-b5ee-2dcb9d9b4ed3",
   "metadata": {},
   "outputs": [],
   "source": [
    "# Display the result"
   ]
  },
  {
   "cell_type": "code",
   "execution_count": 11,
   "id": "0bd58def-f9c8-4c1e-904b-5440eeb6aa7a",
   "metadata": {},
   "outputs": [
    {
     "name": "stdout",
     "output_type": "stream",
     "text": [
      "The length of string is:14\n"
     ]
    }
   ],
   "source": [
    "print(f\"The length of string is:{str}\")"
   ]
  },
  {
   "cell_type": "markdown",
   "id": "2b285895-1438-4f8a-9f73-9c5dd88b5814",
   "metadata": {},
   "source": [
    "### Create a program that takes a sentence from the user and counts the number\n",
    "of vowels (a, e, i, o, u) in the string."
   ]
  },
  {
   "cell_type": "code",
   "execution_count": null,
   "id": "21236986-5b23-4cf1-a2a7-5dbd83ed9416",
   "metadata": {},
   "outputs": [],
   "source": [
    "# take input from the user for a sentence"
   ]
  },
  {
   "cell_type": "code",
   "execution_count": 17,
   "id": "bf92f28e-5627-45e3-8022-1d9f1b270b31",
   "metadata": {},
   "outputs": [
    {
     "name": "stdin",
     "output_type": "stream",
     "text": [
      "Enter a sentence: hello pw slills how are you\n"
     ]
    }
   ],
   "source": [
    "Sentence = input(\"Enter a sentence:\")"
   ]
  },
  {
   "cell_type": "code",
   "execution_count": 13,
   "id": "7992f67e-c981-414f-b95e-b3ac3e0bdf60",
   "metadata": {},
   "outputs": [],
   "source": []
  },
  {
   "cell_type": "code",
   "execution_count": 18,
   "id": "01ed8a66-9b88-47ad-b772-8f7243db6b4f",
   "metadata": {},
   "outputs": [],
   "source": [
    "#  Initialize a variable to count the number of vowels\n",
    "# initialize a variable a,e,i,o,u\n",
    "vowel_count = 0"
   ]
  },
  {
   "cell_type": "code",
   "execution_count": 19,
   "id": "f5fa2989-312d-458c-bc97-41dca13f7e23",
   "metadata": {},
   "outputs": [],
   "source": [
    "# loop through each character in the sentence check"
   ]
  },
  {
   "cell_type": "code",
   "execution_count": 20,
   "id": "7b923b01-ca7f-4eb4-a990-b522da974aff",
   "metadata": {},
   "outputs": [],
   "source": [
    "for i in Sentence:\n",
    "     if(i=='a' or i=='e' or i=='i' or i=='o' or i=='u' or i=='A' or i=='E' or i=='I' or i=='O' or i=='U'):\n",
    "            vowel_count=vowel_count+1"
   ]
  },
  {
   "cell_type": "code",
   "execution_count": 21,
   "id": "f96743a9-7321-4b03-918f-9037887aaefe",
   "metadata": {},
   "outputs": [],
   "source": [
    "# Display the result"
   ]
  },
  {
   "cell_type": "code",
   "execution_count": 22,
   "id": "8dc1ac34-dd27-498c-8aab-f15e30189521",
   "metadata": {},
   "outputs": [
    {
     "name": "stdout",
     "output_type": "stream",
     "text": [
      "Number of vowels are:8\n"
     ]
    }
   ],
   "source": [
    "print(f\"Number of vowels are:{vowel_count}\")"
   ]
  },
  {
   "cell_type": "markdown",
   "id": "f3cfafc7-7c6d-4a5a-8c1d-6affe9c60286",
   "metadata": {},
   "source": [
    "### 3.Given a string, reverse the order of characters using string slicing and print\n",
    "the reversed string."
   ]
  },
  {
   "cell_type": "code",
   "execution_count": null,
   "id": "ff0590e8-45fd-46e6-8bda-fe96d68cae82",
   "metadata": {},
   "outputs": [],
   "source": [
    "# take the input from the user for string"
   ]
  },
  {
   "cell_type": "code",
   "execution_count": 23,
   "id": "9dc58107-5cb9-44e7-b02d-30603ce4b1b4",
   "metadata": {},
   "outputs": [
    {
     "name": "stdin",
     "output_type": "stream",
     "text": [
      "enter a original string: hello pwskills\n"
     ]
    }
   ],
   "source": [
    "string = input(\"enter a original string:\")"
   ]
  },
  {
   "cell_type": "code",
   "execution_count": 31,
   "id": "5760760e-28a4-4957-9107-f0508bcc98f2",
   "metadata": {},
   "outputs": [],
   "source": [
    "# Use string slicing to reverse the string"
   ]
  },
  {
   "cell_type": "code",
   "execution_count": 26,
   "id": "13f27be7-d908-4dba-932c-66d7f0fa7568",
   "metadata": {},
   "outputs": [],
   "source": [
    "reversed_string = string[::-1]"
   ]
  },
  {
   "cell_type": "code",
   "execution_count": 27,
   "id": "b58db4b3-1c36-4cd1-98a4-a9f7c7d2fc3f",
   "metadata": {},
   "outputs": [],
   "source": [
    "# display the result"
   ]
  },
  {
   "cell_type": "code",
   "execution_count": 28,
   "id": "2bb1c7dc-4a9f-41ac-a6f6-9978c0d98588",
   "metadata": {},
   "outputs": [
    {
     "name": "stdout",
     "output_type": "stream",
     "text": [
      "original string: hello pwskills\n",
      "reversed string: sllikswp olleh\n"
     ]
    }
   ],
   "source": [
    "print(f\"original string: {string}\")\n",
    "print(f\"reversed string: {reversed_string}\")"
   ]
  },
  {
   "cell_type": "markdown",
   "id": "43b869d3-521b-4773-8680-afc43df4e6ca",
   "metadata": {},
   "source": [
    "### 4.Write a program that takes a string as input and checks if it is a palindrome\n",
    "(reads the same forwards and backwards)."
   ]
  },
  {
   "cell_type": "code",
   "execution_count": 29,
   "id": "6015ccf4-e4b7-4cef-94f4-f06bc322b9ea",
   "metadata": {},
   "outputs": [],
   "source": [
    "# take input fro the user as string"
   ]
  },
  {
   "cell_type": "code",
   "execution_count": 47,
   "id": "c6c1041a-f301-43e7-8b58-8b8b6987ad04",
   "metadata": {},
   "outputs": [
    {
     "name": "stdin",
     "output_type": "stream",
     "text": [
      "enter a original string: abba\n"
     ]
    }
   ],
   "source": [
    "original_string = input(\"enter a original string:\")"
   ]
  },
  {
   "cell_type": "code",
   "execution_count": 32,
   "id": "421fd97a-e254-48fe-b590-52f82c195676",
   "metadata": {},
   "outputs": [],
   "source": [
    "# use string slicing to reverse the string"
   ]
  },
  {
   "cell_type": "code",
   "execution_count": 51,
   "id": "d364329f-077e-4c61-bd3d-27ded01c7e6e",
   "metadata": {},
   "outputs": [],
   "source": [
    "reversed_string = original_string[::-1]"
   ]
  },
  {
   "cell_type": "code",
   "execution_count": 34,
   "id": "9e857cdc-8bdb-42ae-970d-1fb882188a15",
   "metadata": {},
   "outputs": [],
   "source": [
    "# check the string is palindrome or not"
   ]
  },
  {
   "cell_type": "code",
   "execution_count": 52,
   "id": "c1351c30-7235-4f4c-9df4-15f6bf154b63",
   "metadata": {},
   "outputs": [],
   "source": [
    "is_palindrome = original_string == reversed_string\n"
   ]
  },
  {
   "cell_type": "code",
   "execution_count": 37,
   "id": "18bee4d1-2fcb-4a47-ba4e-514c8f5d18e1",
   "metadata": {},
   "outputs": [],
   "source": [
    "#display the result"
   ]
  },
  {
   "cell_type": "code",
   "execution_count": 53,
   "id": "78208e57-cf54-49bc-92cf-952d8a22dc14",
   "metadata": {},
   "outputs": [
    {
     "name": "stdout",
     "output_type": "stream",
     "text": [
      "The string is palindrome\n"
     ]
    }
   ],
   "source": [
    "if is_palindrome:\n",
    "    print(\"The string is palindrome\")\n",
    "else:\n",
    "    print(\"The string is not palindrome\")\n",
    "   \n"
   ]
  },
  {
   "cell_type": "markdown",
   "id": "9643e199-589f-4c33-81ce-d5c2e613d39f",
   "metadata": {},
   "source": [
    "### 5.Create a program that takes a string as input and removes all the spaces from\n",
    "it. Print the modified string without spaces."
   ]
  },
  {
   "cell_type": "code",
   "execution_count": null,
   "id": "0ef0bfbf-9741-4011-aaac-2250cf13e5aa",
   "metadata": {},
   "outputs": [],
   "source": [
    "# take as input from the user as string"
   ]
  },
  {
   "cell_type": "code",
   "execution_count": 54,
   "id": "ba571bcb-e84d-4ad1-b5cb-08a35e80e5af",
   "metadata": {},
   "outputs": [
    {
     "name": "stdin",
     "output_type": "stream",
     "text": [
      "Enter a string hello world\n"
     ]
    }
   ],
   "source": [
    "original_string = input(\"Enter a string\")"
   ]
  },
  {
   "cell_type": "code",
   "execution_count": 55,
   "id": "e833d157-c389-4f27-9d8b-e5a859064c3e",
   "metadata": {},
   "outputs": [],
   "source": [
    "# remove spaces from the string"
   ]
  },
  {
   "cell_type": "code",
   "execution_count": 56,
   "id": "fcbe9bf8-5453-4fcd-b1a5-b5e3588c2e86",
   "metadata": {},
   "outputs": [],
   "source": [
    "string_without_spaces = original_string.replace(\" \", \"\")"
   ]
  },
  {
   "cell_type": "code",
   "execution_count": 57,
   "id": "ee4fb7fd-309b-4ee3-b29f-cb34b51bc00e",
   "metadata": {},
   "outputs": [],
   "source": [
    "#display the result"
   ]
  },
  {
   "cell_type": "code",
   "execution_count": 58,
   "id": "6e31c8bc-19d7-496e-9fa2-de68db7f6a4f",
   "metadata": {},
   "outputs": [
    {
     "name": "stdout",
     "output_type": "stream",
     "text": [
      "original string is:hello world\n",
      "string without spaces is:helloworld\n"
     ]
    }
   ],
   "source": [
    "print(f\"original string is:{original_string}\")\n",
    "print(f\"string without spaces is:{string_without_spaces}\")"
   ]
  },
  {
   "cell_type": "code",
   "execution_count": null,
   "id": "c0b3e0c2-91d5-4eba-88f5-d648c5a44f96",
   "metadata": {},
   "outputs": [],
   "source": []
  }
 ],
 "metadata": {
  "kernelspec": {
   "display_name": "Python 3 (ipykernel)",
   "language": "python",
   "name": "python3"
  },
  "language_info": {
   "codemirror_mode": {
    "name": "ipython",
    "version": 3
   },
   "file_extension": ".py",
   "mimetype": "text/x-python",
   "name": "python",
   "nbconvert_exporter": "python",
   "pygments_lexer": "ipython3",
   "version": "3.10.8"
  }
 },
 "nbformat": 4,
 "nbformat_minor": 5
}
