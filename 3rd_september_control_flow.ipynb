{
 "cells": [
  {
   "cell_type": "markdown",
   "id": "998734db-8804-4aa8-a1e1-63c585fb1671",
   "metadata": {},
   "source": [
    "### Basic If-Else Statements:"
   ]
  },
  {
   "cell_type": "markdown",
   "id": "ae01cfa8-adfa-4ee1-907f-969ff952ccc3",
   "metadata": {},
   "source": [
    "### 1.Write a Python program to check if a given number is positive or negative."
   ]
  },
  {
   "cell_type": "code",
   "execution_count": 8,
   "id": "dff5d772-2a3f-4e49-b04c-bf3c7547e96b",
   "metadata": {},
   "outputs": [
    {
     "name": "stdin",
     "output_type": "stream",
     "text": [
      "enter a number: -98\n"
     ]
    },
    {
     "name": "stdout",
     "output_type": "stream",
     "text": [
      "number is negative\n"
     ]
    }
   ],
   "source": [
    "# given a input\n",
    "num = int(input(\"enter a number:\"))\n",
    "# check the condition number is positive \n",
    "if(num > 0):\n",
    "    # if yes number is positive then print\n",
    "    print(f\"number is positive\")\n",
    "    # check number is 0\n",
    "elif(num == 0):\n",
    "    print(f\"number is zero\")\n",
    "else:\n",
    "    # otherwise print number is negative \n",
    "    print(f\"number is negative\")\n",
    "    \n",
    "          "
   ]
  },
  {
   "cell_type": "markdown",
   "id": "e821ab7c-6fe9-460e-9e5a-c4db355f9484",
   "metadata": {},
   "source": [
    "### 2.Create a program that determines if a person is eligible to vote based on their age."
   ]
  },
  {
   "cell_type": "code",
   "execution_count": 10,
   "id": "0e11b2d1-ddfb-4581-b764-aa2621981710",
   "metadata": {},
   "outputs": [
    {
     "name": "stdin",
     "output_type": "stream",
     "text": [
      "enter age: 3\n"
     ]
    },
    {
     "name": "stdout",
     "output_type": "stream",
     "text": [
      "not eligible for vote\n"
     ]
    }
   ],
   "source": [
    "# given a input age\n",
    "age = int(input(\"enter age:\"))\n",
    "# check the condition \n",
    "if(age >= 18):\n",
    "    # if yes then print eligible for vote\n",
    "    print(f\"eligible for vote\")\n",
    "else:\n",
    "    # otherwise not eligible for vote \n",
    "    print(f\"not eligible for vote\")\n",
    "    \n",
    "      "
   ]
  },
  {
   "cell_type": "markdown",
   "id": "e97dadb1-9bb2-4111-9396-f8ce529ae082",
   "metadata": {},
   "source": [
    "### 3. Develop a program to find the maximum of two numbers using if-else statements."
   ]
  },
  {
   "cell_type": "code",
   "execution_count": 2,
   "id": "66a5e6c4-2da6-4dd6-a580-011b1a085ee8",
   "metadata": {},
   "outputs": [
    {
     "name": "stdin",
     "output_type": "stream",
     "text": [
      "enter a number1: 23\n",
      "enter a number2: 32\n"
     ]
    },
    {
     "name": "stdout",
     "output_type": "stream",
     "text": [
      "number2 is maximum\n"
     ]
    }
   ],
   "source": [
    "# given an input\n",
    "number1 = int(input(\"enter a number1:\"))\n",
    "number2 = int(input(\"enter a number2:\"))\n",
    "# check the condition\n",
    "if(number1 > number2):\n",
    "    # if yes \n",
    "    print(f\"nummber1 is maximum\")\n",
    "else:\n",
    "    #otherwise num2 is grater\n",
    "    print(f\"number2 is maximum\")\n",
    "    \n",
    "          "
   ]
  },
  {
   "cell_type": "markdown",
   "id": "0d051c4d-9b8e-47df-8ad8-cf2b299f797a",
   "metadata": {},
   "source": [
    "### 4. Write a Python script to classify a given year as a leap year or not."
   ]
  },
  {
   "cell_type": "code",
   "execution_count": 11,
   "id": "644af690-971d-4c34-8198-52bd1e469e8d",
   "metadata": {},
   "outputs": [
    {
     "name": "stdin",
     "output_type": "stream",
     "text": [
      "enter a year 2021\n"
     ]
    },
    {
     "name": "stdout",
     "output_type": "stream",
     "text": [
      "year is not leap year\n"
     ]
    }
   ],
   "source": [
    "# given a year\n",
    "year = int(input(\"enter a year\"))\n",
    "# check the condition\n",
    "if(year % 4==0):\n",
    "    # if yes \n",
    "    print(f\"year is leap year\")\n",
    "else:\n",
    "    #otherwise \n",
    "    print(f\"year is not leap year\")\n",
    "    \n",
    "          "
   ]
  },
  {
   "cell_type": "markdown",
   "id": "e60c126b-50d9-4c96-b600-672b9a20bd12",
   "metadata": {},
   "source": [
    "### 5. Create a program that checks whether a character is a vowel or a consonant."
   ]
  },
  {
   "cell_type": "code",
   "execution_count": 1,
   "id": "e0496349-f908-4f02-bfb0-8956cdc07260",
   "metadata": {},
   "outputs": [
    {
     "name": "stdin",
     "output_type": "stream",
     "text": [
      "enter a character: u\n"
     ]
    },
    {
     "name": "stdout",
     "output_type": "stream",
     "text": [
      "character is vowel\n"
     ]
    }
   ],
   "source": [
    "def check_char_type(char):\n",
    "     char = char.lower()\n",
    "# given a character\n",
    "char = (input(\"enter a character:\"))\n",
    "# check the condition\n",
    "if char == 'a'or char == 'e' or char == 'i' or char=='o' or char=='u':\n",
    "    # if yes \n",
    "    print(f\"character is vowel\")\n",
    "else:\n",
    "    #otherwise \n",
    "    print(f\"character is constant\")\n",
    "    "
   ]
  },
  {
   "cell_type": "markdown",
   "id": "7c41a28e-cd08-485d-aaea-0d8252cbb5cb",
   "metadata": {},
   "source": [
    "### 6.Implement a program to determine whether a given number is even or odd."
   ]
  },
  {
   "cell_type": "code",
   "execution_count": 2,
   "id": "84f98395-1a64-44e8-b044-e6fa899f7335",
   "metadata": {},
   "outputs": [
    {
     "name": "stdin",
     "output_type": "stream",
     "text": [
      "enter a number: 43\n"
     ]
    },
    {
     "name": "stdout",
     "output_type": "stream",
     "text": [
      "number is Odd\n"
     ]
    }
   ],
   "source": [
    "# given a input\n",
    "num = int(input(\"enter a number:\"))\n",
    "# check the condition number is even\n",
    "if(num % 2 == 0):\n",
    "    # if yes then print\n",
    "    print(f\"number is Even\")\n",
    "else:\n",
    "    # otherwise print number is odd\n",
    "    print(f\"number is Odd\")\n",
    "    "
   ]
  },
  {
   "cell_type": "markdown",
   "id": "dcf2d85b-c965-4fb5-9320-770d934c1eb1",
   "metadata": {},
   "source": [
    "### 7.Write a Python function to calculate the absolute value of a number without using the `abs()` function."
   ]
  },
  {
   "cell_type": "code",
   "execution_count": 4,
   "id": "7003d348-adab-4bcc-ba88-0a457eed2a90",
   "metadata": {},
   "outputs": [
    {
     "name": "stdin",
     "output_type": "stream",
     "text": [
      "Enter a number:  54\n"
     ]
    },
    {
     "name": "stdout",
     "output_type": "stream",
     "text": [
      "The absolute value of 54.0 is: 54.0\n"
     ]
    }
   ],
   "source": [
    "def absolute_value(number):\n",
    "    # Check if the number is negative\n",
    "    if number < 0:\n",
    "        # If negative, negate the number to make it positive\n",
    "        absolute_result = -number\n",
    "    else:\n",
    "        # If non-negative, the number is already positive\n",
    "        absolute_result = number\n",
    "\n",
    "    return absolute_result\n",
    "\n",
    "# taking input\n",
    "user_input = float(input(\"Enter a number: \"))\n",
    "\n",
    "result = absolute_value(user_input)\n",
    "print(f\"The absolute value of {user_input} is: {result}\")\n"
   ]
  },
  {
   "cell_type": "markdown",
   "id": "208ce606-d8ea-4ead-b006-94a72e6d8b46",
   "metadata": {},
   "source": [
    "### 8.Develop a program that determines the largest of three given numbers using if-else statements."
   ]
  },
  {
   "cell_type": "code",
   "execution_count": null,
   "id": "a7167d6d-c913-4667-8232-a5240c47d336",
   "metadata": {},
   "outputs": [],
   "source": [
    "##### taking an input\n",
    "number1 = int(input(\"enter a number1:\"))\n",
    "number2 = int(input(\"enter a number2:\"))\n",
    "number3 = int(input(\"enter a number3:\"))\n",
    "# check the condition\n",
    "if number1 > number2 & number1 > number3:\n",
    "    # if yes \n",
    "    print(f\"nummber1 is largest number\")\n",
    "elif number2 > number1 & number2 > number3:\n",
    "    #if yes\n",
    "    print(f\"number2 is largest number\")\n",
    "    \n",
    "else:\n",
    "    print(f\"number3 is largest number\")\n",
    "    \n",
    "    "
   ]
  },
  {
   "cell_type": "markdown",
   "id": "6c5b3ca0-2602-4bb5-9edf-2a80aaafa5d3",
   "metadata": {},
   "source": [
    "### 9.Create a program that checks if a given string is a palindrome."
   ]
  },
  {
   "cell_type": "code",
   "execution_count": null,
   "id": "a6a2b97a-62e4-4581-88f9-2d9ecab3e0b7",
   "metadata": {},
   "outputs": [],
   "source": [
    "def is_palindrome(input_str):\n",
    "    # Remove spaces and convert to lowercase for case-insensitive comparison\n",
    "    cleaned_str = ''.join(input_str.split()).lower()\n",
    "\n",
    "    # Check if the cleaned string is the same in reverse\n",
    "    if cleaned_str == cleaned_str[::-1]:\n",
    "        return True\n",
    "    else:\n",
    "        return False\n",
    "\n",
    "# taking input\n",
    "user_input = input(\"Enter a string: \")\n",
    "\n",
    "if is_palindrome(user_input):\n",
    "    print(f'{user_input} is a palindrome.')\n",
    "else:\n",
    "    print(f'{user_input} is not a palindrome.')\n"
   ]
  },
  {
   "cell_type": "markdown",
   "id": "12700229-c31e-40d5-8ee0-d432e7dda1d3",
   "metadata": {},
   "source": [
    "### 10. Write a Python program to calculate the grade based on a student's score."
   ]
  },
  {
   "cell_type": "code",
   "execution_count": 10,
   "id": "f282cb86-ef36-4b1e-8044-b0d550728bd0",
   "metadata": {},
   "outputs": [
    {
     "name": "stdin",
     "output_type": "stream",
     "text": [
      "enter a marks: 78\n"
     ]
    },
    {
     "name": "stdout",
     "output_type": "stream",
     "text": [
      "marks is grade C\n"
     ]
    }
   ],
   "source": [
    "# taking a input marks\n",
    "marks = int(input(\"enter a marks:\"))\n",
    "# check the condition\n",
    "if(marks >= 90):\n",
    "    # if yes \n",
    "    print(f\"marks is grade A\")\n",
    "    # check condition\n",
    "elif(marks >=80):\n",
    "     # check condition\n",
    "    print(f\"marks is grade B\")\n",
    "elif marks >=70 :\n",
    "    \n",
    "     # check condition\n",
    "    print(f\"marks is grade C\")\n",
    "elif(marks >=60):\n",
    "     # check condition\n",
    "    print(f\"marks is grade D\")\n",
    "else:\n",
    "    # otherwise\n",
    "    print(f\"fail\")\n",
    "    \n",
    "      "
   ]
  },
  {
   "cell_type": "markdown",
   "id": "057abab2-2a55-4328-976f-6d26c3636008",
   "metadata": {},
   "source": [
    "### Nested If-Else Statements:"
   ]
  },
  {
   "cell_type": "markdown",
   "id": "e8eae684-8963-4928-849f-a79112285231",
   "metadata": {},
   "source": [
    "### 11. Write a program to find the largest among three numbers using nested if-else statements."
   ]
  },
  {
   "cell_type": "code",
   "execution_count": 1,
   "id": "4d6a994c-3abc-4027-9b2b-4e39a8a8a447",
   "metadata": {},
   "outputs": [
    {
     "name": "stdin",
     "output_type": "stream",
     "text": [
      "Enter the first number:  43\n",
      "Enter the second number:  42\n",
      "Enter the third number:  56\n"
     ]
    },
    {
     "name": "stdout",
     "output_type": "stream",
     "text": [
      "The largest number among 43.0 , 42.0 and 56.0 is: 56.0\n"
     ]
    }
   ],
   "source": [
    "# Taking input from the user\n",
    "num1 = float(input(\"Enter the first number: \"))\n",
    "num2 = float(input(\"Enter the second number: \"))\n",
    "num3 = float(input(\"Enter the third number: \"))\n",
    "\n",
    "# Using nested if-else statements to find the largest number\n",
    "if num1 >= num2:\n",
    "    if num1 >= num3:\n",
    "        largest = num1\n",
    "    else:\n",
    "        largest = num3\n",
    "else:\n",
    "    if num2 >= num3:\n",
    "        largest = num2\n",
    "    else:\n",
    "        largest = num3\n",
    "\n",
    "# Displaying the result\n",
    "print(\"The largest number among\", num1, \",\", num2, \"and\", num3, \"is:\", largest)\n"
   ]
  },
  {
   "cell_type": "markdown",
   "id": "89d060d4-ee3b-43e2-95c6-ca1472820251",
   "metadata": {},
   "source": [
    "### 12. Implement a program to determine if a triangle is equilateral, isosceles, or scalene."
   ]
  },
  {
   "cell_type": "code",
   "execution_count": 2,
   "id": "b720b596-01e9-4aa8-847d-b8f3da2ce222",
   "metadata": {},
   "outputs": [
    {
     "name": "stdin",
     "output_type": "stream",
     "text": [
      "Enter the length of the first side:  45\n",
      "Enter the length of the second side:  45\n",
      "Enter the length of the third side:  45\n"
     ]
    },
    {
     "name": "stdout",
     "output_type": "stream",
     "text": [
      "The triangle is a Equilateral triangle.\n"
     ]
    }
   ],
   "source": [
    "# Taking input from the user for the lengths of the sides\n",
    "side1 = float(input(\"Enter the length of the first side: \"))\n",
    "side2 = float(input(\"Enter the length of the second side: \"))\n",
    "side3 = float(input(\"Enter the length of the third side: \"))\n",
    "\n",
    "# Checking the type of triangle using nested if-else statements\n",
    "if side1 == side2:\n",
    "    if side2 == side3:\n",
    "        triangle_type = \"Equilateral\"\n",
    "    else:\n",
    "        triangle_type = \"Isosceles\"\n",
    "elif side2 == side3:\n",
    "    triangle_type = \"Isosceles\"\n",
    "elif side1 == side3:\n",
    "    triangle_type = \"Isosceles\"\n",
    "else:\n",
    "    triangle_type = \"Scalene\"\n",
    "\n",
    "# Displaying the result\n",
    "print(\"The triangle is a\", triangle_type, \"triangle.\")\n"
   ]
  },
  {
   "cell_type": "markdown",
   "id": "274c47b5-6a6c-4ff5-9f03-8cece0410289",
   "metadata": {},
   "source": [
    "### 13. Develop a program that checks if a year is a leap year and also if it is a century year."
   ]
  },
  {
   "cell_type": "code",
   "execution_count": 3,
   "id": "d030c400-0ad4-4d9e-852c-b83218580608",
   "metadata": {},
   "outputs": [
    {
     "name": "stdin",
     "output_type": "stream",
     "text": [
      "Enter a year:  2024\n"
     ]
    },
    {
     "name": "stdout",
     "output_type": "stream",
     "text": [
      "2024 is a leap year\n"
     ]
    }
   ],
   "source": [
    "# Taking input \n",
    "year = int(input(\"Enter a year: \"))\n",
    "\n",
    "# Checking if it is a leap year\n",
    "if year % 4 == 0:\n",
    "    if year % 100 == 0:\n",
    "        # It's a century year\n",
    "        if year % 400 == 0:\n",
    "            leap_year = True\n",
    "        else:\n",
    "            leap_year = False\n",
    "    else:\n",
    "        leap_year = True\n",
    "else:\n",
    "    leap_year = False\n",
    "\n",
    "# Displaying the result\n",
    "if leap_year:\n",
    "    print(f\"{year} is a leap year\")\n",
    "    if year % 100 == 0:\n",
    "        print(f\"{year} is also a century year\")\n",
    "else:\n",
    "    print(f\"{year} is not a leap year\")\n"
   ]
  },
  {
   "cell_type": "markdown",
   "id": "ecb8aaa6-a5c1-4879-b122-79444ba274ae",
   "metadata": {},
   "source": [
    "### 14. Write a Python script to determine if a number is positive, negative, or zero."
   ]
  },
  {
   "cell_type": "code",
   "execution_count": 11,
   "id": "1ce7a9a9-93c2-448b-a969-d3e5424e8280",
   "metadata": {},
   "outputs": [
    {
     "name": "stdin",
     "output_type": "stream",
     "text": [
      "Enter a number:  0\n"
     ]
    },
    {
     "name": "stdout",
     "output_type": "stream",
     "text": [
      "The number is zero.\n"
     ]
    }
   ],
   "source": [
    "# Taking input from the user for the number\n",
    "number = float(input(\"Enter a number: \"))\n",
    "\n",
    "# Checking if the number is positive, negative, or zero \n",
    "if number > 0:\n",
    "    print(f\"{number} is a positive number.\")\n",
    "else:\n",
    "    if number < 0:\n",
    "        print(f\"{number} is a negative number.\")\n",
    "    else:\n",
    "        print(\"The number is zero.\")\n"
   ]
  },
  {
   "cell_type": "markdown",
   "id": "bd4648ad-4217-4de2-bca5-8041e21a9648",
   "metadata": {},
   "source": [
    "### 15. Create a program to check if a person is a teenager (between 13 and 19 years old)."
   ]
  },
  {
   "cell_type": "code",
   "execution_count": 21,
   "id": "eb712625-c135-4923-9a70-d47d4d70470d",
   "metadata": {},
   "outputs": [
    {
     "name": "stdin",
     "output_type": "stream",
     "text": [
      "Enter a age:  18\n"
     ]
    },
    {
     "name": "stdout",
     "output_type": "stream",
     "text": [
      "person is teenager\n"
     ]
    }
   ],
   "source": [
    "# Taking input from the user\n",
    "age = int(input(\"Enter a age: \"))\n",
    "\n",
    "# Checking the person is teenager\n",
    "if age >= 13:\n",
    "    if age <= 19:\n",
    "        print(f\"person is teenager\")\n",
    "    else:\n",
    "        print(f\"person is older\")\n",
    "else:\n",
    "    print(f\"person is not teenager\")"
   ]
  },
  {
   "cell_type": "markdown",
   "id": "bd304aa6-2799-4f2a-b1b4-1a263af6f883",
   "metadata": {},
   "source": [
    "### 16. Develop a program that determines the type of angle based on its measure (acute, obtuse, or right)."
   ]
  },
  {
   "cell_type": "code",
   "execution_count": 23,
   "id": "3d70f16b-873a-4d7d-9ded-61beb9317872",
   "metadata": {},
   "outputs": [
    {
     "name": "stdin",
     "output_type": "stream",
     "text": [
      "Enter the measure of the angle (in degrees):  92\n"
     ]
    },
    {
     "name": "stdout",
     "output_type": "stream",
     "text": [
      "The angle with measure 92.0 degrees is a Obtuse angle.\n"
     ]
    }
   ],
   "source": [
    "# Taking input \n",
    "angle_measure = float(input(\"Enter the measure of the angle (in degrees): \"))\n",
    "\n",
    "# Checking the type of angle based on its measure\n",
    "if angle_measure > 0 and angle_measure < 90:\n",
    "    angle_type = \"Acute\"\n",
    "elif angle_measure == 90:\n",
    "    angle_type = \"Right\"\n",
    "elif angle_measure > 90 and angle_measure < 180:\n",
    "    angle_type = \"Obtuse\"\n",
    "else:\n",
    "    angle_type = \"Invalid\"\n",
    "\n",
    "# print the result\n",
    "if angle_type == \"Invalid\":\n",
    "    print(\"Invalid angle measure. Please enter a valid angle measure.\")\n",
    "else:\n",
    "    print(f\"The angle with measure {angle_measure} degrees is a {angle_type} angle.\")\n"
   ]
  },
  {
   "cell_type": "markdown",
   "id": "db5ad239-ff2b-48de-bff5-70f1677637ab",
   "metadata": {},
   "source": [
    "### 17. Write a Python program to calculate the roots of a quadratic equation."
   ]
  },
  {
   "cell_type": "code",
   "execution_count": 1,
   "id": "1b81d7ee-066f-4594-95bc-efc07893ccf2",
   "metadata": {},
   "outputs": [
    {
     "name": "stdin",
     "output_type": "stream",
     "text": [
      "Enter the coefficient 'a':  4\n",
      "Enter the coefficient 'b':  3\n",
      "Enter the coefficient 'c':  2\n"
     ]
    },
    {
     "name": "stdout",
     "output_type": "stream",
     "text": [
      "The roots of the quadratic equation are complex conjugates: (-0.375+0.5994789404140899j) and (-0.375-0.5994789404140899j)\n"
     ]
    }
   ],
   "source": [
    " import cmath \n",
    "# Importing the cmath module for handling complex numbers\n",
    "\n",
    "# Taking input from the user\n",
    "a = float(input(\"Enter the coefficient 'a': \"))\n",
    "b = float(input(\"Enter the coefficient 'b': \"))\n",
    "c = float(input(\"Enter the coefficient 'c': \"))\n",
    "\n",
    "# Calculating the discriminant\n",
    "discriminant = b**2 - 4*a*c\n",
    "\n",
    "# Calculating the roots based on the discriminant\n",
    "if discriminant > 0:\n",
    "    root1 = (-b + (discriminant**0.5)) / (2*a)\n",
    "    root2 = (-b - (discriminant**0.5)) / (2*a)\n",
    "    print(f\"The roots of the quadratic equation are real and distinct: {root1} and {root2}\")\n",
    "elif discriminant == 0:\n",
    "    root = -b / (2*a)\n",
    "    print(f\"The roots of the quadratic equation are real and identical: {root}\")\n",
    "else:\n",
    "    # If the discriminant is negative, roots are complex conjugates\n",
    "    real_part = -b / (2*a)\n",
    "    imaginary_part = (abs(discriminant)**0.5) / (2*a)\n",
    "    root1 = complex(real_part, imaginary_part)\n",
    "    root2 = complex(real_part, -imaginary_part)\n",
    "    print(f\"The roots of the quadratic equation are complex conjugates: {root1} and {root2}\")\n"
   ]
  },
  {
   "cell_type": "markdown",
   "id": "af205b83-7e1c-483e-9d5d-65cd9114f85e",
   "metadata": {},
   "source": [
    "### 18. Implement a program to determine the day of the week based on a user-provided number (1 for Monday, 2\n",
    "for Tuesday, etc.)."
   ]
  },
  {
   "cell_type": "code",
   "execution_count": 3,
   "id": "c23bc0d6-a648-4daf-bba9-a562c1c318bf",
   "metadata": {},
   "outputs": [
    {
     "name": "stdin",
     "output_type": "stream",
     "text": [
      "Enter a number:  45\n"
     ]
    },
    {
     "name": "stdout",
     "output_type": "stream",
     "text": [
      "The day corresponding to the number 45 is: Invalid input. Please enter a number between 1 and 7.\n"
     ]
    }
   ],
   "source": [
    "# Taking input \n",
    "day_number = int(input(\"Enter a number: \"))\n",
    "\n",
    "# Checking the day \n",
    "if day_number == 1:\n",
    "    day_name = \"Monday\"\n",
    "elif day_number == 2:\n",
    "    day_name = \"Tuesday\"\n",
    "elif day_number == 3:\n",
    "    day_name = \"Wednesday\"\n",
    "elif day_number == 4:\n",
    "    day_name = \"Thursday\"\n",
    "elif day_number == 5:\n",
    "    day_name = \"Friday\"\n",
    "elif day_number == 6:\n",
    "    day_name = \"Saturday\"\n",
    "elif day_number == 7:\n",
    "    day_name = \"Sunday\"\n",
    "else:\n",
    "    day_name = \"Invalid input. Please enter a number between 1 and 7.\"\n",
    "\n",
    "# print the result\n",
    "print(f\"The day corresponding to the number {day_number} is: {day_name}\")\n"
   ]
  },
  {
   "cell_type": "markdown",
   "id": "73902e8d-4faf-4405-967b-ef659ab0bb33",
   "metadata": {},
   "source": [
    "### 19. Create a program that determines if a year is a leap year and also if it is evenly divisible by 400."
   ]
  },
  {
   "cell_type": "code",
   "execution_count": 1,
   "id": "14da589e-bb84-4f41-813f-6485ebabe2e8",
   "metadata": {},
   "outputs": [
    {
     "name": "stdin",
     "output_type": "stream",
     "text": [
      "Enter a year:  2021\n"
     ]
    },
    {
     "name": "stdout",
     "output_type": "stream",
     "text": [
      "2021 is not a leap year or not evenly divisible by 400.\n"
     ]
    }
   ],
   "source": [
    "# Taking input from the user for the year\n",
    "year = int(input(\"Enter a year: \"))\n",
    "\n",
    "# Checking if it is a leap year and evenly divisible by 400\n",
    "if (year % 4 == 0) or (year % 400 == 0):\n",
    "    # if yes then print\n",
    "    print(f\"{year} is a leap year and evenly divisible by 400.\")\n",
    "else:\n",
    "    print(f\"{year} is not a leap year or not evenly divisible by 400.\")\n",
    "\n"
   ]
  },
  {
   "cell_type": "markdown",
   "id": "f3b90782-0eb6-41c3-bb1d-0fc1d9065809",
   "metadata": {},
   "source": [
    "### 20. Develop a program that checks if a given number is prime or not using nested if-else statements."
   ]
  },
  {
   "cell_type": "code",
   "execution_count": 11,
   "id": "3549aef7-343e-4e86-80e0-ff8be5a284db",
   "metadata": {},
   "outputs": [
    {
     "name": "stdin",
     "output_type": "stream",
     "text": [
      "Enter a number:  19\n"
     ]
    },
    {
     "name": "stdout",
     "output_type": "stream",
     "text": [
      "19 is a prime number.\n"
     ]
    }
   ],
   "source": [
    "# Taking input\n",
    "num = int(input(\"Enter a number: \"))\n",
    "\n",
    "# Checking if the number is prime\n",
    "if num > 1:\n",
    "    # Check for factors other than 1 and the number itself\n",
    "    for i in range(2, int(num**0.5) + 1):\n",
    "        if num % i == 0:\n",
    "            print(f\"{num} is not a prime number.\")\n",
    "            break\n",
    "    else:\n",
    "        print(f\"{num} is a prime number.\")\n",
    "else:\n",
    "    print(f\"{num} is not a prime number.\")\n"
   ]
  },
  {
   "cell_type": "markdown",
   "id": "c9a870a9-711f-4fdc-95f1-73961a008ff9",
   "metadata": {},
   "source": [
    "### ELIF STATEMENT"
   ]
  },
  {
   "cell_type": "markdown",
   "id": "38fc3a6d-b811-483d-a6ae-43b3035466b1",
   "metadata": {},
   "source": [
    "### 21. Write a Python program to assign grades based on different ranges of scores using elif statements."
   ]
  },
  {
   "cell_type": "code",
   "execution_count": 5,
   "id": "382a9dfa-de5c-4e53-84fe-2ac3618e285a",
   "metadata": {},
   "outputs": [
    {
     "name": "stdin",
     "output_type": "stream",
     "text": [
      "Enter a marks:  98\n"
     ]
    },
    {
     "name": "stdout",
     "output_type": "stream",
     "text": [
      "A grade\n"
     ]
    }
   ],
   "source": [
    "# Taking input \n",
    "Marks = int(input(\"Enter a marks: \"))\n",
    "\n",
    "# Checking the grades\n",
    "if Marks >= 90 :\n",
    "    # if yes then print\n",
    "    print(\"A grade\")\n",
    "elif Marks >= 80:\n",
    "     # if yes then print\n",
    "    print(\"B grade\")\n",
    "elif Marks >=70:\n",
    "     # if yes then print\n",
    "    print(\"C grade\")\n",
    "elif Marks >=60:\n",
    "     # if yes then print\n",
    "    print(\"D grade\")\n",
    "elif Marks >=50:\n",
    "     # if yes then print\n",
    "    print(\"E grade\")\n",
    "else:\n",
    "    # if not then print fail\n",
    "    print(\"Fail\")"
   ]
  },
  {
   "cell_type": "markdown",
   "id": "c358c881-d151-488c-8f57-89b55bc81454",
   "metadata": {},
   "source": [
    "### 22. Implement a program to determine the type of a triangle based on its angles."
   ]
  },
  {
   "cell_type": "code",
   "execution_count": 1,
   "id": "0ec74e62-20d3-4d93-9e49-863f7e03f394",
   "metadata": {},
   "outputs": [
    {
     "name": "stdin",
     "output_type": "stream",
     "text": [
      "Enter the measure of angle 1:  32\n",
      "Enter the measure of angle 2:  43\n",
      "Enter the measure of angle 3:  56\n"
     ]
    },
    {
     "name": "stdout",
     "output_type": "stream",
     "text": [
      "Invalid Triangle\n"
     ]
    }
   ],
   "source": [
    "# Input angles from the user\n",
    "angle1 = float(input(\"Enter the measure of angle 1: \"))\n",
    "angle2 = float(input(\"Enter the measure of angle 2: \"))\n",
    "angle3 = float(input(\"Enter the measure of angle 3: \"))\n",
    "\n",
    "# Check if the angles form a valid triangle\n",
    "if angle1 + angle2 + angle3 == 180:\n",
    "    # Check the type of triangle based on angles\n",
    "    if angle1 == angle2 == angle3:\n",
    "        print(\"Equilateral Triangle\")\n",
    "    elif angle1 == angle2 or angle1 == angle3 or angle2 == angle3:\n",
    "        print(\"Isosceles Triangle\")\n",
    "    else:\n",
    "        print(\"Scalene Triangle\")\n",
    "else:\n",
    "    print(\"Invalid Triangle\")\n"
   ]
  },
  {
   "cell_type": "markdown",
   "id": "a36675ea-336d-4d4e-a44b-5686f6040416",
   "metadata": {},
   "source": [
    "### 23. Develop a program to categorize a given person's BMI into underweight, normal, overweight, or obese using\n",
    "elif statements."
   ]
  },
  {
   "cell_type": "code",
   "execution_count": 2,
   "id": "b92bd753-ed30-49ea-bcc2-983eb4464309",
   "metadata": {},
   "outputs": [
    {
     "name": "stdin",
     "output_type": "stream",
     "text": [
      "Enter your weight in kilograms:  43\n",
      "Enter your height in meters:  32\n"
     ]
    },
    {
     "name": "stdout",
     "output_type": "stream",
     "text": [
      "Underweight\n"
     ]
    }
   ],
   "source": [
    "# Input weight (in kilograms) and height (in meters) from the user\n",
    "weight = float(input(\"Enter your weight in kilograms: \"))\n",
    "height = float(input(\"Enter your height in meters: \"))\n",
    "\n",
    "# Calculate BMI\n",
    "bmi = weight / (height ** 2)\n",
    "\n",
    "# Categorize BMI using \n",
    "if bmi < 18.5:\n",
    "    print(\"Underweight\")\n",
    "elif 18.5 <= bmi < 25:\n",
    "    print(\"Normal Weight\")\n",
    "elif 25 <= bmi < 30:\n",
    "    print(\"Overweight\")\n",
    "else:\n",
    "    print(\"Obese\")\n"
   ]
  },
  {
   "cell_type": "markdown",
   "id": "a2e3608a-3772-4371-b41c-27b0c337a8da",
   "metadata": {},
   "source": [
    "### 24. Create a program that determines whether a given number is positive, negative, or zero using elif\n",
    "statements."
   ]
  },
  {
   "cell_type": "code",
   "execution_count": 3,
   "id": "c72e49bf-55cb-4c77-bd76-203a29ced5ab",
   "metadata": {},
   "outputs": [
    {
     "name": "stdin",
     "output_type": "stream",
     "text": [
      "Enter a number:  454\n"
     ]
    },
    {
     "name": "stdout",
     "output_type": "stream",
     "text": [
      "Positive\n"
     ]
    }
   ],
   "source": [
    "# Input a number \n",
    "number = float(input(\"Enter a number: \"))\n",
    "\n",
    "# Check whether the number is positive, negative, or zero\n",
    "if number > 0:\n",
    "    print(\"Positive\")\n",
    "elif number < 0:\n",
    "    print(\"Negative\")\n",
    "else:\n",
    "    print(\"Zero\")\n"
   ]
  },
  {
   "cell_type": "markdown",
   "id": "5ac909fc-05cb-4e29-8a04-2be2620df37e",
   "metadata": {},
   "source": [
    "### 25. Write a Python script to determine the type of a character (uppercase, lowercase, or special) using elif\n",
    "statements."
   ]
  },
  {
   "cell_type": "code",
   "execution_count": 4,
   "id": "c7f0ee72-c156-4c4f-860b-7c994144e74a",
   "metadata": {},
   "outputs": [
    {
     "name": "stdin",
     "output_type": "stream",
     "text": [
      "Enter a character:  t\n"
     ]
    },
    {
     "name": "stdout",
     "output_type": "stream",
     "text": [
      "Lowercase Letter\n"
     ]
    }
   ],
   "source": [
    "# Input a character \n",
    "char = input(\"Enter a character: \")\n",
    "\n",
    "# Check the type of character using elif statements\n",
    "if char.isalpha():\n",
    "    if char.islower():\n",
    "        print(\"Lowercase Letter\")\n",
    "    elif char.isupper():\n",
    "        print(\"Uppercase Letter\")\n",
    "else:\n",
    "    print(\"Special Character\")\n"
   ]
  },
  {
   "cell_type": "markdown",
   "id": "623fc516-97af-4c6b-93ac-1e7218ae8289",
   "metadata": {},
   "source": [
    "### 26. Implement a program to calculate the discounted price based on different purchase amounts using elif\n",
    "statements."
   ]
  },
  {
   "cell_type": "code",
   "execution_count": 5,
   "id": "549d3dab-d7ff-4869-8844-46cdeea778ab",
   "metadata": {},
   "outputs": [
    {
     "name": "stdin",
     "output_type": "stream",
     "text": [
      "Enter the purchase amount:  400\n"
     ]
    },
    {
     "name": "stdout",
     "output_type": "stream",
     "text": [
      "Original Price: $400.00\n",
      "Discount Rate: 5.00%\n",
      "Discounted Price: $380.00\n"
     ]
    }
   ],
   "source": [
    "# Input the purchase amount \n",
    "purchase_amount = float(input(\"Enter the purchase amount: \"))\n",
    "\n",
    "# Apply discounts based on different purchase amounts using elif statements\n",
    "if purchase_amount < 100:\n",
    "    discount_rate = 0\n",
    "elif 100 <= purchase_amount < 500:\n",
    "    discount_rate = 0.05\n",
    "elif 500 <= purchase_amount < 1000:\n",
    "    discount_rate = 0.1\n",
    "else:\n",
    "    discount_rate = 0.15\n",
    "\n",
    "# Calculate the discounted price\n",
    "discounted_price = purchase_amount - (purchase_amount * discount_rate)\n",
    "\n",
    "# print the results\n",
    "print(f\"Original Price: ${purchase_amount:.2f}\")\n",
    "print(f\"Discount Rate: {discount_rate * 100:.2f}%\")\n",
    "print(f\"Discounted Price: ${discounted_price:.2f}\")\n"
   ]
  },
  {
   "cell_type": "markdown",
   "id": "9191203f-f4a1-4e88-9c8e-ce48caa9cb1f",
   "metadata": {},
   "source": [
    "### 27. Develop a program to calculate the electricity bill based on different consumption slabs using elif\n",
    "statements."
   ]
  },
  {
   "cell_type": "code",
   "execution_count": 6,
   "id": "0f7d92c4-8f6f-4fca-81c9-13ad21191c88",
   "metadata": {},
   "outputs": [
    {
     "name": "stdin",
     "output_type": "stream",
     "text": [
      "Enter the electricity consumption in kilowatt-hours:  45\n"
     ]
    },
    {
     "name": "stdout",
     "output_type": "stream",
     "text": [
      "Electricity Consumption: 45.00 kWh\n",
      "Electricity Bill: $6.75\n"
     ]
    }
   ],
   "source": [
    "# Input the electricity consumption\n",
    "consumption = float(input(\"Enter the electricity consumption in kilowatt-hours: \"))\n",
    "\n",
    "# Define electricity rates for different slabs\n",
    "rate_slab1 = 0.15  \n",
    "rate_slab2 = 0.20 \n",
    "rate_slab3 = 0.25  \n",
    "\n",
    "# Calculate the electricity bill based on consumption slabs using elif statements\n",
    "if consumption <= 100:\n",
    "    total_bill = consumption * rate_slab1\n",
    "elif 100 < consumption <= 300:\n",
    "    total_bill = 100 * rate_slab1 + (consumption - 100) * rate_slab2\n",
    "else:\n",
    "    total_bill = 100 * rate_slab1 + 200 * rate_slab2 + (consumption - 300) * rate_slab3\n",
    "\n",
    "# Print the results\n",
    "print(f\"Electricity Consumption: {consumption:.2f} kWh\")\n",
    "print(f\"Electricity Bill: ${total_bill:.2f}\")\n"
   ]
  },
  {
   "cell_type": "markdown",
   "id": "f54d9c93-2367-44e5-b5c2-a848c0d7a282",
   "metadata": {},
   "source": [
    "### 28. Create a program to determine the type of quadrilateral based on its angles and sides using elif\n",
    "statements."
   ]
  },
  {
   "cell_type": "code",
   "execution_count": 7,
   "id": "f413feac-c16c-4696-a838-801d59fd6f2f",
   "metadata": {},
   "outputs": [
    {
     "name": "stdin",
     "output_type": "stream",
     "text": [
      "Enter the measure of angle 1:  43\n",
      "Enter the measure of angle 2:  67\n",
      "Enter the measure of angle 3:  87\n",
      "Enter the measure of angle 4:  90\n",
      "Enter the length of side 1:  32\n",
      "Enter the length of side 2:  78\n",
      "Enter the length of side 3:  98\n",
      "Enter the length of side 4:  67\n"
     ]
    },
    {
     "name": "stdout",
     "output_type": "stream",
     "text": [
      "Invalid Quadrilateral\n"
     ]
    }
   ],
   "source": [
    "# Input angles and sides \n",
    "angle1 = float(input(\"Enter the measure of angle 1: \"))\n",
    "angle2 = float(input(\"Enter the measure of angle 2: \"))\n",
    "angle3 = float(input(\"Enter the measure of angle 3: \"))\n",
    "angle4 = float(input(\"Enter the measure of angle 4: \"))\n",
    "\n",
    "side1 = float(input(\"Enter the length of side 1: \"))\n",
    "side2 = float(input(\"Enter the length of side 2: \"))\n",
    "side3 = float(input(\"Enter the length of side 3: \"))\n",
    "side4 = float(input(\"Enter the length of side 4: \"))\n",
    "\n",
    "# Check the type of quadrilateral using elif statements\n",
    "if angle1 + angle2 + angle3 + angle4 == 360:\n",
    "    if side1 == side2 == side3 == side4:\n",
    "        print(\"Square\")\n",
    "    elif side1 == side3 and side2 == side4:\n",
    "        print(\"Rectangle\")\n",
    "    else:\n",
    "        print(\"Quadrilateral\")\n",
    "else:\n",
    "    print(\"Invalid Quadrilateral\")\n"
   ]
  },
  {
   "cell_type": "markdown",
   "id": "01f16447-f883-4389-8ced-ff43935413bd",
   "metadata": {},
   "source": [
    "### 29. Write a Python script to determine the season based on a user-provided month using elif statements."
   ]
  },
  {
   "cell_type": "code",
   "execution_count": 8,
   "id": "96074704-19da-48a5-acc9-4cb826ef615b",
   "metadata": {},
   "outputs": [
    {
     "name": "stdin",
     "output_type": "stream",
     "text": [
      "Enter the month (e.g., January, February, etc.):  february\n"
     ]
    },
    {
     "name": "stdout",
     "output_type": "stream",
     "text": [
      "The season for February is Winter.\n"
     ]
    }
   ],
   "source": [
    "# Input the month \n",
    "month = input(\"Enter the month (e.g., January, February, etc.): \")\n",
    "\n",
    "# Convert the input to lowercase for case-insensitivity\n",
    "month = month.lower()\n",
    "\n",
    "# Determine the season based on the month \n",
    "if month in [\"december\", \"january\", \"february\"]:\n",
    "    season = \"Winter\"\n",
    "elif month in [\"march\", \"april\", \"may\"]:\n",
    "    season = \"Spring\"\n",
    "elif month in [\"june\", \"july\", \"august\"]:\n",
    "    season = \"Summer\"\n",
    "elif month in [\"september\", \"october\", \"november\"]:\n",
    "    season = \"Fall\"\n",
    "else:\n",
    "    season = \"Invalid Month\"\n",
    "\n",
    "# Print the results\n",
    "print(f\"The season for {month.capitalize()} is {season}.\")\n"
   ]
  },
  {
   "cell_type": "markdown",
   "id": "24bd10e7-e158-41e6-a9bd-d2bcf52621f8",
   "metadata": {},
   "source": [
    "### 30. Implement a program to determine the type of a year (leap or common) and month (30 or 31 days) using\n",
    "elif statements."
   ]
  },
  {
   "cell_type": "code",
   "execution_count": null,
   "id": "4ff2ec16-2992-447e-bbac-d48fa4a9695a",
   "metadata": {},
   "outputs": [],
   "source": [
    "# Input the year and month from the user\n",
    "year = int(input(\"Enter the year: \"))\n",
    "month = int(input(\"Enter the month (1-12): \"))\n",
    "\n",
    "# Check if the year is a leap year using elif statements\n",
    "if (year % 4 == 0 and year % 100 != 0) or (year % 400 == 0):\n",
    "    year_type = \"Leap Year\"\n",
    "else:\n",
    "    year_type = \"Common Year\"\n",
    "\n",
    "# Check the number of days in the month using elif statements\n",
    "if month in [1, 3, 5, 7, 8, 10, 12]:\n",
    "    days_in_month = 31\n",
    "elif month in [4, 6, 9, 11]:\n",
    "    days_in_month = 30\n",
    "elif month == 2:\n",
    "    days_in_month = 29 if year_type == \"Leap Year\" else 28\n",
    "else:\n",
    "    days_in_month = \"Invalid Month\"\n",
    "\n",
    "# Display the results\n",
    "print(f\"{year} is a {year_type}.\")\n",
    "print(f\"The month has {days_in_month} days.\")\n"
   ]
  },
  {
   "cell_type": "markdown",
   "id": "d70d89a0-4240-465e-831b-83dd6a3ff246",
   "metadata": {},
   "source": [
    "### Baic Level"
   ]
  },
  {
   "cell_type": "markdown",
   "id": "e8b0f049-5c8b-40b0-b589-4ccaf3cc69c5",
   "metadata": {},
   "source": [
    "### 1. Write a Python program that checks if a given number is positive, negative, or zero."
   ]
  },
  {
   "cell_type": "code",
   "execution_count": 10,
   "id": "a63d94a9-7d22-4138-aae4-b6a46ce03c00",
   "metadata": {},
   "outputs": [
    {
     "name": "stdin",
     "output_type": "stream",
     "text": [
      "enter a number: 43\n"
     ]
    },
    {
     "name": "stdout",
     "output_type": "stream",
     "text": [
      "number is positive\n"
     ]
    }
   ],
   "source": [
    "# given a input\n",
    "num = int(input(\"enter a number:\"))\n",
    "# check the condition number is positive \n",
    "if(num > 0):\n",
    "    # if yes number is positive then print\n",
    "    print(f\"number is positive\")\n",
    "    # check number is 0\n",
    "elif(num == 0):\n",
    "    print(f\"number is zero\")\n",
    "else:\n",
    "    # otherwise print number is negative \n",
    "    print(f\"number is negative\")\n",
    "    \n",
    "          "
   ]
  },
  {
   "cell_type": "markdown",
   "id": "04604762-bc6e-4ab8-b3c7-9f3afb9c795b",
   "metadata": {},
   "source": [
    "### 2. Create a program to determine if a person is eligible to vote based on their age."
   ]
  },
  {
   "cell_type": "code",
   "execution_count": 11,
   "id": "d6b817c4-5e6d-4c38-b337-507b1ae6c1c8",
   "metadata": {},
   "outputs": [
    {
     "name": "stdin",
     "output_type": "stream",
     "text": [
      "enter age: 45\n"
     ]
    },
    {
     "name": "stdout",
     "output_type": "stream",
     "text": [
      "eligible for vote\n"
     ]
    }
   ],
   "source": [
    "# given a input age\n",
    "age = int(input(\"enter age:\"))\n",
    "# check the condition \n",
    "if(age >= 18):\n",
    "    # if yes then print eligible for vote\n",
    "    print(f\"eligible for vote\")\n",
    "else:\n",
    "    # otherwise not eligible for vote \n",
    "    print(f\"not eligible for vote\")\n",
    "    \n",
    "      "
   ]
  },
  {
   "cell_type": "markdown",
   "id": "b3d73981-c19c-4a76-b691-8f9017b52ea7",
   "metadata": {},
   "source": [
    "### 3. Write a program to find the maximum of two given numbers using conditional statements."
   ]
  },
  {
   "cell_type": "code",
   "execution_count": 12,
   "id": "baa72915-02c1-4a63-babc-38cc5c7ff58e",
   "metadata": {},
   "outputs": [
    {
     "name": "stdin",
     "output_type": "stream",
     "text": [
      "enter number1: 34\n",
      "enter number2: 56\n"
     ]
    },
    {
     "name": "stdout",
     "output_type": "stream",
     "text": [
      "56 is maximum\n"
     ]
    }
   ],
   "source": [
    "# given a input number\n",
    "number1 = int(input(\"enter number1:\"))\n",
    "number2 = int(input(\"enter number2:\"))\n",
    "# check the condition \n",
    "if(number1 > number2):\n",
    "    # if yes then print \n",
    "    print(f\"{number1} is maximum\")\n",
    "else:\n",
    "    # otherwise  \n",
    "    print(f\"{number2} is maximum\")\n",
    "    \n",
    "      "
   ]
  },
  {
   "cell_type": "markdown",
   "id": "de234bb6-f473-4d90-81eb-b59db26fd2ba",
   "metadata": {},
   "source": [
    "### 4. Develop a program that calculates the grade of a student based on their exam score."
   ]
  },
  {
   "cell_type": "code",
   "execution_count": 13,
   "id": "76b32789-dcfb-4f73-b170-caf114ab217b",
   "metadata": {},
   "outputs": [
    {
     "name": "stdin",
     "output_type": "stream",
     "text": [
      "enter a marks: 78\n"
     ]
    },
    {
     "name": "stdout",
     "output_type": "stream",
     "text": [
      "student got grade C\n"
     ]
    }
   ],
   "source": [
    "# taking a input marks\n",
    "marks = int(input(\"enter a marks:\"))\n",
    "# check the condition\n",
    "if(marks >= 90):\n",
    "    # if yes \n",
    "    print(f\"student got grade A\")\n",
    "    # check condition\n",
    "elif(marks >=80):\n",
    "     # check condition\n",
    "    print(f\"student got grade B\")\n",
    "elif marks >=70 :\n",
    "    \n",
    "     # check condition\n",
    "    print(f\"student got grade C\")\n",
    "elif(marks >=60):\n",
    "     # check condition\n",
    "    print(f\"student got grade D\")\n",
    "else:\n",
    "    # otherwise\n",
    "    print(f\"student fail\")\n",
    "    \n",
    "      "
   ]
  },
  {
   "cell_type": "markdown",
   "id": "f7ec812b-c07d-4909-8afb-dcce37cf3dac",
   "metadata": {},
   "source": [
    "### 5. Create a program that checks if a year is a leap year or not."
   ]
  },
  {
   "cell_type": "code",
   "execution_count": 1,
   "id": "40199b5c-d6cc-4578-b206-7a26462b3f71",
   "metadata": {},
   "outputs": [
    {
     "name": "stdin",
     "output_type": "stream",
     "text": [
      "enter a year 2028\n"
     ]
    },
    {
     "name": "stdout",
     "output_type": "stream",
     "text": [
      "year is leap year\n"
     ]
    }
   ],
   "source": [
    "# given a year\n",
    "year = int(input(\"enter a year\"))\n",
    "# check the condition\n",
    "if(year % 4==0):\n",
    "    # if yes \n",
    "    print(f\"year is leap year\")\n",
    "else:\n",
    "    #otherwise \n",
    "    print(f\"year is not leap year\")\n",
    "    \n",
    "          "
   ]
  },
  {
   "cell_type": "markdown",
   "id": "16a2edb2-9aa4-4e45-b156-ee7a4c8f0ea9",
   "metadata": {},
   "source": [
    "### 6. Write a program to classify a triangle based on its sides' lengths."
   ]
  },
  {
   "cell_type": "code",
   "execution_count": 2,
   "id": "0dcf70cc-4b4e-4bf3-bbc2-ffb686476ad1",
   "metadata": {},
   "outputs": [
    {
     "name": "stdin",
     "output_type": "stream",
     "text": [
      "Enter the length of side a:  45\n",
      "Enter the length of side b:  45\n",
      "Enter the length of side c:  45\n"
     ]
    },
    {
     "name": "stdout",
     "output_type": "stream",
     "text": [
      "Equilateral Triangle\n"
     ]
    }
   ],
   "source": [
    "# input from the user\n",
    "side_a = float(input(\"Enter the length of side a: \"))\n",
    "side_b = float(input(\"Enter the length of side b: \"))\n",
    "side_c = float(input(\"Enter the length of side c: \"))\n",
    "\n",
    "# condition check\n",
    "if side_a <= 0 or side_b <= 0 or side_c <= 0:\n",
    "    print(\"Invalid input. All sides must have positive lengths.\")\n",
    "else:\n",
    "    # if a == b==c  i.e \n",
    "    if side_a == side_b == side_c:\n",
    "        print(\"Equilateral Triangle\")\n",
    "    elif side_a == side_b or side_a == side_c or side_b == side_c:\n",
    "        print(\"Isosceles Triangle\")\n",
    "    else:\n",
    "        print(\"Scalene Triangle\")\n"
   ]
  },
  {
   "cell_type": "markdown",
   "id": "9d18b526-bd12-4870-8bad-3871907520ac",
   "metadata": {},
   "source": [
    "### 7. Build a program that determines the largest of three given numbers."
   ]
  },
  {
   "cell_type": "code",
   "execution_count": 4,
   "id": "2e3698bd-631e-42bb-8c1d-fcec0e7ee4d4",
   "metadata": {},
   "outputs": [
    {
     "name": "stdin",
     "output_type": "stream",
     "text": [
      "Enter the first number:  43\n",
      "Enter the second number:  45\n",
      "Enter the third number:  65\n"
     ]
    },
    {
     "name": "stdout",
     "output_type": "stream",
     "text": [
      "The largest number is: 65.0\n"
     ]
    }
   ],
   "source": [
    "# Taking user input for three numbers\n",
    "num1 = float(input(\"Enter the first number: \"))\n",
    "num2 = float(input(\"Enter the second number: \"))\n",
    "num3 = float(input(\"Enter the third number: \"))\n",
    "\n",
    "# Finding the largest number using max function\n",
    "largest_number = max(num1, num2, num3)\n",
    "\n",
    "# Displaying the result\n",
    "print(f\"The largest number is: {largest_number}\")\n",
    "\n",
    "    "
   ]
  },
  {
   "cell_type": "markdown",
   "id": "bdfe68cf-34cc-43d1-9477-72f9ede5093d",
   "metadata": {},
   "source": [
    "### 8. Develop a program that checks whether a character is a vowel or a consonant."
   ]
  },
  {
   "cell_type": "code",
   "execution_count": 1,
   "id": "8e45fbb4-277a-4e65-b1c2-c96c1b74c1fb",
   "metadata": {},
   "outputs": [
    {
     "name": "stdin",
     "output_type": "stream",
     "text": [
      "enter a character: r\n"
     ]
    },
    {
     "name": "stdout",
     "output_type": "stream",
     "text": [
      "character is constant\n"
     ]
    }
   ],
   "source": [
    "def check_char_type(char):\n",
    "     char = char.lower()\n",
    "# given a character\n",
    "char = (input(\"enter a character:\"))\n",
    "# check the condition\n",
    "if char == 'a'or char == 'e' or char == 'i' or char=='o' or char=='u':\n",
    "    # if yes \n",
    "    print(f\"character is vowel\")\n",
    "else:\n",
    "    #otherwise \n",
    "    print(f\"character is constant\")\n",
    "    "
   ]
  },
  {
   "cell_type": "markdown",
   "id": "2a3c67d5-9526-49e7-b8c0-25599c5ff13f",
   "metadata": {},
   "source": [
    "### 9. Create a program to calculate the total cost of a shopping cart based on discounts."
   ]
  },
  {
   "cell_type": "code",
   "execution_count": 1,
   "id": "109ab209-56b3-4c6c-b420-669af5f8b0ee",
   "metadata": {},
   "outputs": [
    {
     "name": "stdin",
     "output_type": "stream",
     "text": [
      "Enter the price of item 1:  45\n",
      "Enter the price of item 2:  65\n",
      "Enter the price of item 3:  89\n"
     ]
    },
    {
     "name": "stdout",
     "output_type": "stream",
     "text": [
      "Total cost before discount: $199.00\n",
      "Discount applied: $19.90\n",
      "Total cost after discount: $179.10\n"
     ]
    }
   ],
   "source": [
    "###### Step 1: Define the prices of items\n",
    "item1_price = float(input(\"Enter the price of item 1: \"))\n",
    "item2_price = float(input(\"Enter the price of item 2: \"))\n",
    "item3_price = float(input(\"Enter the price of item 3: \"))\n",
    "\n",
    "# Step 2: Calculate the total cost before applying any discounts\n",
    "total_cost = item1_price + item2_price + item3_price\n",
    "\n",
    "# Step 3: Apply discounts based on total cost\n",
    "if total_cost >= 100:\n",
    "    discount = 0.1 * total_cost  # 10% discount for total cost >= 100\n",
    "    total_cost -= discount\n",
    "\n",
    "# Step 4: Display the results\n",
    "print(f\"Total cost before discount: ${total_cost + discount:.2f}\")\n",
    "print(f\"Discount applied: ${discount:.2f}\")\n",
    "print(f\"Total cost after discount: ${total_cost:.2f}\")"
   ]
  },
  {
   "cell_type": "markdown",
   "id": "3869595c-0f05-47ea-bc9d-1a7a05eb3411",
   "metadata": {},
   "source": [
    "### 10. Write a program that checks if a given number is even or odd."
   ]
  },
  {
   "cell_type": "code",
   "execution_count": 2,
   "id": "38f7009f-b3bd-423a-a1e2-e138077ed58c",
   "metadata": {},
   "outputs": [
    {
     "name": "stdin",
     "output_type": "stream",
     "text": [
      "enter a number: 45\n"
     ]
    },
    {
     "name": "stdout",
     "output_type": "stream",
     "text": [
      "number is Odd\n"
     ]
    }
   ],
   "source": [
    "# given a input\n",
    "num = int(input(\"enter a number:\"))\n",
    "# check the condition number is even\n",
    "if(num % 2 == 0):\n",
    "    # if yes then print\n",
    "    print(f\"number is Even\")\n",
    "else:\n",
    "    # otherwise print number is odd\n",
    "    print(f\"number is Odd\")\n",
    "    "
   ]
  },
  {
   "cell_type": "markdown",
   "id": "f0bebff8-3694-4948-b0bf-519ea7c9e5dd",
   "metadata": {},
   "source": [
    "### Intermediate Level:"
   ]
  },
  {
   "cell_type": "markdown",
   "id": "9de872f5-0bb4-431b-921e-d5bbf2aa38ef",
   "metadata": {},
   "source": [
    "### 11. Write a program that calculates the roots of a quadratic equation ."
   ]
  },
  {
   "cell_type": "code",
   "execution_count": 3,
   "id": "98f419ae-cfe3-48d5-9981-dbfa81995c65",
   "metadata": {},
   "outputs": [
    {
     "name": "stdin",
     "output_type": "stream",
     "text": [
      "Enter the coefficient a:  54\n",
      "Enter the coefficient b:  56\n",
      "Enter the coefficient c:  57\n"
     ]
    },
    {
     "name": "stdout",
     "output_type": "stream",
     "text": [
      "Root 1: -0.5185185185185185 + 0.8869577788761517i\n",
      "Root 2: -0.5185185185185185 - 0.8869577788761517i\n"
     ]
    }
   ],
   "source": [
    "import math\n",
    "\n",
    "# Take user input \n",
    "a = float(input(\"Enter the coefficient a: \"))\n",
    "b = float(input(\"Enter the coefficient b: \"))\n",
    "c = float(input(\"Enter the coefficient c: \"))\n",
    "\n",
    "#Calculate the discriminant\n",
    "discriminant = b**2 - 4*a*c\n",
    "\n",
    "#Check the nature of roots and calculate\n",
    "if discriminant > 0:\n",
    "    root1 = (-b + math.sqrt(discriminant)) / (2*a)\n",
    "    root2 = (-b - math.sqrt(discriminant)) / (2*a)\n",
    "    print(f\"Root 1: {root1}\")\n",
    "    print(f\"Root 2: {root2}\")\n",
    "elif discriminant == 0:\n",
    "    root = -b / (2*a)\n",
    "    print(f\"Single Root: {root}\")\n",
    "else:\n",
    "    real_part = -b / (2*a)\n",
    "    imaginary_part = math.sqrt(abs(discriminant)) / (2*a)\n",
    "    print(f\"Root 1: {real_part} + {imaginary_part}i\")\n",
    "    print(f\"Root 2: {real_part} - {imaginary_part}i\")\n"
   ]
  },
  {
   "cell_type": "markdown",
   "id": "61067eaa-bb81-4828-92ac-55d37b1b2241",
   "metadata": {},
   "source": [
    "### 12. Create a program that determines the day of the week based on the day number (1-7)."
   ]
  },
  {
   "cell_type": "code",
   "execution_count": 4,
   "id": "3c5091cd-66ca-4626-bc70-e315c8de37d7",
   "metadata": {},
   "outputs": [
    {
     "name": "stdin",
     "output_type": "stream",
     "text": [
      "Enter a number:  5\n"
     ]
    },
    {
     "name": "stdout",
     "output_type": "stream",
     "text": [
      "The day corresponding to the number 5 is: Friday\n"
     ]
    }
   ],
   "source": [
    "# Taking input \n",
    "day_number = int(input(\"Enter a number: \"))\n",
    "\n",
    "# Checking the day \n",
    "if day_number == 1:\n",
    "    day_name = \"Monday\"\n",
    "elif day_number == 2:\n",
    "    day_name = \"Tuesday\"\n",
    "elif day_number == 3:\n",
    "    day_name = \"Wednesday\"\n",
    "elif day_number == 4:\n",
    "    day_name = \"Thursday\"\n",
    "elif day_number == 5:\n",
    "    day_name = \"Friday\"\n",
    "elif day_number == 6:\n",
    "    day_name = \"Saturday\"\n",
    "elif day_number == 7:\n",
    "    day_name = \"Sunday\"\n",
    "else:\n",
    "    day_name = \"Invalid input. Please enter a number between 1 and 7.\"\n",
    "\n",
    "# print the result\n",
    "print(f\"The day corresponding to the number {day_number} is: {day_name}\")\n"
   ]
  },
  {
   "cell_type": "markdown",
   "id": "45556b07-81d8-415a-a2a9-e26584f131ac",
   "metadata": {},
   "source": [
    "### 13. Develop a program that calculates the factorial of a given number using recursion."
   ]
  },
  {
   "cell_type": "code",
   "execution_count": 7,
   "id": "f2353ad2-bb50-404d-a81e-60345080396e",
   "metadata": {},
   "outputs": [
    {
     "name": "stdout",
     "output_type": "stream",
     "text": [
      " factorial  of a 5 is: 120\n"
     ]
    }
   ],
   "source": [
    "# factorial of a given number\n",
    "# method definition via the recursion\n",
    "\n",
    "def factorial(n):\n",
    "    # base case condition\n",
    "    if n <= 1:\n",
    "        return 1\n",
    "    # recursive finction call\n",
    "    return n * factorial(n-1)\n",
    "\n",
    "# display the result\n",
    "\n",
    "n = 5\n",
    "print(f\" factorial  of a {n} is: {factorial(n)}\")"
   ]
  },
  {
   "cell_type": "markdown",
   "id": "6c13bcba-5ccf-4488-be31-ffc878341b9b",
   "metadata": {},
   "source": [
    "### 14. Write a program to find the largest among three numbers without using the `max()` function."
   ]
  },
  {
   "cell_type": "code",
   "execution_count": 8,
   "id": "a1a2db96-f459-4f4e-ae51-c13fccdd4f05",
   "metadata": {},
   "outputs": [
    {
     "name": "stdin",
     "output_type": "stream",
     "text": [
      "Enter the first number:  65\n",
      "Enter the second number:  67\n",
      "Enter the third number:  34\n"
     ]
    },
    {
     "name": "stdout",
     "output_type": "stream",
     "text": [
      "The largest number is: 67.0\n"
     ]
    }
   ],
   "source": [
    "# Taking user input for three numbers\n",
    "num1 = float(input(\"Enter the first number: \"))\n",
    "num2 = float(input(\"Enter the second number: \"))\n",
    "num3 = float(input(\"Enter the third number: \"))\n",
    "\n",
    "# Finding the largest number using max function\n",
    "largest_number = max(num1, num2, num3)\n",
    "\n",
    "# Displaying the result\n",
    "print(f\"The largest number is: {largest_number}\")\n",
    "\n",
    "    "
   ]
  },
  {
   "cell_type": "markdown",
   "id": "62f93a59-8493-4552-9309-25eff41d1533",
   "metadata": {},
   "source": [
    "### 15. Create a program that simulates a basic ATM transaction menu."
   ]
  },
  {
   "cell_type": "markdown",
   "id": "03dbe6d7-40c7-4705-9e45-d5cc92739a33",
   "metadata": {},
   "source": [
    "### 16. Build a program that checks if a given string is a palindrome or not."
   ]
  },
  {
   "cell_type": "code",
   "execution_count": 2,
   "id": "7c96fe41-aff3-459b-843a-79df9f0ca388",
   "metadata": {},
   "outputs": [
    {
     "name": "stdin",
     "output_type": "stream",
     "text": [
      "Enter a string to check if it's a palindrome:  pwskills\n"
     ]
    },
    {
     "name": "stdout",
     "output_type": "stream",
     "text": [
      "pwskills is not a palindrome.\n"
     ]
    }
   ],
   "source": [
    "def is_palindrome(s):\n",
    "    # Remove spaces and convert to lowercase for case-insensitive comparison\n",
    "    s = s.replace(\" \", \"\").lower()\n",
    "    \n",
    "    # Compare the original string with its reverse\n",
    "    return s == s[::-1]\n",
    "\n",
    "# Take user input for the string\n",
    "input_string = input(\"Enter a string to check if it's a palindrome: \")\n",
    "\n",
    "# Check if the input string is a palindrome\n",
    "if is_palindrome(input_string):\n",
    "    print(f\"{input_string} is a palindrome.\")\n",
    "else:\n",
    "    print(f\"{input_string} is not a palindrome.\")\n"
   ]
  },
  {
   "cell_type": "markdown",
   "id": "a768ddfd-c645-4a77-8387-74b6ef011662",
   "metadata": {},
   "source": [
    "### 17. Write a program that calculates the average of a list of numbers, excluding the smallest and largest values."
   ]
  },
  {
   "cell_type": "code",
   "execution_count": 4,
   "id": "2003b99e-88c4-4f31-bc4d-08eff073657b",
   "metadata": {},
   "outputs": [
    {
     "name": "stdin",
     "output_type": "stream",
     "text": [
      "Enter a list of numbers separated by space:  54 65 87\n"
     ]
    },
    {
     "name": "stdout",
     "output_type": "stream",
     "text": [
      "The average (excluding the smallest and largest values) is: 65.00\n"
     ]
    }
   ],
   "source": [
    "# Take user input for a list of numbers\n",
    "try:\n",
    "    numbers = [float(x) for x in input(\"Enter a list of numbers separated by space: \").split()]\n",
    "\n",
    "    # Check if there are at least three numbers\n",
    "    if len(numbers) < 3:\n",
    "        print(\"List should have at least three numbers.\")\n",
    "    else:\n",
    "        # Exclude the smallest and largest values\n",
    "        numbers.sort()\n",
    "        excluded_numbers = numbers[1:-1]\n",
    "\n",
    "        # Calculate the average\n",
    "        average = sum(excluded_numbers) / len(excluded_numbers)\n",
    "        print(f\"The average (excluding the smallest and largest values) is: {average:.2f}\")\n",
    "\n",
    "except ValueError:\n",
    "    print(\"Invalid input. Please enter valid numerical values.\")\n"
   ]
  },
  {
   "cell_type": "markdown",
   "id": "437a8201-5cf3-4eea-98e0-4093756a0dd0",
   "metadata": {},
   "source": [
    "### 18. Develop a program that converts a given temperature from Celsius to Fahrenheit."
   ]
  },
  {
   "cell_type": "code",
   "execution_count": 6,
   "id": "199bc382-484a-4717-aa23-384087454b8b",
   "metadata": {},
   "outputs": [
    {
     "name": "stdin",
     "output_type": "stream",
     "text": [
      "Enter the temperature in Celsius:  45\n"
     ]
    },
    {
     "name": "stdout",
     "output_type": "stream",
     "text": [
      "45.00 Celsius is equal to 113.00 Fahrenheit.\n"
     ]
    }
   ],
   "source": [
    "# Take user input for the temperature in Celsius\n",
    "celsius_temperature = float(input(\"Enter the temperature in Celsius: \"))\n",
    "\n",
    "    # Convert Celsius to Fahrenheit\n",
    "fahrenheit_temperature = (celsius_temperature * 9/5) + 32\n",
    "\n",
    "    # Display the result\n",
    "print(f\"{celsius_temperature:.2f} Celsius is equal to {fahrenheit_temperature:.2f} Fahrenheit.\")"
   ]
  },
  {
   "cell_type": "markdown",
   "id": "6b9b6d1d-e2d3-4977-b6d9-8300bbc6b5d4",
   "metadata": {},
   "source": [
    "### 19. Create a program that simulates a basic calculator for addition, subtraction, multiplication, and division."
   ]
  },
  {
   "cell_type": "code",
   "execution_count": 8,
   "id": "2c335bfc-a5c7-4c17-b105-572770eff785",
   "metadata": {},
   "outputs": [
    {
     "name": "stdin",
     "output_type": "stream",
     "text": [
      "Enter your choice (1-4):  3\n",
      "Enter the first number:  3\n",
      "Enter the second number:  4\n"
     ]
    },
    {
     "name": "stdout",
     "output_type": "stream",
     "text": [
      "The result of multiplication: 12.0\n"
     ]
    }
   ],
   "source": [
    "# Function for addition\n",
    "def add(x, y):\n",
    "    return x + y\n",
    "\n",
    "# Function for subtraction\n",
    "def subtract(x, y):\n",
    "    return x - y\n",
    "\n",
    "# Function for multiplication\n",
    "def multiply(x, y):\n",
    "    return x * y\n",
    "\n",
    "# Function for division\n",
    "def divide(x, y):\n",
    "    if y != 0:\n",
    "        return x / y\n",
    "    else:\n",
    "        return \"Cannot divide by zero\"\n",
    "\n",
    "# Take user input for operation choice\n",
    "choice = input(\"Enter your choice (1-4): \")\n",
    "\n",
    "# Take user input for numbers\n",
    "try:\n",
    "    num1 = float(input(\"Enter the first number: \"))\n",
    "    num2 = float(input(\"Enter the second number: \"))\n",
    "\n",
    "    # Perform the selected operation\n",
    "    if choice == '1':\n",
    "        result = add(num1, num2)\n",
    "        print(f\"The result of addition: {result}\")\n",
    "    elif choice == '2':\n",
    "        result = subtract(num1, num2)\n",
    "        print(f\"The result of subtraction: {result}\")\n",
    "    elif choice == '3':\n",
    "        result = multiply(num1, num2)\n",
    "        print(f\"The result of multiplication: {result}\")\n",
    "    elif choice == '4':\n",
    "        result = divide(num1, num2)\n",
    "        print(f\"The result of division: {result}\")\n",
    "    else:\n",
    "        print(\"Invalid choice. Please enter a number between 1 and 4.\")\n",
    "except ValueError:\n",
    "    print(\"Invalid input. Please enter valid numerical values.\")\n"
   ]
  },
  {
   "cell_type": "markdown",
   "id": "c882d1ab-8261-46d4-8ede-4140d3193d0f",
   "metadata": {},
   "source": [
    "### 20. Write a program that determines the roots of a cubic equation using the Cardano formula."
   ]
  },
  {
   "cell_type": "markdown",
   "id": "fb89df89-6787-42fc-ba86-d857e215db08",
   "metadata": {},
   "source": [
    "### Advanced Level:"
   ]
  },
  {
   "cell_type": "markdown",
   "id": "68b0fc44-5657-46d8-9f36-8e6bd4e9d0c4",
   "metadata": {},
   "source": [
    "### 21. Create a program that calculates the income tax based on the user's income and tax brackets."
   ]
  },
  {
   "cell_type": "code",
   "execution_count": 10,
   "id": "6a02e089-14bf-4f60-aac7-95e22efd3374",
   "metadata": {},
   "outputs": [
    {
     "name": "stdin",
     "output_type": "stream",
     "text": [
      "Enter your income: $ 500\n"
     ]
    },
    {
     "name": "stdout",
     "output_type": "stream",
     "text": [
      "Your income tax due is: $50.00\n"
     ]
    }
   ],
   "source": [
    "#  Take user input for income\n",
    "income = float(input(\"Enter your income: $\"))\n",
    "\n",
    "#  Define tax brackets and rates\n",
    "tax_brackets = [10000, 50000, 100000, float('inf')]\n",
    "tax_rates = [0.1, 0.2, 0.3, 0.4]\n",
    "\n",
    "#  Calculate income tax\n",
    "tax_due = 0\n",
    "previous_bracket = 0\n",
    "\n",
    "for i in range(len(tax_brackets)):\n",
    "    if income <= tax_brackets[i]:\n",
    "        tax_due += (income - previous_bracket) * tax_rates[i]\n",
    "        break\n",
    "    else:\n",
    "        tax_due += (tax_brackets[i] - previous_bracket) * tax_rates[i]\n",
    "        previous_bracket = tax_brackets[i]\n",
    "\n",
    "#  Display the income tax\n",
    "print(f\"Your income tax due is: ${tax_due:.2f}\")\n"
   ]
  },
  {
   "cell_type": "markdown",
   "id": "f1c9c6ce-e3d8-4e2f-9b7a-0cc30fbec819",
   "metadata": {},
   "source": [
    "### 22. Write a program that simulates a rock-paper-scissors game against the computer."
   ]
  },
  {
   "cell_type": "code",
   "execution_count": 12,
   "id": "05e0bc0d-bb12-4295-857b-1f14337e153f",
   "metadata": {},
   "outputs": [
    {
     "name": "stdin",
     "output_type": "stream",
     "text": [
      "Enter your choice (rock/paper/scissors):  paper\n"
     ]
    },
    {
     "name": "stdout",
     "output_type": "stream",
     "text": [
      "\n",
      "Your choice: Paper\n",
      "Computer's choice: Scissors\n",
      "\n",
      "Computer wins!\n"
     ]
    }
   ],
   "source": [
    "import random\n",
    "\n",
    "# Define choices\n",
    "choices = ['rock', 'paper', 'scissors']\n",
    "\n",
    "# Take user input\n",
    "user_choice = input(\"Enter your choice (rock/paper/scissors): \").lower()\n",
    "\n",
    "# Generate computer's choice\n",
    "computer_choice = random.choice(choices)\n",
    "\n",
    "# S Display choices\n",
    "print(f\"\\nYour choice: {user_choice.capitalize()}\")\n",
    "print(f\"Computer's choice: {computer_choice.capitalize()}\\n\")\n",
    "\n",
    "#  Determine the winner\n",
    "if user_choice in choices:\n",
    "    if user_choice == computer_choice:\n",
    "        print(\"It's a tie!\")\n",
    "    elif (\n",
    "        (user_choice == 'rock' and computer_choice == 'scissors') or\n",
    "        (user_choice == 'paper' and computer_choice == 'rock') or\n",
    "        (user_choice == 'scissors' and computer_choice == 'paper')\n",
    "    ):\n",
    "        print(\"Congratulations! You win!\")\n",
    "    else:\n",
    "        print(\"Computer wins!\")\n",
    "else:\n",
    "    print(\"Invalid choice. Please enter rock, paper, or scissors.\")\n"
   ]
  },
  {
   "cell_type": "markdown",
   "id": "7d2dad21-4e3a-4cc6-8361-4d04d149b0b6",
   "metadata": {},
   "source": [
    "### 23. Develop a program that generates a random password based on user preferences (length, complexity)."
   ]
  },
  {
   "cell_type": "code",
   "execution_count": 15,
   "id": "bb0a2862-ddac-4cb6-9fdb-bef23d0505e0",
   "metadata": {},
   "outputs": [
    {
     "name": "stdin",
     "output_type": "stream",
     "text": [
      "Enter the password length:  5\n",
      "Enter the complexity level (low/medium/high):  medium\n"
     ]
    },
    {
     "name": "stdout",
     "output_type": "stream",
     "text": [
      "Generated Password: KPrOb\n"
     ]
    }
   ],
   "source": [
    "import random\n",
    "import string\n",
    "\n",
    "# Function to generate a random password\n",
    "def generate_password(length, complexity):\n",
    "    if complexity == 'low':\n",
    "        characters = string.ascii_lowercase\n",
    "    elif complexity == 'medium':\n",
    "        characters = string.ascii_letters + string.digits\n",
    "    elif complexity == 'high':\n",
    "        characters = string.ascii_letters + string.digits + string.punctuation\n",
    "    else:\n",
    "        print(\"Invalid complexity. Please choose 'low', 'medium', or 'high'.\")\n",
    "        return None\n",
    "\n",
    "    password = ''.join(random.choice(characters) for _ in range(length))\n",
    "    return password\n",
    "\n",
    "# Take user input for password preferences\n",
    "\n",
    "length = int(input(\"Enter the password length: \"))\n",
    "complexity = input(\"Enter the complexity level (low/medium/high): \").lower()\n",
    "\n",
    "    # Generate and display the password\n",
    "generated_password = generate_password(length, complexity)\n",
    "if generated_password:\n",
    "    print(f\"Generated Password: {generated_password}\")"
   ]
  },
  {
   "cell_type": "markdown",
   "id": "384d9ddb-75e0-4f71-95b5-c2ca99df1507",
   "metadata": {},
   "source": [
    "### 26. Write a program that simulates a basic quiz game with multiple-choice questions and scoring."
   ]
  },
  {
   "cell_type": "markdown",
   "id": "5ffada44-a92d-429f-a8f0-b5d40815caed",
   "metadata": {},
   "source": [
    "### 27. Develop a program that determines whether a given year is a prime number or not."
   ]
  },
  {
   "cell_type": "code",
   "execution_count": 2,
   "id": "81851c38-be5f-40de-8eb9-92ba0e08b70a",
   "metadata": {},
   "outputs": [
    {
     "name": "stdin",
     "output_type": "stream",
     "text": [
      "Enter a year to check if it's a prime number:  2021\n"
     ]
    },
    {
     "name": "stdout",
     "output_type": "stream",
     "text": [
      "2021 is not a prime number.\n"
     ]
    }
   ],
   "source": [
    "# Function to check if a number is prime\n",
    "def is_prime(number):\n",
    "    if number <= 1:\n",
    "        return False\n",
    "    for i in range(2, int(number**0.5) + 1):\n",
    "        if number % i == 0:\n",
    "            return False\n",
    "    return True\n",
    "\n",
    "# Take user input for the year\n",
    "year = int(input(\"Enter a year to check if it's a prime number: \"))   \n",
    "# Check if the year is prime\n",
    "if is_prime(year):\n",
    "    print(f\"{year} is a prime number.\")\n",
    "else:\n",
    "    print(f\"{year} is not a prime number.\")\n"
   ]
  },
  {
   "cell_type": "markdown",
   "id": "a43aa63e-5c18-4b8e-af70-e6ec22bc866d",
   "metadata": {},
   "source": [
    "### 28. Create a program that sorts three numbers in ascending order using conditional statements."
   ]
  },
  {
   "cell_type": "code",
   "execution_count": 2,
   "id": "9373dcf6-ba79-44c8-89b6-778b3757f1b0",
   "metadata": {},
   "outputs": [
    {
     "name": "stdin",
     "output_type": "stream",
     "text": [
      "Enter the first number:  54\n",
      "Enter the second number:  09\n",
      "Enter the third number:  90\n"
     ]
    },
    {
     "name": "stdout",
     "output_type": "stream",
     "text": [
      "The numbers in ascending order are: [9.0, 54.0, 90.0]\n"
     ]
    }
   ],
   "source": [
    "# Take user input for three numbers\n",
    "num1 = float(input(\"Enter the first number: \"))\n",
    "num2 = float(input(\"Enter the second number: \"))\n",
    "num3 = float(input(\"Enter the third number: \"))\n",
    "\n",
    "\n",
    "# Sort the numbers in ascending order using conditional statements\n",
    "if num1 <= num2 <= num3:\n",
    "    sorted_numbers = [num1, num2, num3]\n",
    "elif num1 <= num3 <= num2:\n",
    "    sorted_numbers = [num1, num3, num2]\n",
    "elif num2 <= num1 <= num3:\n",
    "    sorted_numbers = [num2, num1, num3]\n",
    "elif num2 <= num3 <= num1:\n",
    "    sorted_numbers = [num2, num3, num1]\n",
    "elif num3 <= num1 <= num2:\n",
    "    sorted_numbers = [num3, num1, num2]\n",
    "else:\n",
    "    sorted_numbers = [num3, num2, num1]\n",
    "\n",
    "# Display the sorted numbers\n",
    "print(f\"The numbers in ascending order are: {sorted_numbers}\")\n"
   ]
  },
  {
   "cell_type": "markdown",
   "id": "06555f4a-a0ba-4562-a359-f29652a05500",
   "metadata": {},
   "source": [
    "### 30. Write a program that calculates the BMI (Body Mass Index) and provides health recommendations based\n",
    "on the user's input."
   ]
  },
  {
   "cell_type": "code",
   "execution_count": 4,
   "id": "1bfa348d-4aa2-4520-bd3e-4bcf90c2614c",
   "metadata": {},
   "outputs": [
    {
     "name": "stdin",
     "output_type": "stream",
     "text": [
      "Enter your weight in kilograms:  55\n",
      "Enter your height in meters:  67\n"
     ]
    },
    {
     "name": "stdout",
     "output_type": "stream",
     "text": [
      "Your BMI is: 0.01\n",
      "Underweight: Consider gaining some weight.\n"
     ]
    }
   ],
   "source": [
    "# Function to calculate BMI\n",
    "def calculate_bmi(weight, height):\n",
    "    return weight / (height ** 2)\n",
    "\n",
    "# Function to provide health recommendations based on BMI\n",
    "def health_recommendations(bmi):\n",
    "    if bmi < 18.5:\n",
    "        return \"Underweight: Consider gaining some weight.\"\n",
    "    elif 18.5 <= bmi < 24.9:\n",
    "        return \"Normal weight: Maintain a healthy lifestyle.\"\n",
    "    elif 25 <= bmi < 29.9:\n",
    "        return \"Overweight: Consider losing some weight for better health.\"\n",
    "    else:\n",
    "        return \"Obese: Consult with a healthcare professional for guidance.\"\n",
    "\n",
    "# Take user input for weight and height\n",
    "try:\n",
    "    weight = float(input(\"Enter your weight in kilograms: \"))\n",
    "    height = float(input(\"Enter your height in meters: \"))\n",
    "except ValueError:\n",
    "    print(\"Invalid input. Please enter valid numerical values for weight and height.\")\n",
    "    exit()\n",
    "\n",
    "# Calculate BMI\n",
    "bmi = calculate_bmi(weight, height)\n",
    "\n",
    "# Display BMI and health recommendations\n",
    "print(f\"Your BMI is: {bmi:.2f}\")\n",
    "print(health_recommendations(bmi))\n"
   ]
  },
  {
   "cell_type": "markdown",
   "id": "d287ddb4-98b4-4d60-af21-ee24b25a2b5d",
   "metadata": {},
   "source": [
    "### Challenge Level:"
   ]
  },
  {
   "cell_type": "markdown",
   "id": "ee9e9a81-f03e-47e2-b060-640949f16372",
   "metadata": {},
   "source": [
    "### 31. Create a program that validates a password based on complexity rules (length, characters, etc.)."
   ]
  },
  {
   "cell_type": "code",
   "execution_count": 6,
   "id": "82c768ff-0d1e-4d32-a05d-7c9162a1b369",
   "metadata": {},
   "outputs": [
    {
     "name": "stdin",
     "output_type": "stream",
     "text": [
      "Enter your password:  Aloky123@\n"
     ]
    },
    {
     "name": "stdout",
     "output_type": "stream",
     "text": [
      "Password is valid.\n"
     ]
    }
   ],
   "source": [
    "# Function to validate password complexity\n",
    "def is_valid_password(password):\n",
    "    # Check length\n",
    "    if len(password) < 8:\n",
    "        return False\n",
    "\n",
    "    # Check for at least one uppercase letter\n",
    "    if not any(char.isupper() for char in password):\n",
    "        return False\n",
    "\n",
    "    # Check for at least one lowercase letter\n",
    "    if not any(char.islower() for char in password):\n",
    "        return False\n",
    "\n",
    "    # Check for at least one digit\n",
    "    if not any(char.isdigit() for char in password):\n",
    "        return False\n",
    "\n",
    "    # Check for at least one special character\n",
    "    special_characters = \"!@#$%^&*()-_+=<>,.?/:;{}[]|\"\n",
    "    if not any(char in special_characters for char in password):\n",
    "        return False\n",
    "\n",
    "    # If all checks pass, the password is valid\n",
    "    return True\n",
    "\n",
    "# Take user input for the password\n",
    "password = input(\"Enter your password: \")\n",
    "\n",
    "# Validate the password\n",
    "if is_valid_password(password):\n",
    "    print(\"Password is valid.\")\n",
    "else:\n",
    "    print(\"Password is not valid. Please follow the complexity rules.\")\n"
   ]
  },
  {
   "cell_type": "markdown",
   "id": "5f07dc2a-a48e-4ead-8ccd-75f6d6ca4e1c",
   "metadata": {},
   "source": [
    "### 32. Develop a program that performs matrix addition and subtraction based on user input."
   ]
  },
  {
   "cell_type": "markdown",
   "id": "dbb5ffa2-686e-48d1-a8e0-9e58456ec679",
   "metadata": {},
   "source": [
    "### 35. Create a program that simulates a basic text-based tic-tac-toe game against the computer."
   ]
  },
  {
   "cell_type": "markdown",
   "id": "6f0b59eb-006e-4b3e-9252-b14a32ff29eb",
   "metadata": {},
   "source": [
    "### 36. Write a program that generates Fibonacci numbers up to a specified term using iterative methods."
   ]
  },
  {
   "cell_type": "code",
   "execution_count": 12,
   "id": "0bfeab2c-f833-4ae8-a799-de45e1a7e85d",
   "metadata": {},
   "outputs": [
    {
     "name": "stdin",
     "output_type": "stream",
     "text": [
      "Enter the number of Fibonacci terms to generate:  8\n"
     ]
    },
    {
     "name": "stdout",
     "output_type": "stream",
     "text": [
      "Fibonacci sequence up to term 8: [0, 1, 1, 2, 3, 5, 8, 13]\n"
     ]
    }
   ],
   "source": [
    "# Function to generate Fibonacci numbers iteratively\n",
    "def generate_fibonacci(n):\n",
    "    fibonacci_sequence = [0, 1]\n",
    "\n",
    "    for i in range(2, n):\n",
    "        next_term = fibonacci_sequence[-1] + fibonacci_sequence[-2]\n",
    "        fibonacci_sequence.append(next_term)\n",
    "\n",
    "    return fibonacci_sequence\n",
    "\n",
    "# Take user input for the number of terms\n",
    "n = int(input(\"Enter the number of Fibonacci terms to generate: \"))\n",
    "# Generate and display Fibonacci numbers\n",
    "fibonacci_numbers = generate_fibonacci(n)\n",
    "print(f\"Fibonacci sequence up to term {n}: {fibonacci_numbers}\")\n"
   ]
  },
  {
   "cell_type": "markdown",
   "id": "e5eb989e-13b8-449b-a3d7-d68da8e5c706",
   "metadata": {},
   "source": [
    "### 37. Develop a program that calculates the nth term of the Fibonacci sequence using memoization."
   ]
  },
  {
   "cell_type": "code",
   "execution_count": 13,
   "id": "811b13c8-fa1e-49c2-a512-9788f54626ac",
   "metadata": {},
   "outputs": [
    {
     "name": "stdin",
     "output_type": "stream",
     "text": [
      "Enter the term of the Fibonacci sequence to calculate:  9\n"
     ]
    },
    {
     "name": "stdout",
     "output_type": "stream",
     "text": [
      "The 9th term of the Fibonacci sequence is: 34\n"
     ]
    }
   ],
   "source": [
    "# Function for Fibonacci calculation with memoization\n",
    "def fibonacci(n, memo={}):\n",
    "    if n <= 1:\n",
    "        return n\n",
    "    elif n not in memo:\n",
    "        memo[n] = fibonacci(n-1, memo) + fibonacci(n-2, memo)\n",
    "    return memo[n]\n",
    "\n",
    "# Take user input \n",
    "term = int(input(\"Enter the term of the Fibonacci sequence to calculate: \"))\n",
    "\n",
    "\n",
    "# Calculate and display the nth term of the Fibonacci sequence\n",
    "result = fibonacci(term)\n",
    "print(f\"The {term}th term of the Fibonacci sequence is: {result}\")\n"
   ]
  },
  {
   "cell_type": "markdown",
   "id": "28ce280b-964f-4aaf-84cc-5e6529fe0062",
   "metadata": {},
   "source": [
    "### 38. Create a program that generates a calendar for a given month and year using conditional statements."
   ]
  },
  {
   "cell_type": "code",
   "execution_count": 14,
   "id": "eb2496ed-6657-4baa-97d4-fc1f420419a4",
   "metadata": {},
   "outputs": [
    {
     "name": "stdin",
     "output_type": "stream",
     "text": [
      "Enter the year:  2024\n",
      "Enter the month (1-12):  4\n"
     ]
    },
    {
     "name": "stdout",
     "output_type": "stream",
     "text": [
      "\n",
      " Mo Tu We Th Fr Sa Su\n",
      "  1   2   3   4   5   6   7 \n",
      "  8   9  10  11  12  13  14 \n",
      " 15  16  17  18  19  20  21 \n",
      " 22  23  24  25  26  27  28 \n",
      " 29  30                     \n"
     ]
    }
   ],
   "source": [
    "import calendar\n",
    "\n",
    "# Function to generate a calendar for a given month and year\n",
    "def generate_calendar(year, month):\n",
    "    cal = calendar.monthcalendar(year, month)\n",
    "    print(\"\\n Mo Tu We Th Fr Sa Su\")\n",
    "\n",
    "    for week in cal:\n",
    "        for day in week:\n",
    "            if day == 0:\n",
    "                print(\"   \", end=\" \")\n",
    "            else:\n",
    "                print(f\" {day:2d}\", end=\" \")\n",
    "        print()\n",
    "\n",
    "# Take user input for the year and month\n",
    "year = int(input(\"Enter the year: \"))\n",
    "month = int(input(\"Enter the month (1-12): \"))\n",
    "# Check if the month is within the valid range\n",
    "if 1 <= month <= 12:\n",
    "    generate_calendar(year, month)\n",
    "else:\n",
    "    print(\"Invalid month. Please enter a value between 1 and 12.\")\n"
   ]
  },
  {
   "cell_type": "markdown",
   "id": "0bca258b-b35e-4a4e-80fd-52319b075503",
   "metadata": {},
   "source": [
    "### 39. Build a program that simulates a basic text-based blackjack game against the computer."
   ]
  },
  {
   "cell_type": "markdown",
   "id": "2abd0f45-ea22-4e14-82e8-d2f6c3b9776f",
   "metadata": {},
   "source": [
    "### 40. Write a program that generates the prime factors of a given number using trial division."
   ]
  },
  {
   "cell_type": "code",
   "execution_count": 17,
   "id": "6e8cdf88-e08f-4aee-90a8-63a5f8e1b844",
   "metadata": {},
   "outputs": [
    {
     "name": "stdin",
     "output_type": "stream",
     "text": [
      "Enter a number to find its prime factors:  45\n"
     ]
    },
    {
     "name": "stdout",
     "output_type": "stream",
     "text": [
      "The prime factors of 45 are: [3, 3, 5]\n"
     ]
    }
   ],
   "source": [
    "# Function to generate prime factors using trial division\n",
    "def prime_factors(n):\n",
    "    factors = []\n",
    "    # Divide by 2 until it is odd\n",
    "    while n % 2 == 0:\n",
    "        factors.append(2)\n",
    "        n //= 2\n",
    "\n",
    "    # Try odd divisors starting from 3\n",
    "    for i in range(3, int(n**0.5) + 1, 2):\n",
    "        while n % i == 0:\n",
    "            factors.append(i)\n",
    "            n //= i\n",
    "\n",
    "    # If the remaining number is a prime greater than 2\n",
    "    if n > 2:\n",
    "        factors.append(n)\n",
    "\n",
    "    return factors\n",
    "\n",
    "# Take user input\n",
    "number = int(input(\"Enter a number to find its prime factors: \"))\n",
    "\n",
    "\n",
    "# Generate and display prime factors\n",
    "factors = prime_factors(number)\n",
    "print(f\"The prime factors of {number} are: {factors}\")\n"
   ]
  },
  {
   "cell_type": "code",
   "execution_count": null,
   "id": "4600f04f-9d03-4b5b-a03c-c64f116f5f72",
   "metadata": {},
   "outputs": [],
   "source": []
  }
 ],
 "metadata": {
  "kernelspec": {
   "display_name": "Python 3 (ipykernel)",
   "language": "python",
   "name": "python3"
  },
  "language_info": {
   "codemirror_mode": {
    "name": "ipython",
    "version": 3
   },
   "file_extension": ".py",
   "mimetype": "text/x-python",
   "name": "python",
   "nbconvert_exporter": "python",
   "pygments_lexer": "ipython3",
   "version": "3.10.8"
  }
 },
 "nbformat": 4,
 "nbformat_minor": 5
}
