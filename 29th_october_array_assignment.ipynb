{
 "cells": [
  {
   "cell_type": "markdown",
   "id": "e964ce4c-21bd-442b-9def-12774616c623",
   "metadata": {},
   "source": [
    "### 1. Given an array, check if it contains any duplicates or not.\n",
    "arr = [1, 2, 4, 2, 5, 9]\n",
    "Output = True"
   ]
  },
  {
   "cell_type": "code",
   "execution_count": 16,
   "id": "f5e49216-1d67-42f2-af85-bbe79fe8ad46",
   "metadata": {},
   "outputs": [
    {
     "data": {
      "text/plain": [
       "True"
      ]
     },
     "execution_count": 16,
     "metadata": {},
     "output_type": "execute_result"
    }
   ],
   "source": [
    "# define function\n",
    "def checkduplicates(arr):\n",
    "    duplicates = set()\n",
    "    # check the condition\n",
    "    for i in arr: \n",
    "        if i in duplicates:\n",
    "            return True\n",
    "        duplicates.add(i)\n",
    "    return False\n",
    "        \n",
    "arr = [1,2,4,2,5,9]\n",
    "# call the function\n",
    "checkduplicates(arr)\n",
    "            \n"
   ]
  },
  {
   "cell_type": "markdown",
   "id": "d69a17fb-fd25-4116-b60d-c461db14b513",
   "metadata": {},
   "source": [
    "### 2. Given an array and an integer k, rotate the array to the right by k steps.\n",
    "arr = [1, 2, 3, 4, 5, 6, 7] k = 3\n",
    "Output = [5, 6, 7, 1, 2, 3, 4]"
   ]
  },
  {
   "cell_type": "code",
   "execution_count": 18,
   "id": "c90530ee-6172-4a2b-b5d2-1be5627649e7",
   "metadata": {},
   "outputs": [
    {
     "name": "stdout",
     "output_type": "stream",
     "text": [
      "[5, 6, 7, 1, 2, 3, 4]\n"
     ]
    }
   ],
   "source": [
    "# define function\n",
    "def rotate_array(arr, k):\n",
    "    # length of array\n",
    "    n = len(arr)\n",
    "    k = k % n  # To handle cases where k is greater than the length of the array\n",
    "    arr[:n-k] = reversed(arr[:n-k])\n",
    "    arr[n-k:] = reversed(arr[n-k:])\n",
    "    arr.reverse()\n",
    "    return arr\n",
    "\n",
    "arr = [1, 2, 3, 4, 5, 6, 7]\n",
    "k = 3\n",
    "# print the result\n",
    "print(rotate_array(arr, k))  \n"
   ]
  },
  {
   "cell_type": "markdown",
   "id": "81bbfb87-f521-407c-ade0-74caaa9f2b5e",
   "metadata": {},
   "source": [
    "### 3. Reverse the given array in-place, means without using any extra data structure.\n",
    "arr = [2, 4, 5, 7, 9, 12]\n",
    "Output = [12, 9, 7, 5, 4, 2]"
   ]
  },
  {
   "cell_type": "code",
   "execution_count": 21,
   "id": "3f6e00b5-9ff0-44a5-acd1-dab0000aceed",
   "metadata": {},
   "outputs": [
    {
     "name": "stdout",
     "output_type": "stream",
     "text": [
      "[12, 9, 7, 5, 4, 2]\n"
     ]
    }
   ],
   "source": [
    "# define function\n",
    "def reverse_array_inplace(arr):\n",
    "    start = 0\n",
    "    end = len(arr) - 1\n",
    "    while start < end:\n",
    "        arr[start], arr[end] = arr[end], arr[start]\n",
    "        start += 1\n",
    "        end -= 1\n",
    "\n",
    "arr = [2, 4, 5, 7, 9, 12]\n",
    "# display the result\n",
    "reverse_array_inplace(arr)\n",
    "print(arr) \n"
   ]
  },
  {
   "cell_type": "code",
   "execution_count": null,
   "id": "7925f620-00a5-4e5a-b20f-a54077ea8836",
   "metadata": {},
   "outputs": [],
   "source": []
  },
  {
   "cell_type": "markdown",
   "id": "59506e48-e138-4af3-b883-64f4d07dfe38",
   "metadata": {},
   "source": [
    "### 4. Given an array of integers, find the maximum element in an array\n",
    "arr = [10, 5, 20, 8, 15]\n",
    "Output = 20"
   ]
  },
  {
   "cell_type": "code",
   "execution_count": 20,
   "id": "b196068d-31af-463d-bdfb-6b43c0bf863c",
   "metadata": {},
   "outputs": [
    {
     "name": "stdout",
     "output_type": "stream",
     "text": [
      "20\n"
     ]
    }
   ],
   "source": [
    "# define function\n",
    "def find_max(arr):\n",
    "    # check the array is empty or not\n",
    "    if not arr:\n",
    "        return None\n",
    "    # take maximum element\n",
    "    max_element = arr[0]\n",
    "    # initialize \n",
    "    for num in arr[1:]:\n",
    "        # check the condition\n",
    "        if num > max_element:\n",
    "            max_element = num\n",
    "    return max_element\n",
    "\n",
    "arr = [10, 5, 20, 8, 15]\n",
    "# display the result\n",
    "print(find_max(arr)) \n"
   ]
  },
  {
   "cell_type": "markdown",
   "id": "fe547421-0725-4e68-8d23-950acd91670b",
   "metadata": {},
   "source": [
    "### 5. Given a sorted array, remove the duplicate element without using any extra data structure.\n",
    "arr = [1, 1, 2, 2, 2, 3, 3, 4, 4, 4, 5, 5]\n",
    "Output = [1, 2, 3, 4, 5]"
   ]
  },
  {
   "cell_type": "code",
   "execution_count": 25,
   "id": "0d45fd2a-abe6-42f3-9b68-6c095627ade8",
   "metadata": {},
   "outputs": [
    {
     "name": "stdout",
     "output_type": "stream",
     "text": [
      "[1, 2, 3, 4, 5]\n"
     ]
    }
   ],
   "source": [
    "# define function\n",
    "def remove_duplicates(arr):\n",
    "    # check the array is empty or not\n",
    "    if not arr:\n",
    "        return []\n",
    "    write_index = 1\n",
    "    # initialize the function\n",
    "    for i in range(1, len(arr)):\n",
    "        if arr[i] != arr[write_index - 1]:\n",
    "            arr[write_index] = arr[i]\n",
    "            write_index += 1\n",
    "    return arr[:write_index]\n",
    "\n",
    "arr = [1, 1, 2, 2, 2, 3, 3, 4, 4, 4, 5, 5]\n",
    "# display the result\n",
    "print(remove_duplicates(arr)) \n"
   ]
  },
  {
   "cell_type": "code",
   "execution_count": null,
   "id": "6fdb8e4c-7160-4a3d-bf76-5c522e88b1d0",
   "metadata": {},
   "outputs": [],
   "source": []
  },
  {
   "cell_type": "code",
   "execution_count": null,
   "id": "848d4d53-a714-4363-beb4-2a691b7621ad",
   "metadata": {},
   "outputs": [],
   "source": []
  },
  {
   "cell_type": "code",
   "execution_count": null,
   "id": "62115bd0-dac2-407d-8415-a9d2ad71ba08",
   "metadata": {},
   "outputs": [],
   "source": []
  }
 ],
 "metadata": {
  "kernelspec": {
   "display_name": "Python 3 (ipykernel)",
   "language": "python",
   "name": "python3"
  },
  "language_info": {
   "codemirror_mode": {
    "name": "ipython",
    "version": 3
   },
   "file_extension": ".py",
   "mimetype": "text/x-python",
   "name": "python",
   "nbconvert_exporter": "python",
   "pygments_lexer": "ipython3",
   "version": "3.10.8"
  }
 },
 "nbformat": 4,
 "nbformat_minor": 5
}
