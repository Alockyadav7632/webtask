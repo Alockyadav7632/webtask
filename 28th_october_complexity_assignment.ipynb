{
 "cells": [
  {
   "cell_type": "markdown",
   "id": "ff433389-f66d-4006-94bb-d2324a1e828e",
   "metadata": {},
   "source": [
    "### Problem 1 :\n"
   ]
  },
  {
   "cell_type": "code",
   "execution_count": 31,
   "id": "350a848c-2ba4-4332-9c35-b58c571af13f",
   "metadata": {},
   "outputs": [],
   "source": [
    "def quicksort(arr):\n",
    "    if len(arr) <= 1:\n",
    "        return arr\n",
    "    pivot = arr[len(arr) // 2]\n",
    "    left = [x for x in arr if x < pivot]\n",
    "    middle = [x for x in arr if x == pivot]\n",
    "    right = [x for x in arr if x > pivot]\n",
    "    return quicksort(left) + middle + quicksort(right)"
   ]
  },
  {
   "cell_type": "code",
   "execution_count": null,
   "id": "90228b61-0e0d-4b17-99f9-cf660711448f",
   "metadata": {},
   "outputs": [],
   "source": [
    "Time complexity of quicksort algorithm\n",
    "T(n) = 2T(n/2) + o(n)\n",
    "\n",
    "recursion calls n times"
   ]
  },
  {
   "cell_type": "code",
   "execution_count": null,
   "id": "80ddd1de-4bc2-4cf6-8fca-135ec8c0a092",
   "metadata": {},
   "outputs": [],
   "source": []
  },
  {
   "cell_type": "markdown",
   "id": "bdba6706-c444-40ec-a460-ea77e4ec4dbb",
   "metadata": {},
   "source": [
    "### Problem 2 :"
   ]
  },
  {
   "cell_type": "code",
   "execution_count": null,
   "id": "bf01d6b9-f0b9-45df-b29f-65eb29123d87",
   "metadata": {},
   "outputs": [],
   "source": [
    "\n",
    "def nested_loop_example(matrix):\n",
    "rows, cols = len(matrix), len(matrix[0])\n",
    "total = 0\n",
    "for i in range(rows):\n",
    "for j in range(cols):\n",
    "total += matrix[i][j]\n",
    "return total"
   ]
  },
  {
   "cell_type": "code",
   "execution_count": null,
   "id": "d157718a-5df3-4a4f-b200-b68ed2dcdfa8",
   "metadata": {},
   "outputs": [],
   "source": [
    "Time complexity of algorithm is o(rows * cols)"
   ]
  },
  {
   "cell_type": "code",
   "execution_count": null,
   "id": "7b51b457-9e9d-402b-9cec-287c41298354",
   "metadata": {},
   "outputs": [],
   "source": []
  },
  {
   "cell_type": "markdown",
   "id": "a5ce0011-d8a2-4bea-ae8b-b48c85497c1c",
   "metadata": {},
   "source": [
    "### Problem 3"
   ]
  },
  {
   "cell_type": "code",
   "execution_count": null,
   "id": "519e5e2d-79c2-41fa-96b9-45a35b607a90",
   "metadata": {},
   "outputs": [],
   "source": [
    "def example_function(arr):\n",
    "result = 0\n",
    "for element in arr:\n",
    "result += element\n",
    "return result"
   ]
  },
  {
   "cell_type": "code",
   "execution_count": null,
   "id": "1cb28d59-cf99-4576-b360-61c96748a4e7",
   "metadata": {},
   "outputs": [],
   "source": [
    "The complexity of function depends upon the size of array\n",
    "o(n)"
   ]
  },
  {
   "cell_type": "code",
   "execution_count": null,
   "id": "89432757-f312-4c9f-b332-8b3493361e7b",
   "metadata": {},
   "outputs": [],
   "source": []
  },
  {
   "cell_type": "markdown",
   "id": "bda1d97b-c015-416e-8d2e-771fb35a6d82",
   "metadata": {},
   "source": [
    "### problem 4"
   ]
  },
  {
   "cell_type": "code",
   "execution_count": null,
   "id": "f71063e1-2a83-4848-80e9-d359afb775f0",
   "metadata": {},
   "outputs": [],
   "source": [
    "def longest_increasing_subsequence(nums):\n",
    "n = len(nums)\n",
    "lis = [1] * n\n",
    "for i in range(1, n):\n",
    "for j in range(0, i):\n",
    "if nums[i] > nums[j] and lis[i] < lis[j] + 1:\n",
    "lis[i] = lis[j] + 1\n",
    "return max(lis)"
   ]
  },
  {
   "cell_type": "code",
   "execution_count": null,
   "id": "83d24fa5-79ae-46f1-993c-e4c4fd231db3",
   "metadata": {},
   "outputs": [],
   "source": [
    "The complexity of algorithm is in this code nested loop comes is:\n",
    "o(n^2)"
   ]
  },
  {
   "cell_type": "code",
   "execution_count": null,
   "id": "a60a416a-d31b-4107-b399-3489fc58eed8",
   "metadata": {},
   "outputs": [],
   "source": []
  },
  {
   "cell_type": "markdown",
   "id": "73349148-dec6-4285-9a46-fb799f5c1379",
   "metadata": {},
   "source": [
    "### problem 5"
   ]
  },
  {
   "cell_type": "code",
   "execution_count": null,
   "id": "a51406a5-4bf2-46b7-94ee-366f9e05a636",
   "metadata": {},
   "outputs": [],
   "source": [
    "def mysterious_function(arr):\n",
    "n = len(arr)\n",
    "result = 0\n",
    "for i in range(n):\n",
    "for j in range(i, n):\n",
    "result += arr[i] * arr[j]\n",
    "return result"
   ]
  },
  {
   "cell_type": "code",
   "execution_count": null,
   "id": "6adadebe-6256-4197-ae92-b17b5fbe1f0c",
   "metadata": {},
   "outputs": [],
   "source": [
    "complexity of algorithm is o(n^2)"
   ]
  },
  {
   "cell_type": "code",
   "execution_count": null,
   "id": "e9f24834-a228-49e5-8abe-5976575e2776",
   "metadata": {},
   "outputs": [],
   "source": []
  },
  {
   "cell_type": "code",
   "execution_count": null,
   "id": "4765d2e0-9ad6-4e37-a0de-d8e81aafa6fd",
   "metadata": {},
   "outputs": [],
   "source": []
  },
  {
   "cell_type": "code",
   "execution_count": null,
   "id": "254076c6-72f1-44f5-8d2b-80a92b9f99ce",
   "metadata": {},
   "outputs": [],
   "source": []
  },
  {
   "cell_type": "code",
   "execution_count": null,
   "id": "1339fe65-d21b-46cb-82ff-4ab098adc909",
   "metadata": {},
   "outputs": [],
   "source": []
  },
  {
   "cell_type": "code",
   "execution_count": null,
   "id": "2d7bc8ae-227e-4b63-a63f-e7252240619f",
   "metadata": {},
   "outputs": [],
   "source": []
  },
  {
   "cell_type": "code",
   "execution_count": null,
   "id": "6f42ff8e-5255-473a-ae72-f859feabbe9a",
   "metadata": {},
   "outputs": [],
   "source": []
  },
  {
   "cell_type": "code",
   "execution_count": null,
   "id": "4ee11c3a-cdef-48a4-9661-95d92a0606ee",
   "metadata": {},
   "outputs": [],
   "source": []
  },
  {
   "cell_type": "code",
   "execution_count": null,
   "id": "074006ac-7f6b-4ea8-825f-0a3dd44c8bfc",
   "metadata": {},
   "outputs": [],
   "source": []
  },
  {
   "cell_type": "code",
   "execution_count": null,
   "id": "47edd349-7806-42aa-87c2-e5bba0f23687",
   "metadata": {},
   "outputs": [],
   "source": []
  },
  {
   "cell_type": "code",
   "execution_count": null,
   "id": "856208e2-11b7-4b6c-9b40-89b12773b7f7",
   "metadata": {},
   "outputs": [],
   "source": []
  },
  {
   "cell_type": "code",
   "execution_count": null,
   "id": "f631060d-04eb-44ae-a138-365e53c19d90",
   "metadata": {},
   "outputs": [],
   "source": []
  },
  {
   "cell_type": "code",
   "execution_count": null,
   "id": "4d3f0732-4297-44b4-bfca-290fed28223c",
   "metadata": {},
   "outputs": [],
   "source": []
  },
  {
   "cell_type": "code",
   "execution_count": null,
   "id": "496b60a0-8f25-479d-ae47-c12c06e982bb",
   "metadata": {},
   "outputs": [],
   "source": []
  },
  {
   "cell_type": "code",
   "execution_count": null,
   "id": "1325395d-65fd-4f65-aaf9-cf40ef682964",
   "metadata": {},
   "outputs": [],
   "source": []
  },
  {
   "cell_type": "code",
   "execution_count": null,
   "id": "6324a5f1-fab9-4759-ab5d-cef8c11f2195",
   "metadata": {},
   "outputs": [],
   "source": []
  },
  {
   "cell_type": "code",
   "execution_count": null,
   "id": "0076a161-6b5f-4b80-9691-a0f98bf1c743",
   "metadata": {},
   "outputs": [],
   "source": []
  },
  {
   "cell_type": "code",
   "execution_count": null,
   "id": "b995489a-9e9a-4c30-b15c-5afc6254b696",
   "metadata": {},
   "outputs": [],
   "source": []
  },
  {
   "cell_type": "code",
   "execution_count": null,
   "id": "c53514e3-15cc-4333-a135-dccf9d39baf5",
   "metadata": {},
   "outputs": [],
   "source": []
  },
  {
   "cell_type": "code",
   "execution_count": null,
   "id": "564766da-95a9-429d-84c0-e546a0f84309",
   "metadata": {},
   "outputs": [],
   "source": []
  },
  {
   "cell_type": "code",
   "execution_count": null,
   "id": "d90bca51-b858-4d87-ba12-0df665d96ff6",
   "metadata": {},
   "outputs": [],
   "source": []
  },
  {
   "cell_type": "markdown",
   "id": "5d85d855-0952-43b7-9929-30f8adf60287",
   "metadata": {},
   "source": [
    "### Solve the following problems on recursion"
   ]
  },
  {
   "cell_type": "markdown",
   "id": "d2276e2a-5f1b-41ce-af0e-2cffee7feb8f",
   "metadata": {},
   "source": [
    "### Write a recursive function to calculate the sum of digits of a given positive integer.\n",
    "sum_of_digits(123) -> 6"
   ]
  },
  {
   "cell_type": "code",
   "execution_count": 8,
   "id": "3bc0507b-4fe6-40b0-ab11-6dbb3fc47d44",
   "metadata": {},
   "outputs": [
    {
     "data": {
      "text/plain": [
       "14"
      ]
     },
     "execution_count": 8,
     "metadata": {},
     "output_type": "execute_result"
    }
   ],
   "source": [
    "# define the function\n",
    "def sumofdigit(n):\n",
    "    # base condition check\n",
    "    if n == 0:\n",
    "        # if yes return o\n",
    "        return 0\n",
    "    else:\n",
    "        \n",
    "        return n%10 + sumofdigit(n//10)\n",
    "    # recursive function call\n",
    "sumofdigit(3245)"
   ]
  },
  {
   "cell_type": "markdown",
   "id": "92b975b3-2dd2-461b-9b20-96a73e00dec0",
   "metadata": {},
   "source": [
    "### Write a recursive function to generate the first n numbers of the Fibonacci series.\n",
    "fibonacci_series(6) -> [0, 1, 1, 2, 3, 5]"
   ]
  },
  {
   "cell_type": "code",
   "execution_count": 22,
   "id": "b0100900-0f82-4d06-8991-94a155d257ff",
   "metadata": {},
   "outputs": [
    {
     "name": "stdout",
     "output_type": "stream",
     "text": [
      "0 1 1 2 3 5 8 13 21 34 None\n"
     ]
    }
   ],
   "source": [
    "# define the function\n",
    "def fibonacciseries(n):\n",
    "    a=0\n",
    "    b=1\n",
    "    # base condition check\n",
    "    if n < 1:\n",
    "        # if yes return o\n",
    "        return 0\n",
    "    for i in range(1, n):\n",
    "        print(a,end=\" \")\n",
    "        c= a+b\n",
    "        a=b\n",
    "        b=c\n",
    " # recursive function call       \n",
    "print(fibonacciseries(11))\n"
   ]
  },
  {
   "cell_type": "markdown",
   "id": "7ef5f40a-dfaf-49ce-91a1-e46526b78283",
   "metadata": {},
   "source": [
    "### Given a set of positive integers and a target sum, write a recursive function to determine if there exists a subset\n",
    "of the integers that adds up to the target sum.\n",
    "subset_sum([3, 34, 4, 12, 5, 2], 9) -> True"
   ]
  },
  {
   "cell_type": "code",
   "execution_count": 24,
   "id": "b99dc63a-8d2d-4d77-837e-ab73d7df77f9",
   "metadata": {},
   "outputs": [
    {
     "name": "stdout",
     "output_type": "stream",
     "text": [
      "True\n"
     ]
    }
   ],
   "source": [
    "# define function\n",
    "def subset_sum(numbers, target_sum):\n",
    "    # check the coondition\n",
    "    if target_sum == 0:\n",
    "        return True\n",
    "    if not numbers:\n",
    "        return False\n",
    "    \n",
    "    # Include the current number in the subset and recursively check\n",
    "    # if the target sum can be achieved with the remaining numbers\n",
    "    if subset_sum(numbers[1:], target_sum - numbers[0]):\n",
    "        return True\n",
    "    \n",
    "    # Exclude the current number from the subset and recursively check\n",
    "    # if the target sum can be achieved with the remaining numbers\n",
    "    return subset_sum(numbers[1:], target_sum)\n",
    "\n",
    "# Example usage\n",
    "numbers = [3, 34, 4, 12, 5, 2]\n",
    "target_sum = 9\n",
    "print(subset_sum(numbers, target_sum))  # Output: True\n"
   ]
  },
  {
   "cell_type": "markdown",
   "id": "f103b001-b5a3-4e66-b02d-82cdc816213e",
   "metadata": {},
   "source": [
    "### Given a non-empty string and a dictionary of words, write a recursive function to determine if the string can be\n",
    "segmented into a space-separated sequence of dictionary words.\n",
    "word_break( leetcode , [ leet , code ]) -> True"
   ]
  },
  {
   "cell_type": "markdown",
   "id": "4d228e4d-d5a2-44e4-8494-a9c4b3301639",
   "metadata": {},
   "source": [
    "### Implement a recursive function to solve the N Queens problem, where you have to place N queens on an N×N\n",
    "chessboard in such a way that no two queens threaten each other."
   ]
  },
  {
   "cell_type": "code",
   "execution_count": 26,
   "id": "0073614a-173b-4530-a601-6ec43e3e8f70",
   "metadata": {},
   "outputs": [
    {
     "name": "stdout",
     "output_type": "stream",
     "text": [
      ". . Q . \n",
      "Q . . . \n",
      ". . . Q \n",
      ". Q . . \n"
     ]
    }
   ],
   "source": [
    "# nxn queens problem\n",
    "#return True if it is's safe to place queen on the board\n",
    "def isSafeToPlaceQueen(board , row, col, n):\n",
    "    \n",
    "    # check in the left side\n",
    "    for i in range(col):\n",
    "        if board[row][i] ==1:\n",
    "            return False\n",
    "        \n",
    "    #check in the upper left diagonal\n",
    "    \n",
    "    for i, j in zip(range(row,-1,-1),range(col ,-1,-1)):\n",
    "        if board[i][j] ==1:\n",
    "            return False\n",
    "      \n",
    "    # check in the lower left diagonal\n",
    "    for i, j in zip(range(row ,n,1),range(col ,-1,-1)):\n",
    "         if board[i][j] ==1:\n",
    "            return False\n",
    "    return True\n",
    "\n",
    "def solveNQ(board ,n):\n",
    "    if not solveNQUtil(board,0 , n):\n",
    "        print(\"solution doesnot exists\")\n",
    "        return\n",
    "    \n",
    "    printBoard(board , n)\n",
    "    \n",
    "   # should return true if we are able to place all the queens \n",
    "def solveNQUtil(board, col ,n):\n",
    "    if(col >=n):  # base condition\n",
    "        return True\n",
    "    # check for all the rows\n",
    "    for row in range(n):\n",
    "        if isSafeToPlaceQueen(board , row, col, n):\n",
    "            board[row][col]=1 # set the queen\n",
    "            \n",
    "            # recursively try for the next columns\n",
    "            if solveNQUtil(board , col+1 , n):\n",
    "                return True\n",
    "            \n",
    "            # back tracking\n",
    "            board[row][col] =0 # queen can't be set here\n",
    "            \n",
    "    return False  # won't be able to place the queen\n",
    "\n",
    "def printBoard(board , n):\n",
    "    for i in range(n):\n",
    "        for j in range(n):\n",
    "            if board[i][j] == 1:\n",
    "                print(\"Q\" , end =\" \")\n",
    "            else:\n",
    "                print(\".\", end=\" \")\n",
    "        print()\n",
    "        \n",
    "        \n",
    "board = [[0,0,0,0],\n",
    "         [0,0,0,0],\n",
    "         [0,0,0,0],\n",
    "         [0,0,0,0]\n",
    "        ]\n",
    "solveNQ(board,4)\n"
   ]
  },
  {
   "cell_type": "code",
   "execution_count": null,
   "id": "f6835e4e-78aa-4264-920a-6f0db4abaa3d",
   "metadata": {},
   "outputs": [],
   "source": []
  }
 ],
 "metadata": {
  "kernelspec": {
   "display_name": "Python 3 (ipykernel)",
   "language": "python",
   "name": "python3"
  },
  "language_info": {
   "codemirror_mode": {
    "name": "ipython",
    "version": 3
   },
   "file_extension": ".py",
   "mimetype": "text/x-python",
   "name": "python",
   "nbconvert_exporter": "python",
   "pygments_lexer": "ipython3",
   "version": "3.10.8"
  }
 },
 "nbformat": 4,
 "nbformat_minor": 5
}
