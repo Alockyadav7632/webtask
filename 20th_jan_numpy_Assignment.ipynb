{
 "cells": [
  {
   "cell_type": "markdown",
   "id": "e5112a67-743d-485a-a60b-bd2ff9df2d8a",
   "metadata": {},
   "source": [
    "### 1. What is a Python library? Why do we use Python libraries?"
   ]
  },
  {
   "cell_type": "code",
   "execution_count": null,
   "id": "375dcb4e-e994-416f-9d07-aaa5c83687bf",
   "metadata": {},
   "outputs": [],
   "source": [
    "Python library is a collection of a code that we can use in a program for specific operations.\n",
    "Using a Python library is convenient to include reused code into your projects and programs."
   ]
  },
  {
   "cell_type": "markdown",
   "id": "e5efef7c-52ce-4c51-a82d-c400acf8f127",
   "metadata": {},
   "source": [
    "### 2. What is the difference between Numpy array and List?"
   ]
  },
  {
   "cell_type": "code",
   "execution_count": null,
   "id": "e87b2e9f-bc1d-4236-80cd-beb216518d87",
   "metadata": {},
   "outputs": [],
   "source": [
    "The Difference between Numpy and List is:-\n",
    "Numpy is the python library to store the collection of code to perform a specific operation. Numpy is type of array\n",
    "List is datatype to store a multiple data. list contain any type of data."
   ]
  },
  {
   "cell_type": "markdown",
   "id": "22b14744-4d2d-4d07-84a1-fb3b8468686c",
   "metadata": {},
   "source": [
    "### 3. Find the shape, size and dimension of the following array?\n",
    "\n",
    "[[1, 2, 3, 4]\n",
    "\n",
    "[5, 6, 7, 8],\n",
    "\n",
    "[9, 10, 11, 12]]"
   ]
  },
  {
   "cell_type": "code",
   "execution_count": 1,
   "id": "1651adbf-2110-4f57-a033-75f66a00b377",
   "metadata": {},
   "outputs": [],
   "source": [
    "import numpy as np"
   ]
  },
  {
   "cell_type": "code",
   "execution_count": 13,
   "id": "fc6e5990-19de-40f8-a930-537611d1589f",
   "metadata": {},
   "outputs": [
    {
     "data": {
      "text/plain": [
       "array([[ 1,  2,  3,  4],\n",
       "       [ 5,  6,  7,  8],\n",
       "       [ 9, 10, 11, 12]])"
      ]
     },
     "execution_count": 13,
     "metadata": {},
     "output_type": "execute_result"
    }
   ],
   "source": [
    "arr = np.asanyarray([[1,2,3,4],[5,6,7,8],[9,10,11,12]])\n",
    "arr"
   ]
  },
  {
   "cell_type": "code",
   "execution_count": 14,
   "id": "82fc8957-c95b-4a87-809a-39356d5bb53f",
   "metadata": {},
   "outputs": [
    {
     "data": {
      "text/plain": [
       "(3, 4)"
      ]
     },
     "execution_count": 14,
     "metadata": {},
     "output_type": "execute_result"
    }
   ],
   "source": [
    "arr.shape\n"
   ]
  },
  {
   "cell_type": "code",
   "execution_count": 15,
   "id": "111a52b2-0767-49cd-85ab-3bd18323b3d3",
   "metadata": {},
   "outputs": [
    {
     "data": {
      "text/plain": [
       "2"
      ]
     },
     "execution_count": 15,
     "metadata": {},
     "output_type": "execute_result"
    }
   ],
   "source": [
    "arr.ndim"
   ]
  },
  {
   "cell_type": "code",
   "execution_count": 16,
   "id": "4a540899-c749-4266-988f-2511c00dd855",
   "metadata": {},
   "outputs": [
    {
     "data": {
      "text/plain": [
       "12"
      ]
     },
     "execution_count": 16,
     "metadata": {},
     "output_type": "execute_result"
    }
   ],
   "source": [
    "arr.size"
   ]
  },
  {
   "cell_type": "markdown",
   "id": "b4baeb5e-48ed-4abb-b459-68a2f24063cc",
   "metadata": {},
   "source": [
    "### 4. Write python code to access the first row of the following array?\n",
    "\n",
    "[[1, 2, 3, 4]\n",
    "\n",
    "[5, 6, 7, 8],\n",
    "\n",
    "[9, 10, 11, 12]]"
   ]
  },
  {
   "cell_type": "code",
   "execution_count": 2,
   "id": "9d395b70-92f4-4b38-8671-d40b0dc12292",
   "metadata": {},
   "outputs": [
    {
     "data": {
      "text/plain": [
       "array([1, 2, 3, 4])"
      ]
     },
     "execution_count": 2,
     "metadata": {},
     "output_type": "execute_result"
    }
   ],
   "source": [
    "# 2d array make\n",
    "arr = np.asanyarray([[1,2,3,4],[5,6,7,8],[9,10,11,12]])\n",
    "arr\n",
    "# first row of the following array\n",
    "arr[0]"
   ]
  },
  {
   "cell_type": "markdown",
   "id": "7083445e-88c1-42a6-9de1-b97d681eac29",
   "metadata": {},
   "source": [
    "### 5. How do you access the element at the thir^ row and fourth column from the given numpy array?\n",
    "\n",
    "[[1, 2, 3, 4]\n",
    "\n",
    "[5, 6, 7, 8],\n",
    "\n",
    "[9, 10, 11, 12]]"
   ]
  },
  {
   "cell_type": "code",
   "execution_count": 12,
   "id": "a33663cb-7b59-4085-a69f-594724d9f4e2",
   "metadata": {},
   "outputs": [
    {
     "data": {
      "text/plain": [
       "12"
      ]
     },
     "execution_count": 12,
     "metadata": {},
     "output_type": "execute_result"
    }
   ],
   "source": [
    "# 2d array make\n",
    "arr = np.asanyarray([[1,2,3,4],[5,6,7,8],[9,10,11,12]])\n",
    "arr\n",
    "# print Third row  of the  array\n",
    "arr[2 ,3]\n"
   ]
  },
  {
   "cell_type": "markdown",
   "id": "408c4b63-c50f-4584-9fab-877096eea051",
   "metadata": {},
   "source": [
    "### 6. Write co^e to extract all odd-indexed elements from the given numpy array?\n",
    "\n",
    "[[1, 2, 3, 4]\n",
    "\n",
    "[5, 6, 7, 8],\n",
    "\n",
    "[9, 10, 11, 12]]"
   ]
  },
  {
   "cell_type": "code",
   "execution_count": 2,
   "id": "dd2e8153-38aa-4c10-86ac-ae195e1a488e",
   "metadata": {},
   "outputs": [
    {
     "name": "stdout",
     "output_type": "stream",
     "text": [
      "Odd-indexed elements: [[ 2  4]\n",
      " [ 6  8]\n",
      " [10 12]]\n"
     ]
    }
   ],
   "source": [
    "import numpy as np\n",
    "\n",
    "# Define the array\n",
    "arr= np.array([[1, 2, 3, 4], [5, 6, 7, 8], [9, 10, 11, 12]])\n",
    "\n",
    "# Extract all odd-indexed elements\n",
    "odd_indexed_elements = arr[:, 1::2]\n",
    "\n",
    "# Print the result\n",
    "print(\"Odd-indexed elements:\", odd_indexed_elements)\n"
   ]
  },
  {
   "cell_type": "markdown",
   "id": "ee871edf-7e86-41fa-b263-ba31fb2ee53f",
   "metadata": {},
   "source": [
    "### 7. How can you generate a ran^om 3x3 matrix with values between 0 an^ 1?"
   ]
  },
  {
   "cell_type": "code",
   "execution_count": 11,
   "id": "34751ab2-dab0-44c8-b9ba-991a85a31dae",
   "metadata": {},
   "outputs": [
    {
     "data": {
      "text/plain": [
       "array([[0.76245713, 0.17453651, 0.54608895],\n",
       "       [0.75383783, 0.21478736, 0.67275702],\n",
       "       [0.83639241, 0.95447656, 0.99365568]])"
      ]
     },
     "execution_count": 11,
     "metadata": {},
     "output_type": "execute_result"
    }
   ],
   "source": [
    "# import numpy and random\n",
    "import random\n",
    "import numpy as np\n",
    "# print  3 x 3 matrix\n",
    "np.random.rand(3,3)"
   ]
  },
  {
   "cell_type": "markdown",
   "id": "4a1da52f-ef90-4944-87c3-96d49a9782ef",
   "metadata": {},
   "source": [
    "### 8. Describe the difference between np.random.rand and np.random.randn?"
   ]
  },
  {
   "cell_type": "code",
   "execution_count": 12,
   "id": "1a627c22-fc53-4801-9330-b49200aaf6e3",
   "metadata": {},
   "outputs": [
    {
     "ename": "SyntaxError",
     "evalue": "closing parenthesis ')' does not match opening parenthesis '[' (4120070109.py, line 2)",
     "output_type": "error",
     "traceback": [
      "\u001b[0;36m  Cell \u001b[0;32mIn[12], line 2\u001b[0;36m\u001b[0m\n\u001b[0;31m    The np.random.rand function generates random values from a uniform distribution over the half-open interval [0.0, 1.0).\u001b[0m\n\u001b[0m                                                                                                                         ^\u001b[0m\n\u001b[0;31mSyntaxError\u001b[0m\u001b[0;31m:\u001b[0m closing parenthesis ')' does not match opening parenthesis '['\n"
     ]
    }
   ],
   "source": [
    "np.random.rand\n",
    "The np.random.rand function generates random values from a uniform distribution over the half-open interval [0.0, 1.0)\n",
    "                                                                                                             \n",
    "np.random.randn\n",
    "The np.random.randn function generates random values from a standard normal distribution (mean=0, standard deviation=1).                                                                                                           "
   ]
  },
  {
   "cell_type": "markdown",
   "id": "c30a2418-9bfb-479d-a4e5-1ceae539150f",
   "metadata": {},
   "source": [
    "### 9. Write code to increase the dimension of the following array?\n",
    "\n",
    "[[1, 2, 3, 4]\n",
    "\n",
    "[5, 6, 7, 8],\n",
    "\n",
    "[9, 10, 11, 12]]"
   ]
  },
  {
   "cell_type": "code",
   "execution_count": 13,
   "id": "bbf847ad-9d16-4ae2-8b3d-ebc1d50417e4",
   "metadata": {},
   "outputs": [
    {
     "name": "stdout",
     "output_type": "stream",
     "text": [
      "Original array:\n",
      "[[ 1  2  3  4]\n",
      " [ 5  6  7  8]\n",
      " [ 9 10 11 12]]\n",
      "\n",
      "Array with increased dimension:\n",
      "[[[ 1]\n",
      "  [ 2]\n",
      "  [ 3]\n",
      "  [ 4]]\n",
      "\n",
      " [[ 5]\n",
      "  [ 6]\n",
      "  [ 7]\n",
      "  [ 8]]\n",
      "\n",
      " [[ 9]\n",
      "  [10]\n",
      "  [11]\n",
      "  [12]]]\n"
     ]
    }
   ],
   "source": [
    "import numpy as np\n",
    "\n",
    "# Given array\n",
    "original_array = np.array([[1, 2, 3, 4], [5, 6, 7, 8], [9, 10, 11, 12]])\n",
    "\n",
    "# Increase dimension by adding a new axis\n",
    "new_dimension_array = original_array[:, :, np.newaxis]\n",
    "\n",
    "# Print the original and new arrays\n",
    "print(\"Original array:\")\n",
    "print(original_array)\n",
    "\n",
    "print(\"\\nArray with increased dimension:\")\n",
    "print(new_dimension_array)\n"
   ]
  },
  {
   "cell_type": "markdown",
   "id": "0e987faa-5339-4bd2-b49c-b2044bb2298a",
   "metadata": {},
   "source": [
    "### 10. How to transpose the following array in NumPy?\n",
    "\n",
    "[[1, 2, 3, 4]\n",
    "\n",
    "[5, 6, 7, 8],\n",
    "\n",
    "[9, 10, 11, 12]]"
   ]
  },
  {
   "cell_type": "code",
   "execution_count": 17,
   "id": "25408e80-00be-49d2-bb7b-745cebaeeff7",
   "metadata": {},
   "outputs": [
    {
     "name": "stdout",
     "output_type": "stream",
     "text": [
      "Original array:\n",
      "[[ 1  2  3  4]\n",
      " [ 5  6  7  8]\n",
      " [ 9 10 11 12]]\n",
      "\n",
      "Transposed array:\n",
      "[[ 1  5  9]\n",
      " [ 2  6 10]\n",
      " [ 3  7 11]\n",
      " [ 4  8 12]]\n"
     ]
    }
   ],
   "source": [
    "import numpy as np\n",
    "\n",
    "# Given array\n",
    "original_array = np.array([[1, 2, 3, 4], [5, 6, 7, 8], [9, 10, 11, 12]])\n",
    "\n",
    "# Transpose the array\n",
    "transposed_array = np.transpose(original_array)\n",
    "\n",
    "# Print the original and transposed arrays\n",
    "print(\"Original array:\")\n",
    "print(original_array)\n",
    "\n",
    "print(\"\\nTransposed array:\")\n",
    "print(transposed_array)\n"
   ]
  },
  {
   "cell_type": "markdown",
   "id": "a4934fa1-1d34-45a6-b512-6fcfb4c93e7e",
   "metadata": {},
   "source": [
    "### 11. Consi^er the following matrix:\n",
    "\n",
    "Matrix A2 [[1, 2, 3, 4] [5, 6, 7, 8],[9, 10, 11, 12]]\n",
    "\n",
    "Matrix B2 [[1, 2, 3, 4] [5, 6, 7, 8],[9, 10, 11, 12]]\n",
    "\n",
    "Perform the following operation using Python1\n",
    ",+ I(dex wiLe multiplicatio'\n",
    "]+ Mat\u001bix multiplicatio'\n",
    "\u001a+ Add both the mat\u001bicK\n",
    "-+ Subt\u001bact mat\u001bix B \u0014\u001bom \u0011\n",
    "\u0013+ Di\u0012ide Mat\u001bix B by A"
   ]
  },
  {
   "cell_type": "code",
   "execution_count": 29,
   "id": "fa16550c-ba8e-4a62-9287-0a90a79dac40",
   "metadata": {},
   "outputs": [
    {
     "name": "stdout",
     "output_type": "stream",
     "text": [
      "matrixA2:\n",
      "[[ 1  2  3  4]\n",
      " [ 5  6  7  8]\n",
      " [ 9 10 11 12]]\n",
      "\n",
      "matrixB2:\n",
      "[[ 1  2  3  4]\n",
      " [ 5  6  7  8]\n",
      " [ 9 10 11 12]]\n",
      "Add is:  [[ 2  4  6  8]\n",
      " [10 12 14 16]\n",
      " [18 20 22 24]]\n",
      "Substract:  [[0 0 0 0]\n",
      " [0 0 0 0]\n",
      " [0 0 0 0]]\n",
      "Divide is:  [[1. 1. 1. 1.]\n",
      " [1. 1. 1. 1.]\n",
      " [1. 1. 1. 1.]]\n"
     ]
    }
   ],
   "source": [
    "import numpy as np\n",
    "# given array\n",
    "matrixA2 =np.array([[1, 2, 3, 4], [5, 6, 7, 8], [9, 10, 11, 12]])\n",
    "matrixB2 = np.array([[1, 2, 3, 4], [5, 6, 7, 8], [9, 10, 11, 12]])\n",
    "# print the result\n",
    "print(\"matrixA2:\")\n",
    "print(matrixA2)\n",
    "\n",
    "print(\"\\nmatrixB2:\")\n",
    "print(matrixB2)\n",
    "\n",
    "print(\"Add is: \" ,matrixA2 + matrixB2)\n",
    "print(\"Substract: \" ,matrixB2 - matrixA2)\n",
    "#print(\"multiplication: \", matrixA2 @  matrixB2)\n",
    "print(\"Divide is: \" , matrixB2 / matrixA2)\n"
   ]
  },
  {
   "cell_type": "markdown",
   "id": "a39a3046-8468-4eb9-ae48-c15e00511530",
   "metadata": {},
   "source": [
    "### 12.  Which function in Numpy can be use^ to swap the byte or^er of an array?"
   ]
  },
  {
   "cell_type": "code",
   "execution_count": 30,
   "id": "1fa2bab5-1507-4325-b4b2-7a6433fe976b",
   "metadata": {},
   "outputs": [
    {
     "name": "stdout",
     "output_type": "stream",
     "text": [
      "Original array:\n",
      "[1 2 3 4]\n",
      "\n",
      "Swapped array:\n",
      "[16777216 33554432 50331648 67108864]\n"
     ]
    }
   ],
   "source": [
    "import numpy as np\n",
    "\n",
    "# Create a NumPy array\n",
    "original_array = np.array([1, 2, 3, 4], dtype=np.int32)\n",
    "\n",
    "# Swap the byte order of the array\n",
    "swapped_array = original_array.byteswap()\n",
    "\n",
    "# Print the original and swapped arrays\n",
    "print(\"Original array:\")\n",
    "print(original_array)\n",
    "\n",
    "print(\"\\nSwapped array:\")\n",
    "print(swapped_array)\n"
   ]
  },
  {
   "cell_type": "markdown",
   "id": "22c3c7a1-97ee-474f-a77c-874fce1e09b2",
   "metadata": {},
   "source": [
    "### 15. What is broadcasting in Numpy?"
   ]
  },
  {
   "cell_type": "code",
   "execution_count": 32,
   "id": "99c882fd-1957-41a4-b277-81955c953e61",
   "metadata": {},
   "outputs": [
    {
     "name": "stdout",
     "output_type": "stream",
     "text": [
      "[[ 6  7  8]\n",
      " [ 9 10 11]]\n"
     ]
    }
   ],
   "source": [
    "# The term broadcasting describes how NumPy treats arrays with different shapes during arithmetic operations\n",
    "\n",
    "\n",
    "# example\n",
    "import numpy as np\n",
    "\n",
    "# Create a 2x3 array\n",
    "A = np.array([[1, 2, 3], [4, 5, 6]])\n",
    "\n",
    "# Add a scalar (5) to each element in the array using broadcasting\n",
    "result = A + 5\n",
    "\n",
    "# Print the result\n",
    "print(result)\n"
   ]
  },
  {
   "cell_type": "markdown",
   "id": "b40d99c3-4037-4851-be26-f318b884b231",
   "metadata": {},
   "source": [
    "### 14. What does the np.reshape function do, and how is it used?"
   ]
  },
  {
   "cell_type": "code",
   "execution_count": 35,
   "id": "a26efdf4-b541-45d7-b963-bb5c1e1c4ac1",
   "metadata": {},
   "outputs": [
    {
     "name": "stdout",
     "output_type": "stream",
     "text": [
      "[[1 2 3]\n",
      " [4 5 6]]\n"
     ]
    }
   ],
   "source": [
    "import numpy as np\n",
    "\n",
    "# Example 1: Reshaping a 1D array to a 2D array\n",
    "arr1= np.array([1, 2, 3, 4, 5, 6])\n",
    "arr2 = np.reshape(arr1, (2, 3))\n",
    "# display the result\n",
    "print(arr2)"
   ]
  },
  {
   "cell_type": "markdown",
   "id": "f477a550-7e4f-48dd-8caa-9a3935887572",
   "metadata": {},
   "source": [
    "### 13.  What is the significance of the np.linalg.inv function?"
   ]
  },
  {
   "cell_type": "code",
   "execution_count": null,
   "id": "e92fba18-5a38-4e0c-a798-af0882cbb02d",
   "metadata": {},
   "outputs": [],
   "source": []
  }
 ],
 "metadata": {
  "kernelspec": {
   "display_name": "Python 3 (ipykernel)",
   "language": "python",
   "name": "python3"
  },
  "language_info": {
   "codemirror_mode": {
    "name": "ipython",
    "version": 3
   },
   "file_extension": ".py",
   "mimetype": "text/x-python",
   "name": "python",
   "nbconvert_exporter": "python",
   "pygments_lexer": "ipython3",
   "version": "3.10.8"
  }
 },
 "nbformat": 4,
 "nbformat_minor": 5
}
