{
 "cells": [
  {
   "cell_type": "markdown",
   "id": "ddb70743-6bed-4b92-b0b8-df0895324182",
   "metadata": {},
   "source": [
    "### Write a Python program to print numbers from 1 to 10 using a for loop."
   ]
  },
  {
   "cell_type": "code",
   "execution_count": 5,
   "id": "34aed633-42a0-4579-a3de-b619af022642",
   "metadata": {},
   "outputs": [
    {
     "name": "stdout",
     "output_type": "stream",
     "text": [
      "1 2 3 4 5 6 7 8 9 10 "
     ]
    }
   ],
   "source": [
    "# for loop use to print 1 to 10\n",
    "for i in range(1,11):\n",
    "    # display the result\n",
    "    print(i , end =' ')\n",
    "          "
   ]
  },
  {
   "cell_type": "markdown",
   "id": "1e05c738-ca6c-48ed-a2f4-f388bf4fc314",
   "metadata": {},
   "source": [
    "### Explain the difference between a for loop and a while loop in Python."
   ]
  },
  {
   "cell_type": "code",
   "execution_count": 6,
   "id": "19776533-290c-4810-bd4d-37d741b6fdb6",
   "metadata": {},
   "outputs": [],
   "source": [
    "#The diifernce between for loop and while loop is :\n",
    "# while loop:- A while loop is used to repeatedly execute a block of statements while a condition is true.\n",
    "\n",
    "# for loop :-A for loop is used to iterate over a sequence of items, such as a Python tuple, list, string, or range.\n",
    " #The loop will execute a block of statements for each item in the sequence."
   ]
  },
  {
   "cell_type": "code",
   "execution_count": null,
   "id": "00725b7d-8789-4414-b4c6-83ac99d53326",
   "metadata": {},
   "outputs": [],
   "source": []
  },
  {
   "cell_type": "markdown",
   "id": "efc5feeb-9c98-42de-89c0-b87df8c783fe",
   "metadata": {},
   "source": [
    "### Write a Python program to calculate the sum of all numbers from 1 to 100 using a for loop."
   ]
  },
  {
   "cell_type": "code",
   "execution_count": 24,
   "id": "8e3e2ed9-38f9-4074-9e03-0f686907c130",
   "metadata": {},
   "outputs": [
    {
     "name": "stdin",
     "output_type": "stream",
     "text": [
      "enter last number: 100\n"
     ]
    },
    {
     "name": "stdout",
     "output_type": "stream",
     "text": [
      "5050.0\n"
     ]
    }
   ],
   "source": [
    "# input given last number\n",
    "n = int(input(\"enter last number:\"))\n",
    "sum =0\n",
    "# for loop to use to iterate\n",
    "for i in range(1,n+1):\n",
    "    # sum of all number from start to end\n",
    "    sum = (n*(n+1))/2\n",
    "    #display the result\n",
    "print(sum)"
   ]
  },
  {
   "cell_type": "markdown",
   "id": "80c80287-fc8c-4226-9124-f0703f2b0558",
   "metadata": {},
   "source": [
    "### How do you iterate through a list using a for loop in Python?"
   ]
  },
  {
   "cell_type": "code",
   "execution_count": 17,
   "id": "a897487e-1689-4496-9aae-4476e71ca5a5",
   "metadata": {},
   "outputs": [
    {
     "name": "stdout",
     "output_type": "stream",
     "text": [
      "1\n",
      "2\n",
      "3\n",
      "4\n",
      "5\n"
     ]
    }
   ],
   "source": [
    "# first we create a list\n",
    "my_list = [1, 2, 3, 4, 5]\n",
    "\n",
    "# Using a for loop to iterate through the list\n",
    "for item in my_list:\n",
    "    print(item)\n"
   ]
  },
  {
   "cell_type": "markdown",
   "id": "7931879c-f78a-4d5e-8d89-999c5122d192",
   "metadata": {},
   "source": [
    "### Write a Python program to find the product of all elements in a list using a for loop."
   ]
  },
  {
   "cell_type": "code",
   "execution_count": 25,
   "id": "c127d31f-3b34-4d3b-a229-23d2fbfa3e6d",
   "metadata": {},
   "outputs": [
    {
     "name": "stdout",
     "output_type": "stream",
     "text": [
      " product of all elements is:720\n"
     ]
    }
   ],
   "source": [
    "# create a list\n",
    "list =[2,3,4,5,6]\n",
    "# initialize thpe product 1\n",
    "product =1\n",
    "# for loop to iterate\n",
    "for i in list:\n",
    "    product *= i\n",
    " # display the result   \n",
    "print(f\" product of all elements is:{product}\")"
   ]
  },
  {
   "cell_type": "markdown",
   "id": "f7b485b6-197b-46f9-a0f1-a3a201fb504a",
   "metadata": {},
   "source": [
    "### Create a Python program that prints all even numbers from 1 to 20 using a for loop."
   ]
  },
  {
   "cell_type": "code",
   "execution_count": 35,
   "id": "bf11f36f-28a9-4718-be2a-99535990e81c",
   "metadata": {},
   "outputs": [
    {
     "name": "stdin",
     "output_type": "stream",
     "text": [
      "enter start: 1\n",
      "enter end: 20\n"
     ]
    },
    {
     "name": "stdout",
     "output_type": "stream",
     "text": [
      "2 4 6 8 10 12 14 16 18 20 "
     ]
    }
   ],
   "source": [
    "# given input\n",
    "start = int(input(\"enter start:\"))\n",
    "end = int(input(\"enter end:\"))\n",
    "\n",
    "# for loop to iterate\n",
    "for i in range(start , end+1):\n",
    "    # condition check\n",
    "    if i % 2 == 0:\n",
    "        # disply the result\n",
    "        print(i , end=\" \")"
   ]
  },
  {
   "cell_type": "markdown",
   "id": "8cf6d9cc-c20b-444a-9c35-5daffbb8c528",
   "metadata": {},
   "source": [
    "### Write a Python program that calculates the factorial of a number using a for loop."
   ]
  },
  {
   "cell_type": "code",
   "execution_count": 47,
   "id": "b76b37f1-29a2-44e4-bcfb-09cbcc3da484",
   "metadata": {},
   "outputs": [
    {
     "name": "stdout",
     "output_type": "stream",
     "text": [
      "120\n"
     ]
    }
   ],
   "source": [
    "# define a function\n",
    "def factorial(n):\n",
    "    # initialize with 1\n",
    "    fact =1\n",
    "    # for loop tom iterate\n",
    "    for i in range( 1, n+1):\n",
    "        # function perform\n",
    "        fact *=i\n",
    "        # print the result\n",
    "    print(fact)\n",
    " # function cal   \n",
    "factorial(5)\n"
   ]
  },
  {
   "cell_type": "markdown",
   "id": "836c6eea-7adc-4bd4-908d-4b32883ef077",
   "metadata": {},
   "source": [
    "### Write a Python program to find the largest number in a list using a for loop."
   ]
  },
  {
   "cell_type": "code",
   "execution_count": 63,
   "id": "92023b1f-ecd8-4935-9ef2-753bb3411eb7",
   "metadata": {},
   "outputs": [
    {
     "name": "stdout",
     "output_type": "stream",
     "text": [
      "largest number is: 39\n"
     ]
    }
   ],
   "source": [
    "list =[3,6,8,12,34,9,39]\n",
    "largest_number =0\n",
    "for i in  list:\n",
    "     if i > largest_number:\n",
    "            largest_number = i\n",
    "print(f\"largest number is:\", largest_number)"
   ]
  },
  {
   "cell_type": "markdown",
   "id": "11432b1a-f3b7-4511-8d95-d52f008d3455",
   "metadata": {},
   "source": [
    "### How can you iterate through the characters of a string using a for loop in Python?"
   ]
  },
  {
   "cell_type": "code",
   "execution_count": 3,
   "id": "8e6c50cb-0b60-4331-a417-249145ea81f0",
   "metadata": {},
   "outputs": [
    {
     "name": "stdin",
     "output_type": "stream",
     "text": [
      "enter a string pwskills\n"
     ]
    },
    {
     "name": "stdout",
     "output_type": "stream",
     "text": [
      "p w s k i l l s "
     ]
    }
   ],
   "source": [
    "# take a input from the user\n",
    "character = input(\"enter a string\")\n",
    "# iterate a string for loop\n",
    "for char in character:\n",
    "    # Display the result\n",
    "    print(char , end=\" \")"
   ]
  },
  {
   "cell_type": "markdown",
   "id": "20a92ba8-1f8e-4689-9921-e421d5e2b9a7",
   "metadata": {},
   "source": [
    "### Create a Python program that prints the Fibonacci sequence up to a specified limit using a for loop."
   ]
  },
  {
   "cell_type": "code",
   "execution_count": 14,
   "id": "7da9f939-271f-41fe-8730-bb88bde14a8f",
   "metadata": {},
   "outputs": [
    {
     "name": "stdin",
     "output_type": "stream",
     "text": [
      "enter start number: 1\n",
      "enter end number: 12\n"
     ]
    },
    {
     "name": "stdout",
     "output_type": "stream",
     "text": [
      "1 2 3 5 8 13 21 34 55 89 144 233 "
     ]
    }
   ],
   "source": [
    "start = int(input(\"enter start number:\"))\n",
    "end = int(input(\"enter end number:\"))\n",
    "a =0\n",
    "b =1\n",
    "for i in range(start , end+1):\n",
    "    \n",
    "    c = a + b\n",
    "    a = b\n",
    "    b = c\n",
    "    print(c, end=\" \")"
   ]
  },
  {
   "cell_type": "markdown",
   "id": "15f22814-8f55-4daa-a2be-9ce14689ff1f",
   "metadata": {},
   "source": [
    "### Write a Python program to count the number of vowels in a given string using a for loop."
   ]
  },
  {
   "cell_type": "code",
   "execution_count": 2,
   "id": "b50561fb-cfb0-4e61-a2e5-df4b94022774",
   "metadata": {},
   "outputs": [
    {
     "name": "stdin",
     "output_type": "stream",
     "text": [
      "enter a string pwskills\n"
     ]
    },
    {
     "name": "stdout",
     "output_type": "stream",
     "text": [
      "1\n"
     ]
    }
   ],
   "source": [
    "# input gro the user\n",
    "character = input(\"enter a string\")\n",
    "vowel_count=0\n",
    "# vowel check\n",
    "vowel =\"aeiouAEIOU\"\n",
    "for char in character:\n",
    "    # condition check\n",
    "    if char in vowel:\n",
    "        #initialize with 1\n",
    "        vowel_count +=1\n",
    "        #  display the result\n",
    "print(vowel_count)\n",
    "                          "
   ]
  },
  {
   "cell_type": "markdown",
   "id": "066490b9-c495-4223-81c4-d530f2e23ebe",
   "metadata": {},
   "source": [
    "### Create a Python program that generates a multiplication table for a given number using a for loop.\n"
   ]
  },
  {
   "cell_type": "code",
   "execution_count": 1,
   "id": "1cea82ae-828c-4b91-91f0-71ac7cd6f995",
   "metadata": {},
   "outputs": [
    {
     "name": "stdin",
     "output_type": "stream",
     "text": [
      "enter a number: 2\n"
     ]
    },
    {
     "name": "stdout",
     "output_type": "stream",
     "text": [
      "2\n",
      "4\n",
      "6\n",
      "8\n",
      "10\n",
      "12\n",
      "14\n",
      "16\n",
      "18\n",
      "20\n"
     ]
    }
   ],
   "source": [
    "# input given to the user\n",
    "num = int(input(\"enter a number:\"))\n",
    "# for loop to iterate\n",
    "for i in range(1,11):\n",
    "    # display the result\n",
    "    print(i*num)\n",
    "          "
   ]
  },
  {
   "cell_type": "markdown",
   "id": "20c8911f-9166-4d64-93b3-63d2d5aa7a8d",
   "metadata": {},
   "source": [
    "### Write a Python program to reverse a list using a for loop."
   ]
  },
  {
   "cell_type": "code",
   "execution_count": 18,
   "id": "e1331946-f810-48d4-98f5-a23b808287b3",
   "metadata": {},
   "outputs": [
    {
     "name": "stdout",
     "output_type": "stream",
     "text": [
      "5\n",
      "4\n",
      "3\n",
      "2\n",
      "1\n"
     ]
    }
   ],
   "source": [
    "my_list = [1, 2, 3, 4, 5]\n",
    "\n",
    "# Iterate over the elements of the list in reverse order\n",
    "for i in range(len(my_list)-1, -1, -1):\n",
    "    print(my_list[i])"
   ]
  },
  {
   "cell_type": "markdown",
   "id": "385b2e47-b1c2-443b-b7a3-566ff7824a8b",
   "metadata": {},
   "source": [
    "### Write a Python program to find the common elements between two lists using a for loop."
   ]
  },
  {
   "cell_type": "code",
   "execution_count": 8,
   "id": "68c7ecc4-a250-4e28-b037-25091cb3f781",
   "metadata": {},
   "outputs": [
    {
     "name": "stdout",
     "output_type": "stream",
     "text": [
      "[3, 4]\n"
     ]
    }
   ],
   "source": [
    "# declare the two list\n",
    "list1 = [3,4,5,6,34,54]\n",
    "list2 = [8,9,10,2,3,4]\n",
    "# initialize common_element\n",
    "common_element =[]\n",
    "# initialize with for loop\n",
    "for i in list1:\n",
    "    if i in list2:\n",
    "        # common element\n",
    "        common_element.append(i)\n",
    " # display the result       \n",
    "print(common_element)\n",
    "    "
   ]
  },
  {
   "cell_type": "markdown",
   "id": "9bce5dec-7663-4c48-bfe1-7a4a51edcb7f",
   "metadata": {},
   "source": [
    "### Write a Python program to find the GCD (Greatest Common Divisor) of two numbers using a for loop"
   ]
  },
  {
   "cell_type": "code",
   "execution_count": 10,
   "id": "531ac6b0-a639-4a21-bcf7-24be1f0f714f",
   "metadata": {},
   "outputs": [
    {
     "name": "stdin",
     "output_type": "stream",
     "text": [
      "Enter the first number:  34\n",
      "Enter the second number:  12\n"
     ]
    },
    {
     "name": "stdout",
     "output_type": "stream",
     "text": [
      "The GCD of 34 and 12 is: 2\n"
     ]
    }
   ],
   "source": [
    "def find_gcd(num1, num2):\n",
    "    while num2:\n",
    "        num1, num2 = num2, num1 % num2\n",
    "\n",
    "    return abs(num1)\n",
    "\n",
    "# Example usage:\n",
    "num1 = int(input(\"Enter the first number: \"))\n",
    "num2 = int(input(\"Enter the second number: \"))\n",
    "\n",
    "gcd_result = find_gcd(num1, num2)\n",
    "print(f\"The GCD of {num1} and {num2} is: {gcd_result}\")\n"
   ]
  },
  {
   "cell_type": "markdown",
   "id": "897b8aa9-d94f-4e11-8db6-13da331c4792",
   "metadata": {},
   "source": [
    "###  Create a Python program that checks if a string is a palindrome using a for loop."
   ]
  },
  {
   "cell_type": "code",
   "execution_count": 11,
   "id": "16f0ae0d-e89f-4cc6-9041-27e78d5a3ffd",
   "metadata": {},
   "outputs": [
    {
     "name": "stdin",
     "output_type": "stream",
     "text": [
      "Enter a string to check for palindrome:  malyalam\n"
     ]
    },
    {
     "name": "stdout",
     "output_type": "stream",
     "text": [
      "malyalam is not a palindrome.\n"
     ]
    }
   ],
   "source": [
    "def is_palindrome(input_str):\n",
    "    # Remove spaces and convert to lowercase for case-insensitive comparison\n",
    "    clean_str = ''.join(input_str.split()).lower()\n",
    "\n",
    "    # Check if the string is a palindrome using a for loop\n",
    "    for i in range(len(clean_str) // 2):\n",
    "        if clean_str[i] != clean_str[-i - 1]:\n",
    "            return False\n",
    "\n",
    "    return True\n",
    "\n",
    "# Example usage:\n",
    "user_input = input(\"Enter a string to check for palindrome: \")\n",
    "if is_palindrome(user_input):\n",
    "    print(f\"{user_input} is a palindrome.\")\n",
    "else:\n",
    "    print(f\"{user_input} is not a palindrome.\")\n"
   ]
  },
  {
   "cell_type": "markdown",
   "id": "092b14ea-f33e-4f6e-ae8a-e563f6cfa2aa",
   "metadata": {},
   "source": [
    "### Write a Python program to remove duplicates from a list using a for loop."
   ]
  },
  {
   "cell_type": "code",
   "execution_count": 13,
   "id": "d4e260f6-d63d-4cc6-8998-4eb150b6bed7",
   "metadata": {},
   "outputs": [
    {
     "name": "stdout",
     "output_type": "stream",
     "text": [
      "[1, 2, 3, 4, 5, 6]\n"
     ]
    }
   ],
   "source": [
    "# declare the list\n",
    "input_list = [1, 2, 2, 3, 4, 4, 5, 6]\n",
    "unique_list = []\n",
    "# iterate the for loop\n",
    "for item in input_list:\n",
    "    # check the condition\n",
    "    if item not in unique_list:\n",
    "        unique_list.append(item)\n",
    "# display the result\n",
    "print(unique_list)\n"
   ]
  },
  {
   "cell_type": "markdown",
   "id": "7f10677e-83a8-4cbb-8473-ff8aa3e60164",
   "metadata": {},
   "source": [
    "### Write a Python program to find the sum of all odd numbers from 1 to 50 using a for loop."
   ]
  },
  {
   "cell_type": "code",
   "execution_count": 18,
   "id": "5f9044bc-9553-48e7-bdad-d827c0018886",
   "metadata": {},
   "outputs": [
    {
     "name": "stdout",
     "output_type": "stream",
     "text": [
      "sum of odd number from 1 to 50 is: 625\n"
     ]
    }
   ],
   "source": [
    "# initialize sum =0\n",
    "sum =0\n",
    "# initalize with for loop\n",
    "for i in range(1,51):\n",
    "    # check the condition\n",
    "    if i % 2==1:\n",
    "        # # sum of odd number\n",
    "        sum += i\n",
    "# Display the result\n",
    "print(\"sum of odd number from 1 to 50 is:\" , sum)"
   ]
  },
  {
   "cell_type": "markdown",
   "id": "2c196306-091d-4987-b311-7fa888f5fde5",
   "metadata": {},
   "source": [
    "### Write a Python program that checks if a given year is a leap year using a for loop."
   ]
  },
  {
   "cell_type": "code",
   "execution_count": 29,
   "id": "06667ad2-ea6a-43f2-90e0-ce80b8e6bacc",
   "metadata": {},
   "outputs": [
    {
     "name": "stdin",
     "output_type": "stream",
     "text": [
      "Enter a year to check for leap year:  2024\n"
     ]
    },
    {
     "name": "stdout",
     "output_type": "stream",
     "text": [
      "2024 is a leap year.\n"
     ]
    }
   ],
   "source": [
    "def is_leap_year(year):\n",
    "    if (year % 4 == 0 and year % 100 != 0) or (year % 400 == 0):\n",
    "        return True\n",
    "    else:\n",
    "        return False\n",
    "\n",
    "# Example usage:\n",
    "user_year = int(input(\"Enter a year to check for leap year: \"))\n",
    "\n",
    "if is_leap_year(user_year):\n",
    "    print(f\"{user_year} is a leap year.\")\n",
    "else:\n",
    "    print(f\"{user_year} is not a leap year.\")\n",
    "      \n",
    "                 "
   ]
  },
  {
   "cell_type": "markdown",
   "id": "da62edb9-645a-4656-bbad-b4e7aa437c66",
   "metadata": {},
   "source": [
    "### Create a Python program that calculates the square root of a number using a for loop"
   ]
  },
  {
   "cell_type": "code",
   "execution_count": 12,
   "id": "6c70e12c-d019-4f92-8866-af3e5066db49",
   "metadata": {},
   "outputs": [
    {
     "name": "stdin",
     "output_type": "stream",
     "text": [
      "enter a number: 5\n"
     ]
    },
    {
     "name": "stdout",
     "output_type": "stream",
     "text": [
      "square root of 5 is:  25\n"
     ]
    }
   ],
   "source": [
    "# given input from user\n",
    "number = int(input(\"enter a number:\"))\n",
    "# initialize root with 0\n",
    "root =0\n",
    "# iterate for loop \n",
    "for i in range(number+1):\n",
    "    root = i*i\n",
    "  # display the result  \n",
    "print(f\"square root of {number} is: \" , root)"
   ]
  },
  {
   "cell_type": "markdown",
   "id": "fbe461cd-cc46-4cca-aefb-d9539ddd6cde",
   "metadata": {},
   "source": [
    "### If Else"
   ]
  },
  {
   "cell_type": "markdown",
   "id": "abdee03d-493a-4855-a3ea-b0d75563415d",
   "metadata": {},
   "source": [
    "### Write a Python program to check if a number is positive, negative, or zero using an if-else statement."
   ]
  },
  {
   "cell_type": "code",
   "execution_count": 13,
   "id": "a073589f-888a-4b7b-930c-10dd9976ef52",
   "metadata": {},
   "outputs": [
    {
     "name": "stdin",
     "output_type": "stream",
     "text": [
      "enter a number: 43\n"
     ]
    },
    {
     "name": "stdout",
     "output_type": "stream",
     "text": [
      "number is positive\n"
     ]
    }
   ],
   "source": [
    "# given a input\n",
    "num = int(input(\"enter a number:\"))\n",
    "# check the condition number is positive \n",
    "if(num > 0):\n",
    "    # if yes number is positive then print\n",
    "    print(f\"number is positive\")\n",
    "    # check number is 0\n",
    "elif(num == 0):\n",
    "    print(f\"number is zero\")\n",
    "else:\n",
    "    # otherwise print number is negative \n",
    "    print(f\"number is negative\")\n",
    "    \n",
    "  "
   ]
  },
  {
   "cell_type": "markdown",
   "id": "820923d0-0216-4c39-b785-5a58b3f25f52",
   "metadata": {},
   "source": [
    "### Create a Python program that checks if a given number is even or odd using an if-else statement."
   ]
  },
  {
   "cell_type": "code",
   "execution_count": 1,
   "id": "c013cc66-a1ef-47d4-a844-98aeff93db06",
   "metadata": {},
   "outputs": [
    {
     "name": "stdin",
     "output_type": "stream",
     "text": [
      "enter a number: 33\n"
     ]
    },
    {
     "name": "stdout",
     "output_type": "stream",
     "text": [
      "number is Odd\n"
     ]
    }
   ],
   "source": [
    "# given a input\n",
    "num = int(input(\"enter a number:\"))\n",
    "# check the condition number is even\n",
    "if(num % 2== 0):\n",
    "    # if yes\n",
    "    print(f\"number is Even\")\n",
    "\n",
    "else:\n",
    "    # otherwise \n",
    "    print(f\"number is Odd\")\n",
    "    "
   ]
  },
  {
   "cell_type": "markdown",
   "id": "dac314f9-1987-4ab8-b1b3-75fc75b37e7f",
   "metadata": {},
   "source": [
    "### How can you use nested if-else statements in Python, and provide an example?"
   ]
  },
  {
   "cell_type": "code",
   "execution_count": 2,
   "id": "444630c4-9e24-41ca-9996-cb8bd775f98b",
   "metadata": {},
   "outputs": [
    {
     "name": "stdin",
     "output_type": "stream",
     "text": [
      "Enter a number:  31\n"
     ]
    },
    {
     "name": "stdout",
     "output_type": "stream",
     "text": [
      "31 is a prime number.\n"
     ]
    }
   ],
   "source": [
    "# Taking input\n",
    "num = int(input(\"Enter a number: \"))\n",
    "\n",
    "# Checking if the number is prime\n",
    "if num > 1:\n",
    "    # Check for factors other than 1 and the number itself\n",
    "    for i in range(2, int(num**0.5) + 1):\n",
    "        if num % i == 0:\n",
    "            print(f\"{num} is not a prime number.\")\n",
    "            break\n",
    "    else:\n",
    "        print(f\"{num} is a prime number.\")\n",
    "else:\n",
    "    print(f\"{num} is not a prime number.\")\n"
   ]
  },
  {
   "cell_type": "markdown",
   "id": "cf4db1be-7166-4f19-bae3-e966f52d3b0c",
   "metadata": {},
   "source": [
    "### Write a Python program to determine the largest of three numbers using if-else."
   ]
  },
  {
   "cell_type": "code",
   "execution_count": 4,
   "id": "23b0635d-0b64-49b6-8cdc-1c3d8e2c2c7a",
   "metadata": {},
   "outputs": [
    {
     "name": "stdin",
     "output_type": "stream",
     "text": [
      "enter a number1: 23\n",
      "enter a number2: 12\n",
      "enter a number3: 54\n"
     ]
    },
    {
     "name": "stdout",
     "output_type": "stream",
     "text": [
      "54 is largest number\n"
     ]
    }
   ],
   "source": [
    "# given a input\n",
    "num1 = int(input(\"enter a number1:\"))\n",
    "num2 = int(input(\"enter a number2:\"))\n",
    "num3= int(input(\"enter a number3:\"))\n",
    "# check the largest number\n",
    "if(num1 > num2 and num1 > num3):\n",
    "    # if yes\n",
    "    print(f\"{num1} is largest number\")\n",
    "elif(num2 > num1 and num2 > num3):\n",
    "    # if yes\n",
    "    print(f\"{num2} is largest number\")\n",
    "else:\n",
    "    # otherwise \n",
    "     print(f\"{num3} is largest number\")\n",
    "    "
   ]
  },
  {
   "cell_type": "markdown",
   "id": "480abcc6-766b-4c69-8928-e5fd58b8571a",
   "metadata": {},
   "source": [
    "### Write a Python program that calculates the absolute value of a number using if-else."
   ]
  },
  {
   "cell_type": "code",
   "execution_count": 5,
   "id": "d05596b9-3619-47c1-8c41-04055ad323f0",
   "metadata": {},
   "outputs": [
    {
     "name": "stdin",
     "output_type": "stream",
     "text": [
      "Enter a number:  43\n"
     ]
    },
    {
     "name": "stdout",
     "output_type": "stream",
     "text": [
      "The absolute value of 43.0 is 43.0\n"
     ]
    }
   ],
   "source": [
    "def absolute_value(number):\n",
    "    if number >= 0:\n",
    "        return number\n",
    "    else:\n",
    "        return -number\n",
    "\n",
    "# Input from the user\n",
    "user_input = float(input(\"Enter a number: \"))\n",
    "\n",
    "# Calculate and display the absolute value\n",
    "result = absolute_value(user_input)\n",
    "print(f\"The absolute value of {user_input} is {result}\")\n"
   ]
  },
  {
   "cell_type": "markdown",
   "id": "3be9bb2b-f81f-44cf-8064-fc5dd4c8c158",
   "metadata": {},
   "source": [
    "### Create a Python program that checks if a given character is a vowel or consonant using if-else."
   ]
  },
  {
   "cell_type": "code",
   "execution_count": 7,
   "id": "286adb03-efdd-4438-b5da-1a9a62d6146b",
   "metadata": {},
   "outputs": [
    {
     "name": "stdin",
     "output_type": "stream",
     "text": [
      "enter a character: t\n"
     ]
    },
    {
     "name": "stdout",
     "output_type": "stream",
     "text": [
      "character is constant\n"
     ]
    }
   ],
   "source": [
    "def check_char_type(char):\n",
    "     char = char.lower()\n",
    "# given a character\n",
    "char = (input(\"enter a character:\"))\n",
    "# check the condition\n",
    "if char == 'a'or char == 'e' or char == 'i' or char=='o' or char=='u':\n",
    "    # if yes \n",
    "    print(f\"character is vowel\")\n",
    "else:\n",
    "    #otherwise \n",
    "    print(f\"character is constant\")\n",
    "    "
   ]
  },
  {
   "cell_type": "markdown",
   "id": "d85d4ac4-78f3-4dc2-ad68-f9dc282d540d",
   "metadata": {},
   "source": [
    "### Write a Python program to determine if a user is eligible to vote based on their age using if-else."
   ]
  },
  {
   "cell_type": "code",
   "execution_count": 8,
   "id": "f51d9fc7-1a02-4976-855a-880b33f236f4",
   "metadata": {},
   "outputs": [
    {
     "name": "stdin",
     "output_type": "stream",
     "text": [
      "enter age: 34\n"
     ]
    },
    {
     "name": "stdout",
     "output_type": "stream",
     "text": [
      "eligible for vote\n"
     ]
    }
   ],
   "source": [
    "# given a input age\n",
    "age = int(input(\"enter age:\"))\n",
    "# check the condition \n",
    "if(age >= 18):\n",
    "    # if yes then print eligible for vote\n",
    "    print(f\"eligible for vote\")\n",
    "else:\n",
    "    # otherwise not eligible for vote \n",
    "    print(f\"not eligible for vote\")\n",
    "    \n",
    "      "
   ]
  },
  {
   "cell_type": "markdown",
   "id": "4ea7bda8-9fd4-49b7-a216-4c562d4f020a",
   "metadata": {},
   "source": [
    "### Create a Python program that calculates the discount amount based on the purchase amount using if-else."
   ]
  },
  {
   "cell_type": "markdown",
   "id": "0bc41996-800e-405f-9dcf-335d0fb1ec17",
   "metadata": {},
   "source": [
    "### Write a Python program to check if a number is within a specified range using if-else."
   ]
  },
  {
   "cell_type": "code",
   "execution_count": 3,
   "id": "03bb04be-8acf-4895-b6b7-1423f2b0c8cd",
   "metadata": {},
   "outputs": [
    {
     "name": "stdin",
     "output_type": "stream",
     "text": [
      "Enter a number:  65\n",
      "Enter the lower limit of the range:  45\n",
      "Enter the upper limit of the range:  100\n"
     ]
    },
    {
     "name": "stdout",
     "output_type": "stream",
     "text": [
      "65.0 is within the specified range.\n"
     ]
    }
   ],
   "source": [
    "# define the range\n",
    "def check_number_in_range(number, lower_limit, upper_limit):\n",
    "    if lower_limit <= number <= upper_limit:\n",
    "        return True\n",
    "    else:\n",
    "        return False\n",
    "# take input grom the user\n",
    "number = float(input(\"Enter a number: \"))\n",
    "lower_limit = float(input(\"Enter the lower limit of the range: \"))\n",
    "upper_limit = float(input(\"Enter the upper limit of the range: \"))\n",
    "\n",
    "# condition check\n",
    "if lower_limit > upper_limit:\n",
    "    print(\"Invalid range. Please ensure the lower limit is less than or equal to the upper limit.\")\n",
    "else:\n",
    "    if check_number_in_range(number, lower_limit, upper_limit):\n",
    "        print(f\"{number} is within the specified range.\")\n",
    "    else:\n",
    "        print(f\"{number} is outside the specified range.\")"
   ]
  },
  {
   "cell_type": "markdown",
   "id": "4367ce21-9942-4bd9-861d-870afcb24ba8",
   "metadata": {},
   "source": [
    "### Create a Python program that determines the grade of a student based on their score using if-else."
   ]
  },
  {
   "cell_type": "code",
   "execution_count": 4,
   "id": "1d2c25a1-a87d-4423-9560-a027bf71a977",
   "metadata": {},
   "outputs": [
    {
     "name": "stdin",
     "output_type": "stream",
     "text": [
      "enter a marks: 78\n"
     ]
    },
    {
     "name": "stdout",
     "output_type": "stream",
     "text": [
      "marks is grade C\n"
     ]
    }
   ],
   "source": [
    "# taking a input marks\n",
    "marks = int(input(\"enter a marks:\"))\n",
    "# check the condition\n",
    "if(marks >= 90):\n",
    "    # if yes \n",
    "    print(f\"marks is grade A\")\n",
    "    # check condition\n",
    "elif(marks >=80):\n",
    "     # check condition\n",
    "    print(f\"marks is grade B\")\n",
    "elif marks >=70 :\n",
    "    \n",
    "     # check condition\n",
    "    print(f\"marks is grade C\")\n",
    "elif(marks >=60):\n",
    "     # check condition\n",
    "    print(f\"marks is grade D\")\n",
    "else:\n",
    "    # otherwise\n",
    "    print(f\"fail\")\n",
    "    \n",
    "      "
   ]
  },
  {
   "cell_type": "markdown",
   "id": "827a5719-1a42-4563-9b59-609bc48c00ea",
   "metadata": {},
   "source": [
    "### Write a Python program to check if a string is empty or not using if-else."
   ]
  },
  {
   "cell_type": "code",
   "execution_count": 7,
   "id": "625734b8-6ff1-4bf2-9a84-a7076ae21eb5",
   "metadata": {},
   "outputs": [
    {
     "name": "stdin",
     "output_type": "stream",
     "text": [
      "Enter a string:  pwskills\n"
     ]
    },
    {
     "name": "stdout",
     "output_type": "stream",
     "text": [
      "The string is not empty.\n"
     ]
    }
   ],
   "source": [
    " def check_string_empty(input_string):\n",
    "    if not input_string:\n",
    "        return True\n",
    "    else:\n",
    "        return False\n",
    "\n",
    "user_input = input(\"Enter a string: \")\n",
    "\n",
    "if check_string_empty(user_input):\n",
    "    print(\"The string is empty.\")\n",
    "else:\n",
    "    print(\"The string is not empty.\")\n",
    "\n",
    "    "
   ]
  },
  {
   "cell_type": "markdown",
   "id": "a361d065-4664-4eba-977f-440f3e68c2cc",
   "metadata": {},
   "source": [
    "### Create a Python program that identifies the type of a triangle (e.g., equilateral, isosceles, or scalene) based on input values using if-else."
   ]
  },
  {
   "cell_type": "code",
   "execution_count": 1,
   "id": "30c5a3fc-4f19-4bb5-b575-ab656b1e5e25",
   "metadata": {},
   "outputs": [
    {
     "name": "stdin",
     "output_type": "stream",
     "text": [
      "Enter the length of the first side:  34\n",
      "Enter the length of the second side:  34\n",
      "Enter the length of the third side:  34\n"
     ]
    },
    {
     "name": "stdout",
     "output_type": "stream",
     "text": [
      "The triangle is a Equilateral triangle.\n"
     ]
    }
   ],
   "source": [
    "# Taking input from the user for the lengths of the sides\n",
    "side1 = float(input(\"Enter the length of the first side: \"))\n",
    "side2 = float(input(\"Enter the length of the second side: \"))\n",
    "side3 = float(input(\"Enter the length of the third side: \"))\n",
    "\n",
    "# Checking the type of triangle using nested if-else statements\n",
    "if side1 == side2:\n",
    "    if side2 == side3:\n",
    "        triangle_type = \"Equilateral\"\n",
    "    else:\n",
    "        triangle_type = \"Isosceles\"\n",
    "elif side2 == side3:\n",
    "    triangle_type = \"Isosceles\"\n",
    "elif side1 == side3:\n",
    "    triangle_type = \"Isosceles\"\n",
    "else:\n",
    "    triangle_type = \"Scalene\"\n",
    "\n",
    "# Displaying the result\n",
    "print(\"The triangle is a\", triangle_type, \"triangle.\")\n"
   ]
  },
  {
   "cell_type": "markdown",
   "id": "44e41e2b-e891-40be-adfe-2e8b7122a38d",
   "metadata": {},
   "source": [
    "### Write a Python program to determine the day of the week based on a user-provided number using if-else."
   ]
  },
  {
   "cell_type": "code",
   "execution_count": 2,
   "id": "86bc33ea-2b5c-4826-8480-30c2f78f50fa",
   "metadata": {},
   "outputs": [
    {
     "name": "stdin",
     "output_type": "stream",
     "text": [
      "Enter a number:  5\n"
     ]
    },
    {
     "name": "stdout",
     "output_type": "stream",
     "text": [
      "The day corresponding to the number 5 is: Friday\n"
     ]
    }
   ],
   "source": [
    "# Taking input \n",
    "day_number = int(input(\"Enter a number: \"))\n",
    "\n",
    "# Checking the day \n",
    "if day_number == 1:\n",
    "    day_name = \"Monday\"\n",
    "elif day_number == 2:\n",
    "    day_name = \"Tuesday\"\n",
    "elif day_number == 3:\n",
    "    day_name = \"Wednesday\"\n",
    "elif day_number == 4:\n",
    "    day_name = \"Thursday\"\n",
    "elif day_number == 5:\n",
    "    day_name = \"Friday\"\n",
    "elif day_number == 6:\n",
    "    day_name = \"Saturday\"\n",
    "elif day_number == 7:\n",
    "    day_name = \"Sunday\"\n",
    "else:\n",
    "    day_name = \"Invalid input. Please enter a number between 1 and 7.\"\n",
    "\n",
    "# print the result\n",
    "print(f\"The day corresponding to the number {day_number} is: {day_name}\")\n"
   ]
  },
  {
   "cell_type": "markdown",
   "id": "5fc25700-a8e0-41e9-a711-6fa0518673a9",
   "metadata": {},
   "source": [
    "### Create a Python program that checks if a given year is a leap year using both if-else and a function."
   ]
  },
  {
   "cell_type": "code",
   "execution_count": 3,
   "id": "42ee35ab-aae6-4fe7-aacd-71b114ab1cce",
   "metadata": {},
   "outputs": [
    {
     "name": "stdin",
     "output_type": "stream",
     "text": [
      "Enter a year:  3067\n"
     ]
    },
    {
     "name": "stdout",
     "output_type": "stream",
     "text": [
      "3067 is not a leap year or not evenly divisible by 400.\n"
     ]
    }
   ],
   "source": [
    "# Taking input from the user for the year\n",
    "year = int(input(\"Enter a year: \"))\n",
    "\n",
    "# Checking if it is a leap year and evenly divisible by 400\n",
    "if (year % 4 == 0) or (year % 400 == 0):\n",
    "    # if yes then print\n",
    "    print(f\"{year} is a leap year and evenly divisible by 400.\")\n",
    "else:\n",
    "    print(f\"{year} is not a leap year or not evenly divisible by 400.\")\n",
    "\n"
   ]
  },
  {
   "cell_type": "markdown",
   "id": "9c23f812-2a73-4b26-a703-12de34ed9c79",
   "metadata": {},
   "source": [
    "### Map :-"
   ]
  },
  {
   "cell_type": "markdown",
   "id": "76a5bca5-9ee9-43f4-b7b1-7856ab821b9a",
   "metadata": {},
   "source": [
    "### Explain the purpose of the `map()` function in Python and provide an example of how it can be used to apply a function to each element of an iterable."
   ]
  },
  {
   "cell_type": "code",
   "execution_count": 4,
   "id": "e6a28e38-468b-461e-9c80-2adb809b22d0",
   "metadata": {},
   "outputs": [
    {
     "name": "stdout",
     "output_type": "stream",
     "text": [
      "[1, 4, 9, 16, 25]\n"
     ]
    }
   ],
   "source": [
    "# Function to square a number\n",
    "def square(x):\n",
    "    return x ** 2\n",
    "\n",
    "# List of numbers\n",
    "numbers = [1, 2, 3, 4, 5]\n",
    "\n",
    "# Use map() to square each element in the list\n",
    "squared_numbers = map(square, numbers)\n",
    "\n",
    "# Convert the result to a list (only needed in Python 3)\n",
    "squared_numbers_list = list(squared_numbers)\n",
    "\n",
    "# Output the result\n",
    "print(squared_numbers_list)\n"
   ]
  },
  {
   "cell_type": "markdown",
   "id": "3792fd57-ec19-4738-8c47-8eb420f3e1d5",
   "metadata": {},
   "source": [
    "### Write a Python program that uses the `map()` function to square each element of a list of numbers."
   ]
  },
  {
   "cell_type": "code",
   "execution_count": 5,
   "id": "2cb3142a-4b24-4b7f-8e58-5cadfad0abda",
   "metadata": {},
   "outputs": [
    {
     "name": "stdout",
     "output_type": "stream",
     "text": [
      "Original numbers: [1, 2, 3, 4, 5]\n",
      "Squared numbers: [1, 4, 9, 16, 25]\n"
     ]
    }
   ],
   "source": [
    "# Function to square a number\n",
    "def square(x):\n",
    "    return x ** 2\n",
    "\n",
    "# List of numbers\n",
    "numbers = [1, 2, 3, 4, 5]\n",
    "\n",
    "# Use map() to square each element in the list\n",
    "squared_numbers = map(square, numbers)\n",
    "\n",
    "# Convert the result to a list (only needed in Python 3)\n",
    "squared_numbers_list = list(squared_numbers)\n",
    "\n",
    "# Output the original and squared lists\n",
    "print(\"Original numbers:\", numbers)\n",
    "print(\"Squared numbers:\", squared_numbers_list)\n"
   ]
  },
  {
   "cell_type": "markdown",
   "id": "2e52e559-c1a3-4fc7-b3cc-48728cd709f6",
   "metadata": {},
   "source": [
    "### How does the `map()` function differ from a list comprehension in Python, and when would you choose one over the other?"
   ]
  },
  {
   "cell_type": "code",
   "execution_count": 6,
   "id": "d72e30d8-c20a-41ac-affe-7b1609348bf3",
   "metadata": {},
   "outputs": [
    {
     "ename": "SyntaxError",
     "evalue": "invalid syntax (822378929.py, line 1)",
     "output_type": "error",
     "traceback": [
      "\u001b[0;36m  Cell \u001b[0;32mIn[6], line 1\u001b[0;36m\u001b[0m\n\u001b[0;31m    map() and list comprehensions are powerful tools, and the choice between\u001b[0m\n\u001b[0m                   ^\u001b[0m\n\u001b[0;31mSyntaxError\u001b[0m\u001b[0;31m:\u001b[0m invalid syntax\n"
     ]
    }
   ],
   "source": [
    "map() and list comprehensions are powerful tools, and the choice between \n",
    "them often depends on the specific requirements and coding style preferences.\n",
    "List comprehensions are more Pythonic and often preferred for simple cases,\n",
    "while map() might be more suitable when applying a function to each element \n",
    "is the primary goal.\n"
   ]
  },
  {
   "cell_type": "markdown",
   "id": "58db9510-f73e-4b44-a0db-1c2e1a2030e6",
   "metadata": {},
   "source": [
    "### Write a Python program that uses the `map()` function to calculate the length of each word in a list of strings."
   ]
  },
  {
   "cell_type": "code",
   "execution_count": 7,
   "id": "88ba95c7-c442-4696-abe8-3e753730d92d",
   "metadata": {},
   "outputs": [
    {
     "name": "stdout",
     "output_type": "stream",
     "text": [
      "Original words: ['apple', 'banana', 'orange', 'grape', 'kiwi']\n",
      "Word lengths: [5, 6, 6, 5, 4]\n"
     ]
    }
   ],
   "source": [
    "# List of strings\n",
    "words_list = [\"apple\", \"banana\", \"orange\", \"grape\", \"kiwi\"]\n",
    "\n",
    "# Function to calculate the length of a word\n",
    "def calculate_word_length(word):\n",
    "    return len(word)\n",
    "\n",
    "# Use map() to apply the function to each word in the list\n",
    "word_lengths = map(calculate_word_length, words_list)\n",
    "\n",
    "# Convert the result to a list (only needed in Python 3)\n",
    "word_lengths_list = list(word_lengths)\n",
    "\n",
    "# Output the original list and the calculated word lengths\n",
    "print(\"Original words:\", words_list)\n",
    "print(\"Word lengths:\", word_lengths_list)\n"
   ]
  },
  {
   "cell_type": "markdown",
   "id": "75994f58-6bf4-4dfe-ad00-74ecb4454ffb",
   "metadata": {},
   "source": [
    "### How can you use the `map()` function to apply a custom function to elements of multiple lists simultaneously in Python?"
   ]
  },
  {
   "cell_type": "code",
   "execution_count": 8,
   "id": "215bc6c9-d604-40dd-9b57-22d87cc0ce63",
   "metadata": {},
   "outputs": [
    {
     "name": "stdout",
     "output_type": "stream",
     "text": [
      "List 1: [1, 2, 3, 4]\n",
      "List 2: [5, 6, 7, 8]\n",
      "Result: [6, 8, 10, 12]\n"
     ]
    }
   ],
   "source": [
    "# Custom function to add corresponding elements of two lists\n",
    "def add_elements(x, y):\n",
    "    return x + y\n",
    "\n",
    "# Lists to be processed\n",
    "list1 = [1, 2, 3, 4]\n",
    "list2 = [5, 6, 7, 8]\n",
    "\n",
    "# Use map() to apply the custom function to elements of both lists\n",
    "result = map(add_elements, list1, list2)\n",
    "\n",
    "# Convert the result to a list (only needed in Python 3)\n",
    "result_list = list(result)\n",
    "\n",
    "# Output the original lists and the result\n",
    "print(\"List 1:\", list1)\n",
    "print(\"List 2:\", list2)\n",
    "print(\"Result:\", result_list)\n"
   ]
  },
  {
   "cell_type": "markdown",
   "id": "0cc1a4ba-d9fa-4482-bced-2798bbd18b17",
   "metadata": {},
   "source": [
    "### Create a Python program that uses `map()` to convert a list of temperatures from Celsius to Fahrenheit."
   ]
  },
  {
   "cell_type": "code",
   "execution_count": 9,
   "id": "4d04dcc4-03af-4a13-b684-1c40b290734c",
   "metadata": {},
   "outputs": [
    {
     "name": "stdout",
     "output_type": "stream",
     "text": [
      "Temperatures in Celsius: [0, 10, 20, 30, 40]\n",
      "Temperatures in Fahrenheit: [32.0, 50.0, 68.0, 86.0, 104.0]\n"
     ]
    }
   ],
   "source": [
    "# Custom function to convert Celsius to Fahrenheit\n",
    "def celsius_to_fahrenheit(celsius):\n",
    "    return (celsius * 9/5) + 32\n",
    "\n",
    "# List of temperatures in Celsius\n",
    "temperatures_celsius = [0, 10, 20, 30, 40]\n",
    "\n",
    "# Use map() to apply the conversion function to each temperature\n",
    "temperatures_fahrenheit = map(celsius_to_fahrenheit, temperatures_celsius)\n",
    "\n",
    "# Convert the result to a list (only needed in Python 3)\n",
    "temperatures_fahrenheit_list = list(temperatures_fahrenheit)\n",
    "\n",
    "# Output the original temperatures and the converted temperatures\n",
    "print(\"Temperatures in Celsius:\", temperatures_celsius)\n",
    "print(\"Temperatures in Fahrenheit:\", temperatures_fahrenheit_list)\n"
   ]
  },
  {
   "cell_type": "markdown",
   "id": "e63d0801-d392-4b54-9b41-a7665cd42c87",
   "metadata": {},
   "source": [
    "### Recursion:-"
   ]
  },
  {
   "cell_type": "markdown",
   "id": "2db7ef21-e3d8-45bd-a7d8-1e68c3a0476f",
   "metadata": {},
   "source": [
    "### Explain the concept of recursion in Python. How does it differ from iteration?"
   ]
  },
  {
   "cell_type": "code",
   "execution_count": 10,
   "id": "239e2bc3-ec6e-4d43-8386-90c91ae6d95a",
   "metadata": {},
   "outputs": [
    {
     "ename": "SyntaxError",
     "evalue": "invalid syntax (1664465982.py, line 1)",
     "output_type": "error",
     "traceback": [
      "\u001b[0;36m  Cell \u001b[0;32mIn[10], line 1\u001b[0;36m\u001b[0m\n\u001b[0;31m    Recursion :- function that call itself is called Recursion\u001b[0m\n\u001b[0m                          ^\u001b[0m\n\u001b[0;31mSyntaxError\u001b[0m\u001b[0;31m:\u001b[0m invalid syntax\n"
     ]
    }
   ],
   "source": [
    "Recursion :- function that call itself is called Recursion\n",
    "\n",
    "Different from iteration :- termination , code structure, memory size , understanding"
   ]
  },
  {
   "cell_type": "markdown",
   "id": "8459e6ba-71c5-48c4-95fb-29aef22e0037",
   "metadata": {},
   "source": [
    "### Write a Python program to calculate the factorial of a number using recursion. "
   ]
  },
  {
   "cell_type": "code",
   "execution_count": 11,
   "id": "f4f55972-6040-4c49-9759-556f03f497d2",
   "metadata": {},
   "outputs": [
    {
     "name": "stdout",
     "output_type": "stream",
     "text": [
      "120\n"
     ]
    }
   ],
   "source": [
    "def factorial(n):\n",
    "    # Base case\n",
    "    if n == 0 or n == 1:\n",
    "        return 1\n",
    "    else:\n",
    "        # Recursive case\n",
    "        return n * factorial(n - 1)\n",
    "\n",
    "# Example usage\n",
    "result = factorial(5)\n",
    "print(result)  # Output: 120\n"
   ]
  },
  {
   "cell_type": "markdown",
   "id": "3af93077-44ef-43e3-a2b6-de16763b7dc3",
   "metadata": {},
   "source": [
    "### Create a recursive Python function to find the nth Fibonacci number."
   ]
  },
  {
   "cell_type": "code",
   "execution_count": 21,
   "id": "b87d0d4b-0522-4ede-8692-faa94a2be606",
   "metadata": {},
   "outputs": [
    {
     "name": "stdout",
     "output_type": "stream",
     "text": [
      "The 8th Fibonacci number is: 21\n"
     ]
    }
   ],
   "source": [
    "def fibonacci(n):\n",
    "    # Base cases\n",
    "    if n == 0:\n",
    "        return 0\n",
    "    elif n == 1:\n",
    "        return 1\n",
    "    else:\n",
    "        # Recursive case\n",
    "        return fibonacci(n - 1) + fibonacci(n - 2)\n",
    "\n",
    "# Example usage\n",
    "nth_fibonacci = 8\n",
    "result = fibonacci(nth_fibonacci)\n",
    "print(f\"The {nth_fibonacci}th Fibonacci number is:\", result)\n"
   ]
  },
  {
   "cell_type": "markdown",
   "id": "d238ee39-696a-413d-84b6-37222dbce225",
   "metadata": {},
   "source": [
    "### Write a recursive Python function to calculate the sum of all elements in a list.\n"
   ]
  },
  {
   "cell_type": "code",
   "execution_count": 29,
   "id": "6695f85f-4b51-4968-955f-4debf8e975a4",
   "metadata": {},
   "outputs": [
    {
     "name": "stdout",
     "output_type": "stream",
     "text": [
      "The sum of the elements in the list is: 15\n"
     ]
    }
   ],
   "source": [
    "def recursive_sum(lst):\n",
    "    # Base case: empty list has sum 0\n",
    "    if not lst:\n",
    "        return 0\n",
    "    else:\n",
    "        # Recursive case: sum of the first element and the sum of the rest\n",
    "        return lst[0] + recursive_sum(lst[1:])\n",
    "\n",
    "# Example usage\n",
    "numbers = [1, 2, 3, 4, 5]\n",
    "\n",
    "result = recursive_sum(numbers)\n",
    "print(\"The sum of the elements in the list is:\", result)\n"
   ]
  },
  {
   "cell_type": "markdown",
   "id": "f1e016c3-c2f4-4884-becc-1fb9b7a1cbe5",
   "metadata": {},
   "source": [
    "### Create a recursive Python function to find the greatest common divisor (GCD) of two numbers using the Euclidean algorithm."
   ]
  },
  {
   "cell_type": "code",
   "execution_count": 30,
   "id": "05530dca-05c8-48ab-a61b-59745603d8cf",
   "metadata": {},
   "outputs": [
    {
     "name": "stdout",
     "output_type": "stream",
     "text": [
      "The GCD of 48 and 18 is: 6\n"
     ]
    }
   ],
   "source": [
    "def euclidean_gcd(a, b):\n",
    "    # Base case: GCD of a number and 0 is the number itself\n",
    "    if b == 0:\n",
    "        return a\n",
    "    else:\n",
    "        # Recursive case: GCD of two numbers is the GCD of the smaller number and the remainder\n",
    "        return euclidean_gcd(b, a % b)\n",
    "\n",
    "# Example usage\n",
    "num1 = 48\n",
    "num2 = 18\n",
    "\n",
    "result = euclidean_gcd(num1, num2)\n",
    "print(f\"The GCD of {num1} and {num2} is:\", result)\n"
   ]
  },
  {
   "cell_type": "markdown",
   "id": "8c423b22-af26-48bd-944b-c75459405295",
   "metadata": {},
   "source": [
    "### Write a recursive Python function to reverse a string."
   ]
  },
  {
   "cell_type": "code",
   "execution_count": 31,
   "id": "297acd61-1dcb-41c3-a090-138f474f7d76",
   "metadata": {},
   "outputs": [
    {
     "name": "stdout",
     "output_type": "stream",
     "text": [
      "Original String: PW SKILLS!\n",
      "Reversed String: !SLLIKS WP\n"
     ]
    }
   ],
   "source": [
    "def reverse_string(s):\n",
    "    # Base case: an empty string or a string with a single character is its own reverse\n",
    "    if len(s) <= 1:\n",
    "        return s\n",
    "    else:\n",
    "        # Recursive case: reverse the rest of the string and concatenate the first character\n",
    "        return reverse_string(s[1:]) + s[0]\n",
    "\n",
    "# Example usage\n",
    "original_string = \"PW SKILLS!\"\n",
    "\n",
    "reversed_string = reverse_string(original_string)\n",
    "print(\"Original String:\", original_string)\n",
    "print(\"Reversed String:\", reversed_string)\n"
   ]
  },
  {
   "cell_type": "markdown",
   "id": "dc878373-d6b3-4ebf-84a5-51bc677c3c83",
   "metadata": {},
   "source": [
    "### Create a recursive Python function to calculate the power of a number (x^n)."
   ]
  },
  {
   "cell_type": "code",
   "execution_count": 32,
   "id": "3af20203-3e9f-4432-95dd-4c4d516ff4ba",
   "metadata": {},
   "outputs": [
    {
     "name": "stdout",
     "output_type": "stream",
     "text": [
      "25\n"
     ]
    }
   ],
   "source": [
    "def power(n):\n",
    "    # Base case\n",
    "    if n == 0:\n",
    "        return 0\n",
    "    else:\n",
    "        # Recursive case\n",
    "        return n*n\n",
    "\n",
    "# Example usage\n",
    "n=5\n",
    "\n",
    "result = power(n)\n",
    "print(result)\n"
   ]
  },
  {
   "cell_type": "markdown",
   "id": "23ab5b3e-3bde-44f1-a83a-3e26f8a47b4b",
   "metadata": {},
   "source": [
    "### Write a recursive Python function to find all permutations of a given string."
   ]
  },
  {
   "cell_type": "markdown",
   "id": "605c81cb-aca5-4dd2-bfee-9bc29fb855e9",
   "metadata": {},
   "source": [
    "### Write a recursive Python function to check if a string is a palindrome.\n"
   ]
  },
  {
   "cell_type": "code",
   "execution_count": 34,
   "id": "98ddc4b0-5eee-4fce-a4ea-20e3630270a3",
   "metadata": {},
   "outputs": [
    {
     "name": "stdout",
     "output_type": "stream",
     "text": [
      "Is 'malayalam' a palindrome? True\n",
      "Is 'python' a palindrome? False\n"
     ]
    }
   ],
   "source": [
    "def is_palindrome(s):\n",
    "    # Base case: an empty string or a string with a single character is a palindrome\n",
    "    if len(s) <= 1:\n",
    "        return True\n",
    "    else:\n",
    "        # Check if the first and last characters are equal\n",
    "        if s[0] == s[-1]:\n",
    "            # Recursive case: check if the substring excluding the first and last characters is a palindrome\n",
    "            return is_palindrome(s[1:-1])\n",
    "        else:\n",
    "            return False\n",
    "\n",
    "# Example usage\n",
    "palindrome_string = \"malayalam\"\n",
    "non_palindrome_string = \"python\"\n",
    "\n",
    "print(f\"Is '{palindrome_string}' a palindrome? {is_palindrome(palindrome_string)}\")\n",
    "print(f\"Is '{non_palindrome_string}' a palindrome? {is_palindrome(non_palindrome_string)}\")\n"
   ]
  },
  {
   "cell_type": "markdown",
   "id": "b9ea3026-e342-4680-a57b-71015a9669b4",
   "metadata": {},
   "source": [
    "### Create a recursive Python function to generate all possible combinations of a list of elements."
   ]
  },
  {
   "cell_type": "code",
   "execution_count": 40,
   "id": "259f644a-5ce3-41cc-b3f5-10a051256529",
   "metadata": {},
   "outputs": [
    {
     "name": "stdout",
     "output_type": "stream",
     "text": [
      "All combinations of [1, 2, 3]: [(1, 2, 3), (1, 2), (1, 3), (1,), (2, 3), (2,), (3,), ()]\n"
     ]
    }
   ],
   "source": [
    "def generate_combinations(elements):\n",
    "    if not elements:\n",
    "        # Base case: an empty list has one combination, the empty set\n",
    "        return [()]\n",
    "    else:\n",
    "        # Recursive case: generate combinations with and without the first element\n",
    "        without_first = generate_combinations(elements[1:])\n",
    "        with_first = [(elements[0],) + combo for combo in without_first]\n",
    "        return with_first + without_first\n",
    "\n",
    "# Example usage\n",
    "input_list = [1, 2, 3]\n",
    "\n",
    "result = generate_combinations(input_list)\n",
    "print(f\"All combinations of {input_list}: {result}\")\n"
   ]
  },
  {
   "cell_type": "code",
   "execution_count": null,
   "id": "b7fcdfc0-b584-4470-ad3e-201d1cacd627",
   "metadata": {},
   "outputs": [],
   "source": []
  },
  {
   "cell_type": "markdown",
   "id": "0c922cfb-e292-4611-bd16-d31eefd5ee33",
   "metadata": {},
   "source": [
    "### Basics of Functions:"
   ]
  },
  {
   "cell_type": "markdown",
   "id": "73489aa5-f04a-4dac-956a-7d1e4a287bd0",
   "metadata": {},
   "source": [
    "### What is a function in Python, and why is it used?"
   ]
  },
  {
   "cell_type": "code",
   "execution_count": 41,
   "id": "01df2c86-4463-473e-9e60-501f9fbf51f1",
   "metadata": {},
   "outputs": [
    {
     "ename": "SyntaxError",
     "evalue": "invalid syntax (1226329936.py, line 1)",
     "output_type": "error",
     "traceback": [
      "\u001b[0;36m  Cell \u001b[0;32mIn[41], line 1\u001b[0;36m\u001b[0m\n\u001b[0;31m    Function :- Function is a block of codes that performs some operations\u001b[0m\n\u001b[0m                              ^\u001b[0m\n\u001b[0;31mSyntaxError\u001b[0m\u001b[0;31m:\u001b[0m invalid syntax\n"
     ]
    }
   ],
   "source": [
    "Function :- Function is a block of codes that performs some operations\n",
    "is known as function. Functions are defined using the def keyword\n"
   ]
  },
  {
   "cell_type": "markdown",
   "id": "d80ff5d2-3b15-4616-98fc-667613f16b7d",
   "metadata": {},
   "source": [
    "### How do you define a function in Python? Provide an example."
   ]
  },
  {
   "cell_type": "code",
   "execution_count": 45,
   "id": "a9627d9d-e1e6-4863-b584-a602927eaa3f",
   "metadata": {},
   "outputs": [
    {
     "data": {
      "text/plain": [
       "11"
      ]
     },
     "execution_count": 45,
     "metadata": {},
     "output_type": "execute_result"
    }
   ],
   "source": [
    "# define a function\n",
    "\n",
    "def add(a,b):\n",
    "    # operation perform\n",
    "    sum = a+b\n",
    "    # return value\n",
    "    return sum\n",
    "\n",
    "# function call\n",
    "add(5,6)"
   ]
  },
  {
   "cell_type": "markdown",
   "id": "d8e6f14e-2a08-4b55-a025-8c27c20245e8",
   "metadata": {},
   "source": [
    "### Explain the difference between a function definition and a function call."
   ]
  },
  {
   "cell_type": "code",
   "execution_count": 46,
   "id": "0479287f-03df-4789-92a4-41878ee66e5a",
   "metadata": {},
   "outputs": [
    {
     "ename": "SyntaxError",
     "evalue": "invalid syntax (3709646560.py, line 1)",
     "output_type": "error",
     "traceback": [
      "\u001b[0;36m  Cell \u001b[0;32mIn[46], line 1\u001b[0;36m\u001b[0m\n\u001b[0;31m    function defination:-A function definition is where you define the behavior\u001b[0m\n\u001b[0m             ^\u001b[0m\n\u001b[0;31mSyntaxError\u001b[0m\u001b[0;31m:\u001b[0m invalid syntax\n"
     ]
    }
   ],
   "source": [
    "function defination:-A function definition is where you define the behavior\n",
    "and structure of a function. It specifies what the function does when called,\n",
    "what parameters it accepts, and what it returns (if anything).\n",
    "\n",
    "function call:-A function call is when you actually invoke or execute a\n",
    "function that has been defined. It executes the code inside the function \n",
    "definition with specific values provided as arguments"
   ]
  },
  {
   "cell_type": "markdown",
   "id": "401db4f9-b6d5-43a3-b5c8-5a82f81db650",
   "metadata": {},
   "source": [
    "### Write a Python program that defines a function to calculate the sum of two numbers and then calls the function."
   ]
  },
  {
   "cell_type": "code",
   "execution_count": 47,
   "id": "ab447a96-feed-41ae-a170-7fc0d56f6da5",
   "metadata": {},
   "outputs": [
    {
     "data": {
      "text/plain": [
       "11"
      ]
     },
     "execution_count": 47,
     "metadata": {},
     "output_type": "execute_result"
    }
   ],
   "source": [
    "# define a function\n",
    "\n",
    "def add(a,b):\n",
    "    # operation perform\n",
    "    sum = a+b\n",
    "    # return value\n",
    "    return sum\n",
    "\n",
    "# function call\n",
    "add(5,6)"
   ]
  },
  {
   "cell_type": "markdown",
   "id": "91774ded-5a0c-434a-b7bf-e96205413ae2",
   "metadata": {},
   "source": [
    "### Create a Python function that takes two arguments and returns their product."
   ]
  },
  {
   "cell_type": "code",
   "execution_count": 48,
   "id": "058e7e1f-da02-4d8a-b0b8-9d774eb8a12f",
   "metadata": {},
   "outputs": [
    {
     "data": {
      "text/plain": [
       "30"
      ]
     },
     "execution_count": 48,
     "metadata": {},
     "output_type": "execute_result"
    }
   ],
   "source": [
    "# define a function\n",
    "\n",
    "def product(a,b):\n",
    "    # operation perform\n",
    "    product = a*b\n",
    "    # return value\n",
    "    return product\n",
    "\n",
    "# function call\n",
    "product(5,6)"
   ]
  },
  {
   "cell_type": "markdown",
   "id": "e4a21e83-58c0-40cf-9046-ef1e2326816f",
   "metadata": {},
   "source": [
    "### Function Parameters and Arguments:"
   ]
  },
  {
   "cell_type": "markdown",
   "id": "ddf9320b-bf78-47a8-aae1-eaf13b157c5f",
   "metadata": {},
   "source": [
    "### Explain the concepts of formal parameters and actual arguments in Python functions."
   ]
  },
  {
   "cell_type": "code",
   "execution_count": 50,
   "id": "443c0cd2-6f5b-461a-bd4e-64afa16eecf2",
   "metadata": {},
   "outputs": [
    {
     "name": "stdout",
     "output_type": "stream",
     "text": [
      "8\n"
     ]
    }
   ],
   "source": [
    "def add_numbers(x, y):\n",
    "    # Formal parameters: x and y\n",
    "    result = x + y\n",
    "    return result\n",
    "\n",
    "# Actual arguments: 3 and 5\n",
    "sum_result = add_numbers(3, 5)\n",
    "\n",
    "print(sum_result)\n"
   ]
  },
  {
   "cell_type": "markdown",
   "id": "27bc84b3-b37b-4e96-83bc-831304e4aefa",
   "metadata": {},
   "source": [
    "### Write a Python program that defines a function with default argument values."
   ]
  },
  {
   "cell_type": "code",
   "execution_count": 54,
   "id": "a1c3b458-26e7-46d8-ae97-e8d652c4681b",
   "metadata": {},
   "outputs": [
    {
     "name": "stdout",
     "output_type": "stream",
     "text": [
      "Hello, pwskills!\n"
     ]
    }
   ],
   "source": [
    "def greet(name, greeting=\"Hello\"):\n",
    "   \n",
    "    print(f\"{greeting}, {name}!\")\n",
    "\n",
    "# Example usage with default greeting\n",
    "greet(\"pwskills\")\n",
    "   \n"
   ]
  },
  {
   "cell_type": "markdown",
   "id": "d28af692-4a07-4935-84fa-46e67760f85f",
   "metadata": {},
   "source": [
    "### How do you use keyword arguments in Python function calls? Provide an example."
   ]
  },
  {
   "cell_type": "code",
   "execution_count": 55,
   "id": "ebd5f22f-c59b-439f-baaa-044b3a868c06",
   "metadata": {},
   "outputs": [
    {
     "name": "stdout",
     "output_type": "stream",
     "text": [
      "Name: Alok, Age: 20, City: Bhopal\n"
     ]
    }
   ],
   "source": [
    "def print_person_info(name, age, city):\n",
    "    print(f\"Name: {name}, Age: {age}, City: {city}\")\n",
    "\n",
    "# Using keyword arguments to call the function\n",
    "print_person_info(name=\"Alok\", age=20, city=\"Bhopal\")\n"
   ]
  },
  {
   "cell_type": "markdown",
   "id": "8c53c25a-43c2-443d-8c60-84e3612767fe",
   "metadata": {},
   "source": [
    "### Create a Python function that accepts a variable number of arguments and calculates their sum."
   ]
  },
  {
   "cell_type": "code",
   "execution_count": 56,
   "id": "d4bfb4ef-6b5c-4432-a004-d695da513abf",
   "metadata": {},
   "outputs": [
    {
     "name": "stdout",
     "output_type": "stream",
     "text": [
      "89\n"
     ]
    }
   ],
   "source": [
    "def print_add(a , b, c):\n",
    "    print(a+b+c)\n",
    "\n",
    "# Using keyword arguments to call the function\n",
    "print_add(23 ,43,23)\n"
   ]
  },
  {
   "cell_type": "markdown",
   "id": "15a27819-3253-49c2-a867-0a44ce26ae26",
   "metadata": {},
   "source": [
    "### Return Values and Scoping:"
   ]
  },
  {
   "cell_type": "markdown",
   "id": "edb4fd66-629f-45e7-864a-682dda2a0fa0",
   "metadata": {},
   "source": [
    "### Describe the role of the `return` statement in Python functions and provide examples."
   ]
  },
  {
   "cell_type": "code",
   "execution_count": 60,
   "id": "426defe1-fbd2-47a4-87b8-1730f57c5e23",
   "metadata": {},
   "outputs": [
    {
     "name": "stdout",
     "output_type": "stream",
     "text": [
      "Sum: 8\n"
     ]
    }
   ],
   "source": [
    "def add_numbers(a, b):\n",
    "    result = a + b\n",
    "    return result\n",
    "\n",
    "# Calling the function and using the returned value\n",
    "sum_result = add_numbers(3, 5)\n",
    "print(\"Sum:\", sum_result)\n",
    "\n",
    "\n",
    "# In this example, the add_numbers\n",
    "# function returns the sum of two numbers using the return statement.\n"
   ]
  },
  {
   "cell_type": "markdown",
   "id": "4b194cc1-6b4f-47a1-be9d-f46c35add934",
   "metadata": {},
   "source": [
    "### Explain the concept of variable scope in Python, including local and global variables."
   ]
  },
  {
   "cell_type": "code",
   "execution_count": 61,
   "id": "ec134477-5bb3-4fae-be05-50dd96836961",
   "metadata": {},
   "outputs": [
    {
     "name": "stdout",
     "output_type": "stream",
     "text": [
      "Local Variable: 50\n",
      "Global Variable: 100\n"
     ]
    }
   ],
   "source": [
    "# Global variable\n",
    "global_var = 100\n",
    "\n",
    "def my_function():\n",
    "    # Local variable with the same name as the global variable\n",
    "    global_var = 50\n",
    "    print(\"Local Variable:\", global_var)\n",
    "\n",
    "# Calling the function\n",
    "my_function()\n",
    "\n",
    "# Accessing the global variable\n",
    "print(\"Global Variable:\", global_var)\n"
   ]
  },
  {
   "cell_type": "markdown",
   "id": "c8649a00-1862-4ad2-b5c6-8d3bc2bc22f1",
   "metadata": {},
   "source": [
    "### Write a Python program that demonstrates the use of global variables within functions."
   ]
  },
  {
   "cell_type": "markdown",
   "id": "b12ea1b6-e7e5-4b2c-9a90-625d27a9e94a",
   "metadata": {},
   "source": [
    "### Create a Python function that calculates the factorial of a number and returns it."
   ]
  },
  {
   "cell_type": "code",
   "execution_count": 71,
   "id": "81d22454-8fa9-4a66-aa4c-5bcfc1de62dc",
   "metadata": {},
   "outputs": [
    {
     "name": "stdout",
     "output_type": "stream",
     "text": [
      "120\n"
     ]
    }
   ],
   "source": [
    "\n",
    "def factorial(n):\n",
    "    # Base case\n",
    "    if n == 0 or n == 1:\n",
    "        return 1\n",
    "    else:\n",
    "        # Recursive case\n",
    "        return n * factorial(n - 1)\n",
    "\n",
    "# Example usage\n",
    "result = factorial(5)\n",
    "print(result) \n"
   ]
  },
  {
   "cell_type": "markdown",
   "id": "165b40a0-6db9-4881-b582-5f8b01779cb2",
   "metadata": {},
   "source": [
    "### How can you access variables defined outside a function from within the function?"
   ]
  },
  {
   "cell_type": "code",
   "execution_count": 73,
   "id": "a4784a27-a898-48ce-95bc-0a3d22ca0bde",
   "metadata": {},
   "outputs": [
    {
     "name": "stdout",
     "output_type": "stream",
     "text": [
      "10\n"
     ]
    }
   ],
   "source": [
    "global_variable = 10\n",
    "\n",
    "def my_function():\n",
    "    print(global_variable)\n",
    "\n",
    "my_function() "
   ]
  },
  {
   "cell_type": "markdown",
   "id": "9ec8e9c0-d361-4dca-a610-ec74173cf65c",
   "metadata": {},
   "source": [
    "### Lambda Functions and Higher-Order Functions:"
   ]
  },
  {
   "cell_type": "markdown",
   "id": "d4815e36-afc1-427a-b164-db07460ed93f",
   "metadata": {},
   "source": [
    "### What are lambda functions in Python, and when are they typically used? "
   ]
  },
  {
   "cell_type": "code",
   "execution_count": 76,
   "id": "b98c5b61-955e-4c1c-aa9f-53e8b6b25feb",
   "metadata": {},
   "outputs": [
    {
     "name": "stdout",
     "output_type": "stream",
     "text": [
      "8\n"
     ]
    }
   ],
   "source": [
    "'''\n",
    "Lambda Functions:\n",
    "\n",
    "A lambda function, also known as an anonymous function, is a concise way\n",
    "to create small, one-line functions without using the def keyword.\n",
    "'''\n",
    "add = lambda x, y: x + y\n",
    "result = add(3, 5)\n",
    "print(result) \n"
   ]
  },
  {
   "cell_type": "markdown",
   "id": "8742e05d-709f-481c-af0d-ca5d320812b7",
   "metadata": {},
   "source": [
    "### Write a Python program that uses lambda functions to sorta list of tuples based on the second element."
   ]
  },
  {
   "cell_type": "code",
   "execution_count": 77,
   "id": "b35c10a9-6475-4845-b35b-40022e3cf0b9",
   "metadata": {},
   "outputs": [
    {
     "name": "stdout",
     "output_type": "stream",
     "text": [
      "Original List: [(1, 5), (3, 2), (2, 8), (4, 1)]\n",
      "Sorted List based on the second element: [(4, 1), (3, 2), (1, 5), (2, 8)]\n"
     ]
    }
   ],
   "source": [
    "# List of tuples\n",
    "tuple_list = [(1, 5), (3, 2), (2, 8), (4, 1)]\n",
    "\n",
    "# Sorting based on the second element of each tuple\n",
    "sorted_list = sorted(tuple_list, key=lambda x: x[1])\n",
    "\n",
    "# Display the sorted list\n",
    "print(\"Original List:\", tuple_list)\n",
    "print(\"Sorted List based on the second element:\", sorted_list)\n"
   ]
  },
  {
   "cell_type": "markdown",
   "id": "753e8971-121c-4992-996c-229ac40c49e5",
   "metadata": {},
   "source": [
    "### Explain the concept of higher-order functions in Python, and provide an example."
   ]
  },
  {
   "cell_type": "code",
   "execution_count": 78,
   "id": "39778af7-77ed-4b1d-9c6f-7a2e5e718066",
   "metadata": {},
   "outputs": [
    {
     "name": "stdout",
     "output_type": "stream",
     "text": [
      "8\n",
      "15\n"
     ]
    }
   ],
   "source": [
    "'''\n",
    "Higher-Order Functions:\n",
    "\n",
    "Higher-order functions are functions that take one or more functions\n",
    "as arguments or return a function as a result.\n",
    "'''\n",
    "def apply_operation(x, y, operation):\n",
    "    return operation(x, y)\n",
    "\n",
    "add = lambda x, y: x + y\n",
    "multiply = lambda x, y: x * y\n",
    "\n",
    "result_add = apply_operation(3, 5, add)\n",
    "result_multiply = apply_operation(3, 5, multiply)\n",
    "\n",
    "print(result_add)      \n",
    "print(result_multiply)  \n",
    "\n"
   ]
  },
  {
   "cell_type": "markdown",
   "id": "dff2b87d-b0df-4a5e-9b60-2250546c0930",
   "metadata": {},
   "source": [
    "### Create a Python function that takes a list of numbers and a function as arguments, applying the function to each element in the list."
   ]
  },
  {
   "cell_type": "code",
   "execution_count": 79,
   "id": "20eda400-7af5-4726-a2bd-6723d0027be4",
   "metadata": {},
   "outputs": [
    {
     "name": "stdout",
     "output_type": "stream",
     "text": [
      "Original List: [1, 2, 3, 4, 5]\n",
      "Result List after applying the square function: [1, 4, 9, 16, 25]\n"
     ]
    }
   ],
   "source": [
    "def apply_function_to_list(numbers, custom_function):\n",
    "    result = [custom_function(num) for num in numbers]\n",
    "    return result\n",
    "\n",
    "# Example usage:\n",
    "numbers_list = [1, 2, 3, 4, 5]\n",
    "\n",
    "# Define a custom function (e.g., square)\n",
    "square_function = lambda x: x**2\n",
    "\n",
    "# Apply the custom function to the list of numbers\n",
    "result_list = apply_function_to_list(numbers_list, square_function)\n",
    "\n",
    "# Display the results\n",
    "print(\"Original List:\", numbers_list)\n",
    "print(\"Result List after applying the square function:\", result_list)\n"
   ]
  },
  {
   "cell_type": "markdown",
   "id": "fe03eb13-a88e-457d-bf7d-8575c5a8addf",
   "metadata": {},
   "source": [
    "### Built-in Functions:"
   ]
  },
  {
   "cell_type": "markdown",
   "id": "0cfe2700-5f1f-45f2-a23b-f3169f5928e6",
   "metadata": {},
   "source": [
    "### Describe the role of built-in functions like `len()`, `max()`, and `min()` in Python."
   ]
  },
  {
   "cell_type": "code",
   "execution_count": 81,
   "id": "ce8bcfc0-0ce2-488b-9d98-d372a33c8b43",
   "metadata": {},
   "outputs": [
    {
     "ename": "SyntaxError",
     "evalue": "illegal target for annotation (316290363.py, line 1)",
     "output_type": "error",
     "traceback": [
      "\u001b[0;36m  Cell \u001b[0;32mIn[81], line 1\u001b[0;36m\u001b[0m\n\u001b[0;31m    len():- Returns the length\u001b[0m\n\u001b[0m    ^\u001b[0m\n\u001b[0;31mSyntaxError\u001b[0m\u001b[0;31m:\u001b[0m illegal target for annotation\n"
     ]
    }
   ],
   "source": [
    "len():- Returns the length \n",
    "max():- Returns the maximum value\n",
    "min():- Returns the minimmum value"
   ]
  },
  {
   "cell_type": "markdown",
   "id": "7bbed14d-88b4-4fa5-9687-afce6e07175f",
   "metadata": {},
   "source": [
    "### Write a Python program that uses the `map()` function to apply a function to each element of a list."
   ]
  },
  {
   "cell_type": "code",
   "execution_count": 1,
   "id": "4930dfa5-23ef-44ac-8266-e80139cce2aa",
   "metadata": {},
   "outputs": [
    {
     "name": "stdout",
     "output_type": "stream",
     "text": [
      "Original List: [1, 2, 3, 4, 5]\n",
      "Squared List: [1, 4, 9, 16, 25]\n"
     ]
    }
   ],
   "source": [
    "# Define a function to square a number\n",
    "def square(x):\n",
    "    return x**2\n",
    "\n",
    "# List of numbers\n",
    "numbers = [1, 2, 3, 4, 5]\n",
    "\n",
    "# Use map() to apply the square function to each element of the list\n",
    "result = map(square, numbers)\n",
    "\n",
    "# Convert the result iterator to a list\n",
    "result_list = list(result)\n",
    "\n",
    "# Display the original list and the result list\n",
    "print(\"Original List:\", numbers)\n",
    "print(\"Squared List:\", result_list)\n"
   ]
  },
  {
   "cell_type": "markdown",
   "id": "a464fbbc-8df3-4dd7-9584-1680da18404f",
   "metadata": {},
   "source": [
    "### Reduce"
   ]
  },
  {
   "cell_type": "markdown",
   "id": "167c5684-5e54-4b52-8b97-663b98803d5f",
   "metadata": {},
   "source": [
    "### What is the `reduce()` function in Python, and what module should you import to use it? Provide an example of its basic usage."
   ]
  },
  {
   "cell_type": "code",
   "execution_count": 2,
   "id": "6d7badcd-4fde-45b3-b674-be19ffb44b83",
   "metadata": {},
   "outputs": [
    {
     "name": "stdout",
     "output_type": "stream",
     "text": [
      "Result of reducing the list: 15\n"
     ]
    }
   ],
   "source": [
    "'''\n",
    "The reduce() function in Python is part of the functools module. \n",
    "It is used to apply a binary function cumulatively to the items of an \n",
    "iterable, reducing the iterable to a single accumulated result\n",
    "'''\n",
    "from functools import reduce\n",
    "\n",
    "# Define a binary function (in this case, a simple addition)\n",
    "def add(x, y):\n",
    "    return x + y\n",
    "\n",
    "# List of numbers\n",
    "numbers = [1, 2, 3, 4, 5]\n",
    "\n",
    "# Use reduce() to apply the add function cumulatively to the list\n",
    "result = reduce(add, numbers)\n",
    "\n",
    "# Display the result\n",
    "print(\"Result of reducing the list:\", result)\n"
   ]
  },
  {
   "cell_type": "markdown",
   "id": "9779a298-b11a-4844-9813-9c6c493ba9ec",
   "metadata": {},
   "source": [
    "### Write a Python program that uses the `reduce()` function to find the product of all elements in a list."
   ]
  },
  {
   "cell_type": "code",
   "execution_count": 3,
   "id": "784aa88e-c6ad-4a5c-80be-8a1ddd5f5a34",
   "metadata": {},
   "outputs": [
    {
     "name": "stdout",
     "output_type": "stream",
     "text": [
      "Product of all elements in the list: 120\n"
     ]
    }
   ],
   "source": [
    "from functools import reduce\n",
    "\n",
    "# Define a binary function (multiplication)\n",
    "def multiply(x, y):\n",
    "    return x * y\n",
    "\n",
    "# List of numbers\n",
    "numbers = [1, 2, 3, 4, 5]\n",
    "\n",
    "# Use reduce() to apply the multiply function cumulatively to the list\n",
    "product = reduce(multiply, numbers)\n",
    "\n",
    "# Display the result\n",
    "print(\"Product of all elements in the list:\", product)\n"
   ]
  },
  {
   "cell_type": "markdown",
   "id": "51517507-adaa-4828-85b2-085bfe8df4f0",
   "metadata": {},
   "source": [
    "### Create a Python program that uses `reduce()` to find the maximum element in a list of numbers."
   ]
  },
  {
   "cell_type": "code",
   "execution_count": 4,
   "id": "84605ad8-c010-4b1a-aef2-8976e050070d",
   "metadata": {},
   "outputs": [
    {
     "name": "stdout",
     "output_type": "stream",
     "text": [
      "Maximum element in the list: 23\n"
     ]
    }
   ],
   "source": [
    "from functools import reduce\n",
    "\n",
    "# Define a binary function (maximum)\n",
    "def find_maximum(x, y):\n",
    "    return max(x, y)\n",
    "\n",
    "# List of numbers\n",
    "numbers = [12, 5, 23, 8, 17]\n",
    "\n",
    "# Use reduce() to apply the find_maximum function cumulatively to the list\n",
    "maximum_element = reduce(find_maximum, numbers)\n",
    "\n",
    "# Display the result\n",
    "print(\"Maximum element in the list:\", maximum_element)\n"
   ]
  },
  {
   "cell_type": "markdown",
   "id": "1a91490e-96b7-4448-809a-bded419966a0",
   "metadata": {},
   "source": [
    "### Write a Python program that calculates the factorial of a number using the `reduce()` functio\n"
   ]
  },
  {
   "cell_type": "code",
   "execution_count": 5,
   "id": "1c296355-3105-49e6-91fe-49a31de46888",
   "metadata": {},
   "outputs": [
    {
     "name": "stdout",
     "output_type": "stream",
     "text": [
      "The factorial of 5 is: 120\n"
     ]
    }
   ],
   "source": [
    "from functools import reduce\n",
    "\n",
    "# Define a binary function (multiplication)\n",
    "def multiply(x, y):\n",
    "    return x * y\n",
    "\n",
    "# Function to calculate factorial using reduce\n",
    "def factorial(n):\n",
    "    if n < 0:\n",
    "        raise ValueError(\"Factorial is not defined for negative numbers.\")\n",
    "    elif n == 0 or n == 1:\n",
    "        return 1\n",
    "    else:\n",
    "        return reduce(multiply, range(1, n + 1))\n",
    "\n",
    "# Example usage:\n",
    "number = 5\n",
    "result = factorial(number)\n",
    "print(f\"The factorial of {number} is: {result}\")\n"
   ]
  },
  {
   "cell_type": "markdown",
   "id": "7bfa4d8a-0cdb-4dca-bb4d-da70e158b9af",
   "metadata": {},
   "source": [
    "\n",
    "### Create a Python program that uses `reduce()` to find the GCD (Greatest Common Divisor) of a list of numbers.\n"
   ]
  },
  {
   "cell_type": "code",
   "execution_count": 6,
   "id": "5a162e2a-0254-43e7-8cae-7feb9a572176",
   "metadata": {},
   "outputs": [
    {
     "name": "stdout",
     "output_type": "stream",
     "text": [
      "GCD of the list of numbers: 6\n"
     ]
    }
   ],
   "source": [
    "from functools import reduce\n",
    "from math import gcd\n",
    "\n",
    "# List of numbers\n",
    "numbers = [12, 18, 24, 30]\n",
    "\n",
    "# Use reduce() to apply the gcd function cumulatively to the list\n",
    "gcd_result = reduce(gcd, numbers)\n",
    "\n",
    "# Display the result\n",
    "print(\"GCD of the list of numbers:\", gcd_result)\n"
   ]
  },
  {
   "cell_type": "code",
   "execution_count": null,
   "id": "d31a1602-8d13-498a-84d8-5d6f3140cf19",
   "metadata": {},
   "outputs": [],
   "source": []
  }
 ],
 "metadata": {
  "kernelspec": {
   "display_name": "Python 3 (ipykernel)",
   "language": "python",
   "name": "python3"
  },
  "language_info": {
   "codemirror_mode": {
    "name": "ipython",
    "version": 3
   },
   "file_extension": ".py",
   "mimetype": "text/x-python",
   "name": "python",
   "nbconvert_exporter": "python",
   "pygments_lexer": "ipython3",
   "version": "3.10.8"
  }
 },
 "nbformat": 4,
 "nbformat_minor": 5
}
