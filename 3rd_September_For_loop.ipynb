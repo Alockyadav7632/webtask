{
 "cells": [
  {
   "cell_type": "markdown",
   "id": "5daf4742-ccfa-4dff-b0cd-305a4dd37b2d",
   "metadata": {},
   "source": [
    "### Basic level"
   ]
  },
  {
   "cell_type": "markdown",
   "id": "11cfeac7-9ef7-42e7-9485-6dee2c4751cb",
   "metadata": {},
   "source": [
    "### Qno.1 Write a Python program to print the numbers from 1 to 10 using a `for` loop."
   ]
  },
  {
   "cell_type": "code",
   "execution_count": 6,
   "id": "13446905-d544-4b8e-b1b6-60d88eb77029",
   "metadata": {},
   "outputs": [
    {
     "name": "stdout",
     "output_type": "stream",
     "text": [
      "1 2 3 4 5 6 7 8 9 10 "
     ]
    }
   ],
   "source": [
    "#firstly by using for loop syntax\n",
    "for i in range(1, 11):\n",
    "    # print the output\n",
    "    print(i , end=' ')"
   ]
  },
  {
   "cell_type": "markdown",
   "id": "1d99d391-7a50-4808-b2bc-226c872dd99a",
   "metadata": {},
   "source": [
    "### 2.Create a program that calculates the sum of all numbers in a list using a `for` loop."
   ]
  },
  {
   "cell_type": "code",
   "execution_count": 15,
   "id": "9a0e88aa-a855-47f2-9035-066c2326e66f",
   "metadata": {},
   "outputs": [
    {
     "name": "stdout",
     "output_type": "stream",
     "text": [
      "55\n"
     ]
    }
   ],
   "source": [
    "#initialize the total sum =0\n",
    "sum =0;\n",
    "# using for loop syntax \n",
    "for i in range(1,11):\n",
    "   # sum of all numbers operation perform\n",
    "    sum = sum+i;\n",
    "    #  # print the output\n",
    "print(sum)"
   ]
  },
  {
   "cell_type": "markdown",
   "id": "23c0f85e-7b8c-444d-a05c-12c0c3f01460",
   "metadata": {},
   "source": [
    "### 3.Write a program to print the characters of a string in reverse order using a `for` loop."
   ]
  },
  {
   "cell_type": "code",
   "execution_count": 16,
   "id": "50810a36-939c-48d2-a495-165ef88e7924",
   "metadata": {},
   "outputs": [
    {
     "name": "stdout",
     "output_type": "stream",
     "text": [
      "Original string: Pw Skills\n",
      "Reversed string: sllikS wP\n"
     ]
    }
   ],
   "source": [
    "# Define a string\n",
    "original_string = \"Pw Skills\"\n",
    "#Initialize an empty string to store the reversed characters\n",
    "reversed_string = \"\"\n",
    "# Use a for loop to iterate over each character in the original string\n",
    "for char in original_string:\n",
    " # Prepend each character to the reversed string\n",
    "    reversed_string = char + reversed_string\n",
    "\n",
    "#Print the final reversed string\n",
    "print(\"Original string:\", original_string)\n",
    "print(\"Reversed string:\", reversed_string)\n",
    "\n"
   ]
  },
  {
   "cell_type": "markdown",
   "id": "453d9b4a-c839-4a8b-bd1e-cda39ba2fd33",
   "metadata": {},
   "source": [
    "### 4.Develop a program that finds the factorial of a given number using a `for` loop."
   ]
  },
  {
   "cell_type": "code",
   "execution_count": 17,
   "id": "0e1105d4-6dff-44bd-8840-0666f99d8e38",
   "metadata": {},
   "outputs": [
    {
     "name": "stdin",
     "output_type": "stream",
     "text": [
      "Enter a number:  5\n"
     ]
    },
    {
     "name": "stdout",
     "output_type": "stream",
     "text": [
      "The factorial of 5 is: 120\n"
     ]
    }
   ],
   "source": [
    "# Get the input from the user\n",
    "number = int(input(\"Enter a number: \"))\n",
    "\n",
    "# Initialize a variable to store the factorial\n",
    "factorial_result = 1\n",
    "\n",
    "# Use a for loop to iterate \n",
    "for i in range(1, number + 1):\n",
    "    # Multiply each iteration value to the factorial_result\n",
    "    factorial_result *= i\n",
    "\n",
    "# Print the final factorial result\n",
    "print(f\"The factorial of {number} is: {factorial_result}\")\n"
   ]
  },
  {
   "cell_type": "markdown",
   "id": "12d577c5-2502-4af3-aed7-86eedccd3501",
   "metadata": {},
   "source": [
    "### 5.Create a program to print the multiplication table of a given number using a `for` loop."
   ]
  },
  {
   "cell_type": "code",
   "execution_count": 24,
   "id": "f10c7fe5-1680-43af-a8f2-42d5da304474",
   "metadata": {},
   "outputs": [
    {
     "name": "stdin",
     "output_type": "stream",
     "text": [
      "Enter a number:  5\n"
     ]
    },
    {
     "name": "stdout",
     "output_type": "stream",
     "text": [
      "5\n",
      "10\n",
      "15\n",
      "20\n",
      "25\n",
      "30\n",
      "35\n",
      "40\n",
      "45\n",
      "50\n"
     ]
    }
   ],
   "source": [
    "# Get the input from the user\n",
    "number = int(input(\"Enter a number: \"))\n",
    "\n",
    "# Use a for loop to iterate \n",
    "for i in range(1, 11):\n",
    "    multiplication = (number*i)\n",
    "    \n",
    "# Print the final multiplication table result\n",
    "    print(multiplication)"
   ]
  },
  {
   "cell_type": "markdown",
   "id": "7715fd9b-7b15-4fd7-b412-b1d6ade8c5de",
   "metadata": {},
   "source": [
    "### 6.Write a program that counts the number of even and odd numbers in a list using a `for` loop."
   ]
  },
  {
   "cell_type": "code",
   "execution_count": 25,
   "id": "dae2e952-749a-4b87-b04f-9112909c418b",
   "metadata": {},
   "outputs": [
    {
     "name": "stdout",
     "output_type": "stream",
     "text": [
      "Number of even numbers: 5\n",
      "Number of odd numbers: 5\n"
     ]
    }
   ],
   "source": [
    "# Define a list of numbers\n",
    "numbers = [1, 2, 3, 4, 5, 6, 7, 8, 9, 10]\n",
    "\n",
    "# Initialize variables to count even and odd numbers\n",
    "even_count = 0\n",
    "odd_count = 0\n",
    "\n",
    "# Use a for loop to iterate\n",
    "for number in numbers:\n",
    "    # Check if the current number is even or odd\n",
    "    if number % 2 == 0:\n",
    "        even_count += 1\n",
    "    else:\n",
    "        odd_count += 1\n",
    "\n",
    "# Print the counts of even and odd numbers\n",
    "print(\"Number of even numbers:\", even_count)\n",
    "print(\"Number of odd numbers:\", odd_count)\n"
   ]
  },
  {
   "cell_type": "markdown",
   "id": "d440f6f1-21a8-4a47-b6a1-7923718b2a14",
   "metadata": {},
   "source": [
    "### 7.Develop a program that prints the squares of numbers from 1 to 5 using a `for` loop."
   ]
  },
  {
   "cell_type": "code",
   "execution_count": 26,
   "id": "7bf2fcf7-8959-4a08-9db6-1f5d1baafde8",
   "metadata": {},
   "outputs": [
    {
     "name": "stdout",
     "output_type": "stream",
     "text": [
      "The square of 1 is: 1\n",
      "The square of 2 is: 4\n",
      "The square of 3 is: 9\n",
      "The square of 4 is: 16\n",
      "The square of 5 is: 25\n"
     ]
    }
   ],
   "source": [
    "\n",
    "#Use a for loop to iterate \n",
    "for number in range(1, 6):\n",
    "    #Calculate the square of each number\n",
    "    square = number ** 2\n",
    "    \n",
    "    # Print the square of the current number\n",
    "    print(f\"The square of {number} is: {square}\")"
   ]
  },
  {
   "cell_type": "markdown",
   "id": "09af703b-6ef1-4563-b730-13f88ca1ae3a",
   "metadata": {},
   "source": [
    "### 8.Create a program to find the length of a string without using the `len()` function."
   ]
  },
  {
   "cell_type": "code",
   "execution_count": 27,
   "id": "9d137937-865a-4bcd-a11e-16574b0b35b7",
   "metadata": {},
   "outputs": [
    {
     "name": "stdout",
     "output_type": "stream",
     "text": [
      "Length of the string: 9\n"
     ]
    }
   ],
   "source": [
    "#Define a string\n",
    "input_string = \"pw skills\"\n",
    "\n",
    "#Initialize a variable to count the characters\n",
    "length = 0\n",
    "\n",
    "#Use a for loop to iterate over each character in the string\n",
    "for char in input_string:\n",
    "    #Increment the length\n",
    "    length += 1\n",
    "\n",
    "#Print the length of the string\n",
    "print(\"Length of the string:\", length)\n"
   ]
  },
  {
   "cell_type": "markdown",
   "id": "cab11845-6715-4d0b-b59c-3b4975c41055",
   "metadata": {},
   "source": [
    "### 9.Write a program that calculates the average of a list of numbers using a `for` loop."
   ]
  },
  {
   "cell_type": "code",
   "execution_count": 29,
   "id": "c1b22828-1fd2-4d12-b922-f2b38f5a9052",
   "metadata": {},
   "outputs": [
    {
     "name": "stdout",
     "output_type": "stream",
     "text": [
      "Average of the numbers: 30.0\n"
     ]
    }
   ],
   "source": [
    "#Define a list of numbers\n",
    "numbers = [10, 20, 30, 40, 50]\n",
    "\n",
    "# Initialize variables \n",
    "sum_numbers = 0\n",
    "count = 0\n",
    "\n",
    "#Use a for loop to iterate\n",
    "for number in numbers:\n",
    "    # Add the current number to the sum\n",
    "    sum_numbers += number\n",
    "    # Increment the count\n",
    "    count += 1\n",
    "\n",
    "# Calculate the average\n",
    "average = sum_numbers / count\n",
    "\n",
    "# Print the final result\n",
    "print(\"Average of the numbers:\", average)\n"
   ]
  },
  {
   "cell_type": "markdown",
   "id": "8f088b57-b149-4e6a-b7c8-f777ac402590",
   "metadata": {},
   "source": [
    "### 10.Develop a program that prints the first `n` Fibonacci numbers using a `for` loop."
   ]
  },
  {
   "cell_type": "code",
   "execution_count": 38,
   "id": "ac55ca92-4b3f-46b5-8260-9324f94ee639",
   "metadata": {},
   "outputs": [
    {
     "name": "stdin",
     "output_type": "stream",
     "text": [
      "Enter the number of Fibonacci numbers to print:  5\n"
     ]
    },
    {
     "name": "stdout",
     "output_type": "stream",
     "text": [
      "0 1 1 2 3 "
     ]
    }
   ],
   "source": [
    "#Get input from the user\n",
    "n = int(input(\"Enter the number of Fibonacci numbers to print: \"))\n",
    "\n",
    "#Initialize variables\n",
    "a, b = 0, 1\n",
    "\n",
    "#Use a for loop to print the first n Fibonacci numbers \n",
    "for _ in range(n): \n",
    "    # Print the current Fibonacci number (a) \n",
    "    print(a, end=\" \")\n",
    "\n",
    "# Update the values of a and b to generate the next Fibonacci number\n",
    "    a, b = b, a + b"
   ]
  },
  {
   "cell_type": "markdown",
   "id": "11099350-b972-4178-839a-a2accb0b9054",
   "metadata": {},
   "source": [
    "### Intermediate level"
   ]
  },
  {
   "cell_type": "markdown",
   "id": "2fe2d307-1ba7-4cac-b387-c9ca99ab58db",
   "metadata": {},
   "source": [
    "### 1.Write a program to check if a given list contains any duplicates using a `for` loop."
   ]
  },
  {
   "cell_type": "code",
   "execution_count": 2,
   "id": "e44ab3d7-992e-4dbe-9389-e74626cb770e",
   "metadata": {},
   "outputs": [
    {
     "name": "stdout",
     "output_type": "stream",
     "text": [
      "The list contains duplicates.\n"
     ]
    }
   ],
   "source": [
    "# define input \n",
    "def has_duplicates(input_list):\n",
    "    # Create an empty set to store unique elements\n",
    "    unique_elements = set()\n",
    "\n",
    "    # use a for loop to Iterate \n",
    "    for element in input_list:\n",
    "        #Check if the element is already in the set\n",
    "        if element in unique_elements:\n",
    "            return True\n",
    "        else:\n",
    "            # If the element is not in the set, add it to the set\n",
    "            unique_elements.add(element)\n",
    "\n",
    "    #If the loop completes without finding duplicates, return False\n",
    "    return False\n",
    "\n",
    "my_list = [1, 2, 3, 4, 5, 6, 7, 8, 9, 10 , 10]\n",
    "result = has_duplicates(my_list)\n",
    "\n",
    "# Display the result\n",
    "if result:\n",
    "    print(\"The list contains duplicates.\")\n",
    "else:\n",
    "    print(\"The list does not contain duplicates.\")\n"
   ]
  },
  {
   "cell_type": "markdown",
   "id": "7a13e5cd-e3f1-40fe-a3d4-4ce283caba93",
   "metadata": {},
   "source": [
    "### 2.Create a program that prints the prime numbers in a given range using a `for` loop."
   ]
  },
  {
   "cell_type": "code",
   "execution_count": 3,
   "id": "1d03d29d-a699-4c7f-b6de-47f7c6def80a",
   "metadata": {},
   "outputs": [
    {
     "name": "stdout",
     "output_type": "stream",
     "text": [
      "Prime numbers in the range 10 to 50:\n",
      "11\n",
      "13\n",
      "17\n",
      "19\n",
      "23\n",
      "29\n",
      "31\n",
      "37\n",
      "41\n",
      "43\n",
      "47\n"
     ]
    }
   ],
   "source": [
    "def is_prime(num):\n",
    "    # Function to check if a number is prime\n",
    "    if num < 2:\n",
    "        return False\n",
    "    for i in range(2, int(num**0.5) + 1):\n",
    "        if num % i == 0:\n",
    "            return False\n",
    "    return True\n",
    "\n",
    "def print_primes_in_range(start, end):\n",
    "    # Function to print prime numbers in a given range\n",
    "    print(f\"Prime numbers in the range {start} to {end}:\")\n",
    "\n",
    "    #Use a for loop to iterate \n",
    "    for num in range(start, end + 1):\n",
    "        #Check if the current number is prime\n",
    "        if is_prime(num):\n",
    "            # If the number is prime, print it\n",
    "            print(num)\n",
    "\n",
    "start_range = 10\n",
    "end_range = 50\n",
    "print_primes_in_range(start_range, end_range)\n"
   ]
  },
  {
   "cell_type": "markdown",
   "id": "a0ad8b28-7174-49ad-8045-534d75a66e40",
   "metadata": {},
   "source": [
    "### 3.Develop a program that counts the number of vowels in a string using a `for` loop."
   ]
  },
  {
   "cell_type": "code",
   "execution_count": 6,
   "id": "99553e2a-36ad-4099-8eb0-0985a501c564",
   "metadata": {},
   "outputs": [
    {
     "name": "stdout",
     "output_type": "stream",
     "text": [
      "The number of vowels in the string is: 1\n"
     ]
    }
   ],
   "source": [
    "def count_vowels(input_string):\n",
    "    # Initialize a variable to count the vowels\n",
    "    vowel_count = 0\n",
    "\n",
    "    # Define the vowels\n",
    "    vowels = set(\"aeiouAEIOU\")\n",
    "\n",
    "    # Use a for loop to iterate \n",
    "    for char in input_string:\n",
    "        # Check if the current character is a vowel\n",
    "        if char in vowels:\n",
    "            # If it is a vowel, increment the vowel count\n",
    "            vowel_count += 1\n",
    "\n",
    "    # Print the result\n",
    "    print(f\"The number of vowels in the string is: {vowel_count}\")\n",
    "\n",
    "input_str = \"pw skills!\"\n",
    "count_vowels(input_str)\n"
   ]
  },
  {
   "cell_type": "markdown",
   "id": "3f2dab3c-2c10-46d8-bede-1ba94b6686de",
   "metadata": {},
   "source": [
    "### 4.Write a program to find the maximum element in a 2D list using a nested `for` loop."
   ]
  },
  {
   "cell_type": "code",
   "execution_count": 7,
   "id": "f4140f8a-6088-4140-a3c0-9ad66b1e2561",
   "metadata": {},
   "outputs": [
    {
     "name": "stdout",
     "output_type": "stream",
     "text": [
      "The maximum element in the 2D list is: 9\n"
     ]
    }
   ],
   "source": [
    "def find_max_element(matrix):\n",
    "    #Initialize max_element\n",
    "    max_element = float('-inf')\n",
    "\n",
    "    #Use nested for loops to iterate\n",
    "    for row in matrix:\n",
    "        for element in row:\n",
    "            # Check if the current element is greater than the current max_element\n",
    "            if element > max_element:\n",
    "                #  If yes, update max_element with the current element\n",
    "                max_element = element\n",
    "\n",
    "    # Print the result\n",
    "    print(f\"The maximum element in the 2D list is: {max_element}\")\n",
    "    \n",
    "my_2d_list = [\n",
    "    [3, 5, 2],\n",
    "    [8, 1, 4],\n",
    "    [6, 7, 9]\n",
    "]\n",
    "\n",
    "find_max_element(my_2d_list)\n"
   ]
  },
  {
   "cell_type": "markdown",
   "id": "e19f8a1d-450a-46a8-8c7e-9bd9f92485bc",
   "metadata": {},
   "source": [
    "### 5.Create a program that removes all occurrences of a specific element from a list using a `for` loop."
   ]
  },
  {
   "cell_type": "code",
   "execution_count": 8,
   "id": "db319dea-a177-4643-81fb-884c33105780",
   "metadata": {},
   "outputs": [
    {
     "name": "stdout",
     "output_type": "stream",
     "text": [
      "List after removing all occurrences of 2 : [1, 3, 4, 5]\n"
     ]
    }
   ],
   "source": [
    "def remove_element(lst, element_to_remove):\n",
    "    # Use a for loop to iterate \n",
    "    for item in lst:\n",
    "        # Check if the current item is equal to the element to remove\n",
    "        if item == element_to_remove:\n",
    "            lst.remove(item)\n",
    "\n",
    "my_list = [1, 2, 3, 2, 4, 2, 5]\n",
    "element_to_remove = 2\n",
    "\n",
    "# Call the function to remove all occurrences \n",
    "remove_element(my_list, element_to_remove)\n",
    "\n",
    "# final output\n",
    "print(\"List after removing all occurrences of\", element_to_remove, \":\", my_list)\n"
   ]
  },
  {
   "cell_type": "markdown",
   "id": "c804cbe4-37ab-4cf8-93a7-5b4ac8793a57",
   "metadata": {},
   "source": [
    "### 6.Develop a program that generates a multiplication table for numbers from 1 to 5 using a nested `for` loop."
   ]
  },
  {
   "cell_type": "code",
   "execution_count": 9,
   "id": "2330e394-106c-4f95-bc61-461beee439de",
   "metadata": {},
   "outputs": [
    {
     "name": "stdout",
     "output_type": "stream",
     "text": [
      "Multiplication table for 1:\n",
      "1 * 1 = 1\n",
      "1 * 2 = 2\n",
      "1 * 3 = 3\n",
      "1 * 4 = 4\n",
      "1 * 5 = 5\n",
      "1 * 6 = 6\n",
      "1 * 7 = 7\n",
      "1 * 8 = 8\n",
      "1 * 9 = 9\n",
      "1 * 10 = 10\n",
      "\n",
      "Multiplication table for 2:\n",
      "2 * 1 = 2\n",
      "2 * 2 = 4\n",
      "2 * 3 = 6\n",
      "2 * 4 = 8\n",
      "2 * 5 = 10\n",
      "2 * 6 = 12\n",
      "2 * 7 = 14\n",
      "2 * 8 = 16\n",
      "2 * 9 = 18\n",
      "2 * 10 = 20\n",
      "\n",
      "Multiplication table for 3:\n",
      "3 * 1 = 3\n",
      "3 * 2 = 6\n",
      "3 * 3 = 9\n",
      "3 * 4 = 12\n",
      "3 * 5 = 15\n",
      "3 * 6 = 18\n",
      "3 * 7 = 21\n",
      "3 * 8 = 24\n",
      "3 * 9 = 27\n",
      "3 * 10 = 30\n",
      "\n",
      "Multiplication table for 4:\n",
      "4 * 1 = 4\n",
      "4 * 2 = 8\n",
      "4 * 3 = 12\n",
      "4 * 4 = 16\n",
      "4 * 5 = 20\n",
      "4 * 6 = 24\n",
      "4 * 7 = 28\n",
      "4 * 8 = 32\n",
      "4 * 9 = 36\n",
      "4 * 10 = 40\n",
      "\n",
      "Multiplication table for 5:\n",
      "5 * 1 = 5\n",
      "5 * 2 = 10\n",
      "5 * 3 = 15\n",
      "5 * 4 = 20\n",
      "5 * 5 = 25\n",
      "5 * 6 = 30\n",
      "5 * 7 = 35\n",
      "5 * 8 = 40\n",
      "5 * 9 = 45\n",
      "5 * 10 = 50\n",
      "\n"
     ]
    }
   ],
   "source": [
    "# Use a nested for loop to generate a multiplication table\n",
    "for i in range(1, 6):\n",
    "    # Inner loop for each number from 1 to 10\n",
    "    print(f\"Multiplication table for {i}:\")\n",
    "    for j in range(1, 11):\n",
    "        # Print the product of i and j\n",
    "        print(f\"{i} * {j} = {i * j}\")\n",
    "    print()\n"
   ]
  },
  {
   "cell_type": "markdown",
   "id": "46713b50-b281-486b-be9f-920117ff6b55",
   "metadata": {},
   "source": [
    "### 7.Write a program that converts a list of Fahrenheit temperatures to Celsius using a `for` loop."
   ]
  },
  {
   "cell_type": "code",
   "execution_count": 11,
   "id": "1fb43660-90d7-4c59-a584-a7fc41f5b0fd",
   "metadata": {},
   "outputs": [
    {
     "name": "stdout",
     "output_type": "stream",
     "text": [
      "Fahrenheit Temperatures: [32, 45, 68, 90, 105]\n",
      "0.00°C\n",
      "7.22°C\n",
      "20.00°C\n",
      "32.22°C\n",
      "40.56°C\n"
     ]
    }
   ],
   "source": [
    "# Define a list of Fahrenheit temperatures\n",
    "fahrenheit_temperatures = [32, 45, 68, 90, 105]\n",
    "\n",
    "# Use a for loop to convert each temperature to Celsius\n",
    "print(\"Fahrenheit Temperatures:\", fahrenheit_temperatures)\n",
    "\n",
    "for temp in fahrenheit_temperatures:\n",
    "    # Convert Fahrenheit to Celsius using the formula\n",
    "    celsius_temp = (temp - 32) * 5/9\n",
    "    \n",
    "    #  Print the result\n",
    "    print(f\"{celsius_temp:.2f}°C\")\n"
   ]
  },
  {
   "cell_type": "markdown",
   "id": "f2710526-6c32-4263-a87f-b61131e74bf1",
   "metadata": {},
   "source": [
    "### 8.Create a program to print the common elements from two lists using a `for` loop."
   ]
  },
  {
   "cell_type": "code",
   "execution_count": 18,
   "id": "77123653-9b89-49a1-b015-c31703183db5",
   "metadata": {},
   "outputs": [
    {
     "name": "stdout",
     "output_type": "stream",
     "text": [
      "List 1: [1, 2, 3, 4, 5]\n",
      "List 2: [3, 4, 5, 6, 7]\n",
      "common element is:3\n",
      "common element is:4\n",
      "common element is:5\n"
     ]
    }
   ],
   "source": [
    "# Define two lists\n",
    "list1 = [1, 2, 3, 4, 5]\n",
    "list2 = [3, 4, 5, 6, 7]\n",
    "\n",
    "# Use a for loop to iterate\n",
    "print(\"List 1:\", list1)\n",
    "print(\"List 2:\", list2)\n",
    "\n",
    "for element in list1:\n",
    "    # Check if the element is present in the second list\n",
    "    if element in list2:\n",
    "        #display the result\n",
    "        print(f\"common element is:{element}\")\n"
   ]
  },
  {
   "cell_type": "markdown",
   "id": "6f39beff-3bcd-4427-820b-e89f67157882",
   "metadata": {},
   "source": [
    "### 9.Develop a program that prints the pattern of right-angled triangles using a `for` loop. Use ‘*’ to draw the\n",
    "pattern"
   ]
  },
  {
   "cell_type": "code",
   "execution_count": 21,
   "id": "e6786df6-b8b4-4b74-8277-85a54dd30130",
   "metadata": {},
   "outputs": [
    {
     "name": "stdout",
     "output_type": "stream",
     "text": [
      "\n",
      "* \n",
      "* * \n",
      "* * * \n",
      "* * * * \n",
      "* * * * * \n"
     ]
    }
   ],
   "source": [
    "#Use a for loop to iterate\n",
    "for i in range(6):\n",
    "    # use for loop to initialize j\n",
    "    for j in range(i):\n",
    "        #display the result\n",
    "        print(\"*\" , end=' ')\n",
    "    print()"
   ]
  },
  {
   "cell_type": "markdown",
   "id": "279af78d-f7ca-4c97-9bd2-4b59f41ce720",
   "metadata": {},
   "source": [
    "### 10.Write a program to find the greatest common divisor (GCD) of two numbers using a `for` loop."
   ]
  },
  {
   "cell_type": "code",
   "execution_count": 22,
   "id": "21779ce8-8944-43ad-bc63-3ee350d6a0f9",
   "metadata": {},
   "outputs": [
    {
     "name": "stdout",
     "output_type": "stream",
     "text": [
      "The GCD of 36 and 48 is: 12\n"
     ]
    }
   ],
   "source": [
    "#  Define a function to find the GCD of two numbers\n",
    "def find_gcd(num1, num2):\n",
    "    #  Initialize GCD\n",
    "    gcd = 1\n",
    "\n",
    "    #  Use a for loop to iterate \n",
    "    for i in range(1, min(num1, num2) + 1):\n",
    "        #  Check if i is a divisor for both num1 and num2\n",
    "        if num1 % i == 0 and num2 % i == 0:\n",
    "            gcd = i\n",
    "\n",
    "    # Return the GCD\n",
    "    return gcd\n",
    "\n",
    "number1 = 36\n",
    "number2 = 48\n",
    "\n",
    "result = find_gcd(number1, number2)\n",
    "print(f\"The GCD of {number1} and {number2} is: {result}\")\n"
   ]
  },
  {
   "cell_type": "markdown",
   "id": "b7da01d2-75e2-4faf-8453-34123276a1e2",
   "metadata": {},
   "source": [
    "### Advance level"
   ]
  },
  {
   "cell_type": "markdown",
   "id": "a02a7c4f-67d7-44cc-958a-51a7842a5500",
   "metadata": {},
   "source": [
    "### 1.Create a program that calculates the sum of the digits of numbers in a list using a list comprehension."
   ]
  },
  {
   "cell_type": "code",
   "execution_count": 23,
   "id": "7782b80c-29db-4b06-a33a-bda192233530",
   "metadata": {},
   "outputs": [
    {
     "name": "stdout",
     "output_type": "stream",
     "text": [
      "Original list of numbers: [123, 456, 789, 987]\n",
      "Sums of digits for each number: [6, 15, 24, 24]\n"
     ]
    }
   ],
   "source": [
    "# Define a function to calculate the sum of digits in a number\n",
    "def digit_sum(number):\n",
    "    return sum(int(digit) for digit in str(abs(number)))\n",
    "\n",
    "# Define a list of numbers\n",
    "numbers_list = [123, 456, 789, 987]\n",
    "\n",
    "#  Use a list comprehension to calculate the sum of digits for each number\n",
    "sums_of_digits = [digit_sum(number) for number in numbers_list]\n",
    "\n",
    "#  Display the original list and the sums of digits\n",
    "print(\"Original list of numbers:\", numbers_list)\n",
    "print(\"Sums of digits for each number:\", sums_of_digits)\n"
   ]
  },
  {
   "cell_type": "markdown",
   "id": "c9802a23-0c0f-465c-bf4d-c1a783cd5bab",
   "metadata": {},
   "source": [
    "### 2.Write a program to find the prime factors of a given number using a `for` loop and list comprehension."
   ]
  },
  {
   "cell_type": "code",
   "execution_count": 24,
   "id": "32b3f19a-d6b0-46d3-9fac-e31f43754df3",
   "metadata": {},
   "outputs": [
    {
     "name": "stdout",
     "output_type": "stream",
     "text": [
      "Prime factors of 84: [2, 2, 3, 7]\n"
     ]
    }
   ],
   "source": [
    "def find_prime_factors(number):\n",
    "    # Initialize \n",
    "    prime_factors = []\n",
    "\n",
    "    # Use a for loop to iterate \n",
    "    for i in range(2, int(number**0.5) + 1):\n",
    "        # Check if i is a prime factor\n",
    "        while number % i == 0:\n",
    "            prime_factors.append(i)\n",
    "            # Update the given number by dividing it by i\n",
    "            number //= i\n",
    "\n",
    "    # If the remaining number is greater than 1, it is a prime factor itself\n",
    "    if number > 1:\n",
    "        prime_factors.append(number)\n",
    "\n",
    "    # Return the list of prime factors\n",
    "    return prime_factors\n",
    "\n",
    "input_number = 84\n",
    "result = find_prime_factors(input_number)\n",
    "\n",
    "# Display the result\n",
    "print(f\"Prime factors of {input_number}: {result}\")\n"
   ]
  },
  {
   "cell_type": "markdown",
   "id": "04e0e423-c4a0-4b5e-beff-af8652689f9e",
   "metadata": {},
   "source": [
    "### 3.Develop a program that extracts unique elements from a list and stores them in a new list using a list\n",
    "comprehension."
   ]
  },
  {
   "cell_type": "code",
   "execution_count": 2,
   "id": "fd812d33-f183-439c-8258-55987d69eeb0",
   "metadata": {},
   "outputs": [
    {
     "name": "stdout",
     "output_type": "stream",
     "text": [
      "[1, 2, 3, 4, 5, 6, 7]\n"
     ]
    }
   ],
   "source": [
    "# Define the function\n",
    "def extract_unique(input_list):\n",
    "    # Use a set to store unique elements\n",
    "    unique_set = set(input_list)\n",
    "    \n",
    "    # Convert the set to a list\n",
    "    unique_list = list(unique_set)\n",
    "    \n",
    "    return unique_list\n",
    "\n",
    "# take the input\n",
    "input_list = [1, 2, 3, 4, 2, 3, 5, 6, 6, 7]\n",
    "# display the result\n",
    "result = extract_unique(input_list)\n",
    "print(result)\n"
   ]
  },
  {
   "cell_type": "markdown",
   "id": "1d335966-9936-4925-a089-f8ff38be765a",
   "metadata": {},
   "source": [
    "### 4.Create a program that generates a list of all palindromic numbers up to a specified limit using a list\n",
    "comprehension."
   ]
  },
  {
   "cell_type": "code",
   "execution_count": 7,
   "id": "332574e0-dd78-4d04-acf6-b6c5ddbc54d7",
   "metadata": {},
   "outputs": [
    {
     "name": "stdout",
     "output_type": "stream",
     "text": [
      "[0, 1, 2, 3, 4, 5, 6, 7, 8, 9, 11, 22, 33, 44, 55, 66, 77, 88, 99]\n"
     ]
    }
   ],
   "source": [
    "# define the function\n",
    "def is_palindrome(number):\n",
    "    #convert the number in string and check\n",
    "    return str(number) == str(number)[::-1]\n",
    "\n",
    "def generate_palindromic_numbers(limit):\n",
    "    # use a list to check generating number is palindome is not\n",
    "    return [num for num in range(limit + 1) if is_palindrome(num)]\n",
    "\n",
    "# limit check\n",
    "limit = 100\n",
    "\n",
    "# print the all palindrome nuber\n",
    "palindromic_numbers_list = generate_palindromic_numbers(limit)\n",
    "print(palindromic_numbers_list)\n"
   ]
  },
  {
   "cell_type": "code",
   "execution_count": null,
   "id": "2d1a24d4-4c8a-4f6d-bf19-a6558a475f77",
   "metadata": {},
   "outputs": [],
   "source": []
  },
  {
   "cell_type": "markdown",
   "id": "a22b6d3c-70dc-4882-bdac-6f3032197da7",
   "metadata": {},
   "source": [
    "### 5.Write a program to flatten a nested list using list comprehension."
   ]
  },
  {
   "cell_type": "code",
   "execution_count": 13,
   "id": "e55e480c-2a38-47a9-abce-697092240b35",
   "metadata": {},
   "outputs": [
    {
     "name": "stdout",
     "output_type": "stream",
     "text": [
      "[1, 2, 3, 4, 5, 6, 7, 8, 9]\n"
     ]
    }
   ],
   "source": [
    "# Define the nested list\n",
    "nested_list = [[1, 2, 3], [4, 5, 6], [7, 8, 9]]\n",
    "\n",
    "#Flatten the nested list \n",
    "flattened_list = [element for sublist in nested_list for element in sublist]\n",
    "\n",
    "#Print the result\n",
    "print(flattened_list)\n"
   ]
  },
  {
   "cell_type": "markdown",
   "id": "7b586699-6587-443d-9d80-d6a094acfc10",
   "metadata": {},
   "source": [
    "### 6.Develop a program that computes the sum of even and odd numbers in a list separately using list\n",
    "comprehension."
   ]
  },
  {
   "cell_type": "code",
   "execution_count": 16,
   "id": "2b52c87b-c8a2-42b7-b0c6-a7df2ea323ba",
   "metadata": {},
   "outputs": [
    {
     "name": "stdout",
     "output_type": "stream",
     "text": [
      "Sum of even numbers: 20\n",
      "Sum of odd numbers: 25\n"
     ]
    }
   ],
   "source": [
    "# define the function\n",
    "def compute_sum_even_odd(numbers):\n",
    "    # Use list comprehension to separate even and odd numbers\n",
    "    even_numbers = [num for num in numbers if num % 2 == 0]\n",
    "    odd_numbers = [num for num in numbers if num % 2 != 0]\n",
    "    \n",
    "    # Calculate the sum of even and odd numbers \n",
    "    sum_even = sum(even_numbers)\n",
    "    sum_odd = sum(odd_numbers)\n",
    "    # return the specific number is odd or even\n",
    "    return sum_even, sum_odd\n",
    "\n",
    "# give the inpit\n",
    "numbers_list = [1, 2, 3, 4, 5, 6, 7, 8, 9]\n",
    "\n",
    "# display the result\n",
    "sum_even, sum_odd = compute_sum_even_odd(numbers_list)\n",
    "# display the sum of  even number\n",
    "print(f\"Sum of even numbers: {sum_even}\")\n",
    "# display the  sum of odd number \n",
    "print(f\"Sum of odd numbers: {sum_odd}\")\n"
   ]
  },
  {
   "cell_type": "code",
   "execution_count": null,
   "id": "e2042291-cb60-4c90-8e50-d4f8b4ebdbc6",
   "metadata": {},
   "outputs": [],
   "source": []
  },
  {
   "cell_type": "markdown",
   "id": "c3b0ac63-2d8f-4123-a1b1-8f3b999201e8",
   "metadata": {},
   "source": [
    "### 7Create a program that generates a list of squares of odd numbers between 1 and 10 using list\n",
    "comprehension."
   ]
  },
  {
   "cell_type": "code",
   "execution_count": 20,
   "id": "98025529-c2f9-4fc6-9a05-da64dd4cde0b",
   "metadata": {},
   "outputs": [
    {
     "name": "stdout",
     "output_type": "stream",
     "text": [
      "[1, 9, 25, 49, 81]\n"
     ]
    }
   ],
   "source": [
    "#Define the range of numbers (1 to 10)\n",
    "number_range = range(1, 11)\n",
    "\n",
    "# Use list comprehension to generate squares of odd numbers\n",
    "squares_of_odd_numbers = [num**2 for num in number_range if num % 2 != 0]\n",
    "\n",
    "# Print the result\n",
    "print(squares_of_odd_numbers)\n"
   ]
  },
  {
   "cell_type": "code",
   "execution_count": null,
   "id": "d457e2b4-5b7a-4443-8747-99758e3305d9",
   "metadata": {},
   "outputs": [],
   "source": []
  },
  {
   "cell_type": "markdown",
   "id": "e9e517c6-c3d5-47a6-a332-e27fb71b9fc0",
   "metadata": {},
   "source": [
    "### 8.Write a program that combines two lists into a dictionary using list comprehension."
   ]
  },
  {
   "cell_type": "code",
   "execution_count": 22,
   "id": "68615c58-fee8-402d-9123-47c341f26ad1",
   "metadata": {},
   "outputs": [
    {
     "name": "stdout",
     "output_type": "stream",
     "text": [
      "{'name': 'Alok', 'age': 21, 'city': 'Bihar'}\n"
     ]
    }
   ],
   "source": [
    "#Define two lists\n",
    "keys = ['name', 'age', 'city']\n",
    "values = ['Alok', 21, 'Bihar']\n",
    "\n",
    "# Use list to create the dictionary\n",
    "my_dict = {keys[i]: values[i] for i in range(min(len(keys), len(values)))}\n",
    "\n",
    "# display the result\n",
    "print(my_dict)\n"
   ]
  },
  {
   "cell_type": "markdown",
   "id": "c261a8a6-922c-42d4-8394-22b219e502f4",
   "metadata": {},
   "source": [
    "### 9.Develop a program that extracts the vowels from a string and stores them in a list using list comprehension.\n"
   ]
  },
  {
   "cell_type": "code",
   "execution_count": 23,
   "id": "bf2b3d85-4734-46ae-a967-67bf27b06d8f",
   "metadata": {},
   "outputs": [
    {
     "name": "stdout",
     "output_type": "stream",
     "text": [
      "['e', 'o', 'i']\n"
     ]
    }
   ],
   "source": [
    "#Define the string\n",
    "input_string = \"Hello, pw skills\"\n",
    "\n",
    "#Use list comprehension to extract vowels\n",
    "vowels = [char for char in input_string if char.lower() in 'aeiou']\n",
    "\n",
    "# display the result\n",
    "print(vowels)\n"
   ]
  },
  {
   "cell_type": "markdown",
   "id": "bc78f401-796e-44d3-94fb-46a4bf3ab182",
   "metadata": {},
   "source": [
    "### 10.Create a program that removes all non-numeric characters from a list of strings using list comprehension."
   ]
  },
  {
   "cell_type": "code",
   "execution_count": 28,
   "id": "6cb4ea0b-8441-48b5-b2ca-7b54742f20f0",
   "metadata": {},
   "outputs": [
    {
     "name": "stdout",
     "output_type": "stream",
     "text": [
      "['18', '123', '789', '', '']\n"
     ]
    }
   ],
   "source": [
    "# Define the list of strings\n",
    "input_strings = ['yadav18', 'aloky123', '789', 'hello', 'pwskills']\n",
    "\n",
    "#Use list comprehension to remove non-numeric characters\n",
    "numeric_strings = [''.join(char for char in string if char.isnumeric()) for string in input_strings]\n",
    "\n",
    "# Diplay the result\n",
    "print(numeric_strings)\n"
   ]
  },
  {
   "cell_type": "markdown",
   "id": "24dc3e5c-2af3-4c8e-b1b0-b2b69987bdf5",
   "metadata": {},
   "source": []
  },
  {
   "cell_type": "markdown",
   "id": "ff4b91da-1971-4149-ad6f-95f8325cd0d4",
   "metadata": {},
   "source": [
    "### challenge level"
   ]
  },
  {
   "cell_type": "markdown",
   "id": "e6541f52-1c83-4896-9a3f-5f526789d249",
   "metadata": {},
   "source": [
    "### 1.Write a program to generate a list of prime numbers using the Sieve of Eratosthenes algorithm and list\n",
    "comprehension."
   ]
  },
  {
   "cell_type": "code",
   "execution_count": 4,
   "id": "f3c92080-2004-40c5-ac65-17a08b290221",
   "metadata": {},
   "outputs": [
    {
     "name": "stdout",
     "output_type": "stream",
     "text": [
      "[2, 3, 5, 7, 11, 13, 17, 19, 23, 29, 31, 37]\n"
     ]
    }
   ],
   "source": [
    "#Define the limit\n",
    "limit = 40\n",
    "\n",
    "# Create a boolean list to check the numbers is prime or not\n",
    "is_prime = [True] * (limit + 1)\n",
    "\n",
    "# Implement the Sieve of Eratosthenes algorithm\n",
    "is_prime[0] = is_prime[1] = False\n",
    "# for loop to use\n",
    "for i in range(2, int(limit**0.5) + 1):\n",
    "    if is_prime[i]:\n",
    "        is_prime[i*i:limit+1:i] = [False] * len(range(i*i, limit+1, i))\n",
    "\n",
    "#  Use list comprehension to extract prime numbers\n",
    "prime_numbers = [num for num in range(2, limit + 1) if is_prime[num]]\n",
    "\n",
    "# Print the result\n",
    "print(prime_numbers)\n"
   ]
  },
  {
   "cell_type": "markdown",
   "id": "ed4549bd-92c3-4f04-a07c-03a6d6985564",
   "metadata": {},
   "source": []
  },
  {
   "cell_type": "markdown",
   "id": "d7cf9811-c45d-497b-a0f4-075d3f2c4d48",
   "metadata": {},
   "source": [
    "### 2.Create a program that generates a list of all Pythagorean triplets up to a specified limit using list\n",
    "comprehension."
   ]
  },
  {
   "cell_type": "code",
   "execution_count": 7,
   "id": "b0935170-5c93-4c4e-bb34-7e7e701a8238",
   "metadata": {},
   "outputs": [
    {
     "name": "stdout",
     "output_type": "stream",
     "text": [
      "[(3, 4, 5), (5, 12, 13), (6, 8, 10), (7, 24, 25), (8, 15, 17), (9, 12, 15), (9, 40, 41), (10, 24, 26), (12, 16, 20), (12, 35, 37), (14, 48, 50), (15, 20, 25), (15, 36, 39), (16, 30, 34), (18, 24, 30), (20, 21, 29), (21, 28, 35), (24, 32, 40), (27, 36, 45), (30, 40, 50)]\n"
     ]
    }
   ],
   "source": [
    "#Define the limit\n",
    "limit = 50\n",
    "\n",
    "# Use list comprehension to generate Pythagorean triplets\n",
    "pythagorean_triplets = [(a, b, c) for a in range(1, limit+1)\n",
    "                                    for b in range(a, limit+1)\n",
    "                                    for c in range(b, limit+1)\n",
    "                                    if a**2 + b**2 == c**2]\n",
    "\n",
    "#Print the result\n",
    "print(pythagorean_triplets)\n"
   ]
  },
  {
   "cell_type": "markdown",
   "id": "bbafc240-94e9-4ee5-818d-b18cddc8929d",
   "metadata": {},
   "source": [
    "### 3.Develop a program that generates a list of all possible combinations of two lists using list comprehension."
   ]
  },
  {
   "cell_type": "code",
   "execution_count": 15,
   "id": "f55cd08e-69db-4f4c-8258-466faa4ec6a6",
   "metadata": {},
   "outputs": [
    {
     "name": "stdout",
     "output_type": "stream",
     "text": [
      "[(1, 'a'), (1, 'b'), (1, 'c'), (2, 'a'), (2, 'b'), (2, 'c'), (3, 'a'), (3, 'b'), (3, 'c')]\n"
     ]
    }
   ],
   "source": [
    "# Define two lists\n",
    "list1 = [1, 2, 3]\n",
    "list2 = ['a', 'b', 'c']\n",
    "\n",
    "# Use list comprehension to generate combinations\n",
    "combinations = [(x, y) for x in list1 for y in list2]\n",
    "\n",
    "# Print the result\n",
    "print(combinations)\n"
   ]
  },
  {
   "cell_type": "markdown",
   "id": "a14802bf-6616-4ba0-a94f-9bc593914e71",
   "metadata": {},
   "source": [
    "### 4.Write a program that calculates the mean, median, and mode of a list of numbers using list\n",
    "comprehension."
   ]
  },
  {
   "cell_type": "code",
   "execution_count": 22,
   "id": "7b03770c-c29e-4a07-b31c-6cc66ba078c8",
   "metadata": {},
   "outputs": [
    {
     "name": "stdout",
     "output_type": "stream",
     "text": [
      "Mean: 17.444444444444443\n",
      "Median: 17\n",
      "Mode: 32\n"
     ]
    }
   ],
   "source": [
    "# Define the list of numbers\n",
    "numbers = [32, 7, 16, 22, 12, 19, 17, 14, 18]\n",
    "\n",
    "# Calculate the Mean\n",
    "mean = sum(numbers) / len(numbers)\n",
    "\n",
    "# Calculate the Median\n",
    "sorted_numbers = sorted(numbers)\n",
    "midpoint = len(sorted_numbers) // 2\n",
    "median = (sorted_numbers[midpoint] + sorted_numbers[midpoint - 1]) / 2 if len(sorted_numbers) % 2 == 0 else sorted_numbers[midpoint]\n",
    "\n",
    "#Calculate the Mode using List Comprehension\n",
    "mode = max(set(numbers), key=numbers.count)\n",
    "\n",
    "# Print the results\n",
    "print(f\"Mean: {mean}\")\n",
    "print(f\"Median: {median}\")\n",
    "print(f\"Mode: {mode}\")\n"
   ]
  },
  {
   "cell_type": "markdown",
   "id": "c1e1bd75-cb21-4ee0-b407-0afc5b6f285b",
   "metadata": {},
   "source": [
    "### 6.Develop a program that calculates the sum of the digits of a factorial of numbers from 1 to 5 using list\n",
    "comprehension."
   ]
  },
  {
   "cell_type": "code",
   "execution_count": 26,
   "id": "4fc64a55-e74e-4008-997a-aabfdb4fa865",
   "metadata": {},
   "outputs": [
    {
     "name": "stdout",
     "output_type": "stream",
     "text": [
      "The sum of the digits of 1! is: 1\n",
      "The sum of the digits of 2! is: 2\n",
      "The sum of the digits of 3! is: 6\n",
      "The sum of the digits of 4! is: 6\n",
      "The sum of the digits of 5! is: 3\n"
     ]
    }
   ],
   "source": [
    "import math\n",
    "\n",
    "#  Define the range of numbers\n",
    "number_range = range(1, 6) \n",
    "\n",
    "#  Use list comprehension to calculate the factorial and sum the digits\n",
    "sum_of_digits = [sum(int(digit) for digit in str(math.factorial(num))) for num in number_range]\n",
    "\n",
    "# Display the result\n",
    "for num, result in zip(number_range, sum_of_digits):\n",
    "    print(f\"The sum of the digits of {num}! is: {result}\")\n"
   ]
  },
  {
   "cell_type": "markdown",
   "id": "c40853a8-cc50-4d42-9dd6-c1b6527591c6",
   "metadata": {},
   "source": []
  },
  {
   "cell_type": "markdown",
   "id": "6a64075c-9374-4b90-96ae-6a7b32adefd0",
   "metadata": {},
   "source": [
    "### 7.Write a program that finds the longest word in a sentence using list comprehension."
   ]
  },
  {
   "cell_type": "code",
   "execution_count": 30,
   "id": "ee7b0b93-05d3-4c08-aef1-4df707bc00b6",
   "metadata": {},
   "outputs": [
    {
     "name": "stdout",
     "output_type": "stream",
     "text": [
      "The longest word in the sentence is: world\n"
     ]
    }
   ],
   "source": [
    "# Get the input sentence\n",
    "sentence = \"Hello world pw skills\"\n",
    "\n",
    "#Use list comprehension to find the longest word\n",
    "longest_word = max(word.strip(\".,\") for word in sentence.split())\n",
    "\n",
    "# display the result the result\n",
    "print(f\"The longest word in the sentence is: {longest_word}\")\n"
   ]
  },
  {
   "cell_type": "markdown",
   "id": "1106b75c-11cf-4674-8644-551f94a932da",
   "metadata": {},
   "source": [
    "### 8.Create a program that filters a list of strings to include only those with more than three vowels using list\n",
    "comprehension."
   ]
  },
  {
   "cell_type": "code",
   "execution_count": 33,
   "id": "8226ccf4-a23c-4f03-9b4e-de71a9e14aee",
   "metadata": {},
   "outputs": [
    {
     "name": "stdout",
     "output_type": "stream",
     "text": [
      "Strings with more than three vowels: ['language']\n"
     ]
    }
   ],
   "source": [
    "# Define the list of strings\n",
    "string_list = [\"hello\", \"pwskills\", \"python\", \"programming\", \"language\"]\n",
    "\n",
    "#  Use list comprehension to filter strings with more than three vowels\n",
    "filtered_strings = [word for word in string_list if sum(1 for char in word if char.lower() in 'aeiou') > 3]\n",
    "\n",
    "# Print the result\n",
    "print(f\"Strings with more than three vowels: {filtered_strings}\")\n"
   ]
  },
  {
   "cell_type": "markdown",
   "id": "03d06ec9-f389-4034-a6ae-c1a809cdcda9",
   "metadata": {},
   "source": [
    "### 9.Develop a program that calculates the sum of the digits of numbers from 1 to 1000 using list\n",
    "comprehension."
   ]
  },
  {
   "cell_type": "code",
   "execution_count": 34,
   "id": "e6cf3905-eb43-406f-a91c-d533fc7aee52",
   "metadata": {},
   "outputs": [
    {
     "name": "stdout",
     "output_type": "stream",
     "text": [
      "The sum of the digits of 1 is: 1\n",
      "The sum of the digits of 2 is: 2\n",
      "The sum of the digits of 3 is: 3\n",
      "The sum of the digits of 4 is: 4\n",
      "The sum of the digits of 5 is: 5\n",
      "The sum of the digits of 6 is: 6\n",
      "The sum of the digits of 7 is: 7\n",
      "The sum of the digits of 8 is: 8\n",
      "The sum of the digits of 9 is: 9\n",
      "The sum of the digits of 10 is: 1\n",
      "The sum of the digits of 11 is: 2\n",
      "The sum of the digits of 12 is: 3\n",
      "The sum of the digits of 13 is: 4\n",
      "The sum of the digits of 14 is: 5\n",
      "The sum of the digits of 15 is: 6\n",
      "The sum of the digits of 16 is: 7\n",
      "The sum of the digits of 17 is: 8\n",
      "The sum of the digits of 18 is: 9\n",
      "The sum of the digits of 19 is: 10\n",
      "The sum of the digits of 20 is: 2\n",
      "The sum of the digits of 21 is: 3\n",
      "The sum of the digits of 22 is: 4\n",
      "The sum of the digits of 23 is: 5\n",
      "The sum of the digits of 24 is: 6\n",
      "The sum of the digits of 25 is: 7\n",
      "The sum of the digits of 26 is: 8\n",
      "The sum of the digits of 27 is: 9\n",
      "The sum of the digits of 28 is: 10\n",
      "The sum of the digits of 29 is: 11\n",
      "The sum of the digits of 30 is: 3\n",
      "The sum of the digits of 31 is: 4\n",
      "The sum of the digits of 32 is: 5\n",
      "The sum of the digits of 33 is: 6\n",
      "The sum of the digits of 34 is: 7\n",
      "The sum of the digits of 35 is: 8\n",
      "The sum of the digits of 36 is: 9\n",
      "The sum of the digits of 37 is: 10\n",
      "The sum of the digits of 38 is: 11\n",
      "The sum of the digits of 39 is: 12\n",
      "The sum of the digits of 40 is: 4\n",
      "The sum of the digits of 41 is: 5\n",
      "The sum of the digits of 42 is: 6\n",
      "The sum of the digits of 43 is: 7\n",
      "The sum of the digits of 44 is: 8\n",
      "The sum of the digits of 45 is: 9\n",
      "The sum of the digits of 46 is: 10\n",
      "The sum of the digits of 47 is: 11\n",
      "The sum of the digits of 48 is: 12\n",
      "The sum of the digits of 49 is: 13\n",
      "The sum of the digits of 50 is: 5\n",
      "The sum of the digits of 51 is: 6\n",
      "The sum of the digits of 52 is: 7\n",
      "The sum of the digits of 53 is: 8\n",
      "The sum of the digits of 54 is: 9\n",
      "The sum of the digits of 55 is: 10\n",
      "The sum of the digits of 56 is: 11\n",
      "The sum of the digits of 57 is: 12\n",
      "The sum of the digits of 58 is: 13\n",
      "The sum of the digits of 59 is: 14\n",
      "The sum of the digits of 60 is: 6\n",
      "The sum of the digits of 61 is: 7\n",
      "The sum of the digits of 62 is: 8\n",
      "The sum of the digits of 63 is: 9\n",
      "The sum of the digits of 64 is: 10\n",
      "The sum of the digits of 65 is: 11\n",
      "The sum of the digits of 66 is: 12\n",
      "The sum of the digits of 67 is: 13\n",
      "The sum of the digits of 68 is: 14\n",
      "The sum of the digits of 69 is: 15\n",
      "The sum of the digits of 70 is: 7\n",
      "The sum of the digits of 71 is: 8\n",
      "The sum of the digits of 72 is: 9\n",
      "The sum of the digits of 73 is: 10\n",
      "The sum of the digits of 74 is: 11\n",
      "The sum of the digits of 75 is: 12\n",
      "The sum of the digits of 76 is: 13\n",
      "The sum of the digits of 77 is: 14\n",
      "The sum of the digits of 78 is: 15\n",
      "The sum of the digits of 79 is: 16\n",
      "The sum of the digits of 80 is: 8\n",
      "The sum of the digits of 81 is: 9\n",
      "The sum of the digits of 82 is: 10\n",
      "The sum of the digits of 83 is: 11\n",
      "The sum of the digits of 84 is: 12\n",
      "The sum of the digits of 85 is: 13\n",
      "The sum of the digits of 86 is: 14\n",
      "The sum of the digits of 87 is: 15\n",
      "The sum of the digits of 88 is: 16\n",
      "The sum of the digits of 89 is: 17\n",
      "The sum of the digits of 90 is: 9\n",
      "The sum of the digits of 91 is: 10\n",
      "The sum of the digits of 92 is: 11\n",
      "The sum of the digits of 93 is: 12\n",
      "The sum of the digits of 94 is: 13\n",
      "The sum of the digits of 95 is: 14\n",
      "The sum of the digits of 96 is: 15\n",
      "The sum of the digits of 97 is: 16\n",
      "The sum of the digits of 98 is: 17\n",
      "The sum of the digits of 99 is: 18\n",
      "The sum of the digits of 100 is: 1\n",
      "The sum of the digits of 101 is: 2\n",
      "The sum of the digits of 102 is: 3\n",
      "The sum of the digits of 103 is: 4\n",
      "The sum of the digits of 104 is: 5\n",
      "The sum of the digits of 105 is: 6\n",
      "The sum of the digits of 106 is: 7\n",
      "The sum of the digits of 107 is: 8\n",
      "The sum of the digits of 108 is: 9\n",
      "The sum of the digits of 109 is: 10\n",
      "The sum of the digits of 110 is: 2\n",
      "The sum of the digits of 111 is: 3\n",
      "The sum of the digits of 112 is: 4\n",
      "The sum of the digits of 113 is: 5\n",
      "The sum of the digits of 114 is: 6\n",
      "The sum of the digits of 115 is: 7\n",
      "The sum of the digits of 116 is: 8\n",
      "The sum of the digits of 117 is: 9\n",
      "The sum of the digits of 118 is: 10\n",
      "The sum of the digits of 119 is: 11\n",
      "The sum of the digits of 120 is: 3\n",
      "The sum of the digits of 121 is: 4\n",
      "The sum of the digits of 122 is: 5\n",
      "The sum of the digits of 123 is: 6\n",
      "The sum of the digits of 124 is: 7\n",
      "The sum of the digits of 125 is: 8\n",
      "The sum of the digits of 126 is: 9\n",
      "The sum of the digits of 127 is: 10\n",
      "The sum of the digits of 128 is: 11\n",
      "The sum of the digits of 129 is: 12\n",
      "The sum of the digits of 130 is: 4\n",
      "The sum of the digits of 131 is: 5\n",
      "The sum of the digits of 132 is: 6\n",
      "The sum of the digits of 133 is: 7\n",
      "The sum of the digits of 134 is: 8\n",
      "The sum of the digits of 135 is: 9\n",
      "The sum of the digits of 136 is: 10\n",
      "The sum of the digits of 137 is: 11\n",
      "The sum of the digits of 138 is: 12\n",
      "The sum of the digits of 139 is: 13\n",
      "The sum of the digits of 140 is: 5\n",
      "The sum of the digits of 141 is: 6\n",
      "The sum of the digits of 142 is: 7\n",
      "The sum of the digits of 143 is: 8\n",
      "The sum of the digits of 144 is: 9\n",
      "The sum of the digits of 145 is: 10\n",
      "The sum of the digits of 146 is: 11\n",
      "The sum of the digits of 147 is: 12\n",
      "The sum of the digits of 148 is: 13\n",
      "The sum of the digits of 149 is: 14\n",
      "The sum of the digits of 150 is: 6\n",
      "The sum of the digits of 151 is: 7\n",
      "The sum of the digits of 152 is: 8\n",
      "The sum of the digits of 153 is: 9\n",
      "The sum of the digits of 154 is: 10\n",
      "The sum of the digits of 155 is: 11\n",
      "The sum of the digits of 156 is: 12\n",
      "The sum of the digits of 157 is: 13\n",
      "The sum of the digits of 158 is: 14\n",
      "The sum of the digits of 159 is: 15\n",
      "The sum of the digits of 160 is: 7\n",
      "The sum of the digits of 161 is: 8\n",
      "The sum of the digits of 162 is: 9\n",
      "The sum of the digits of 163 is: 10\n",
      "The sum of the digits of 164 is: 11\n",
      "The sum of the digits of 165 is: 12\n",
      "The sum of the digits of 166 is: 13\n",
      "The sum of the digits of 167 is: 14\n",
      "The sum of the digits of 168 is: 15\n",
      "The sum of the digits of 169 is: 16\n",
      "The sum of the digits of 170 is: 8\n",
      "The sum of the digits of 171 is: 9\n",
      "The sum of the digits of 172 is: 10\n",
      "The sum of the digits of 173 is: 11\n",
      "The sum of the digits of 174 is: 12\n",
      "The sum of the digits of 175 is: 13\n",
      "The sum of the digits of 176 is: 14\n",
      "The sum of the digits of 177 is: 15\n",
      "The sum of the digits of 178 is: 16\n",
      "The sum of the digits of 179 is: 17\n",
      "The sum of the digits of 180 is: 9\n",
      "The sum of the digits of 181 is: 10\n",
      "The sum of the digits of 182 is: 11\n",
      "The sum of the digits of 183 is: 12\n",
      "The sum of the digits of 184 is: 13\n",
      "The sum of the digits of 185 is: 14\n",
      "The sum of the digits of 186 is: 15\n",
      "The sum of the digits of 187 is: 16\n",
      "The sum of the digits of 188 is: 17\n",
      "The sum of the digits of 189 is: 18\n",
      "The sum of the digits of 190 is: 10\n",
      "The sum of the digits of 191 is: 11\n",
      "The sum of the digits of 192 is: 12\n",
      "The sum of the digits of 193 is: 13\n",
      "The sum of the digits of 194 is: 14\n",
      "The sum of the digits of 195 is: 15\n",
      "The sum of the digits of 196 is: 16\n",
      "The sum of the digits of 197 is: 17\n",
      "The sum of the digits of 198 is: 18\n",
      "The sum of the digits of 199 is: 19\n",
      "The sum of the digits of 200 is: 2\n",
      "The sum of the digits of 201 is: 3\n",
      "The sum of the digits of 202 is: 4\n",
      "The sum of the digits of 203 is: 5\n",
      "The sum of the digits of 204 is: 6\n",
      "The sum of the digits of 205 is: 7\n",
      "The sum of the digits of 206 is: 8\n",
      "The sum of the digits of 207 is: 9\n",
      "The sum of the digits of 208 is: 10\n",
      "The sum of the digits of 209 is: 11\n",
      "The sum of the digits of 210 is: 3\n",
      "The sum of the digits of 211 is: 4\n",
      "The sum of the digits of 212 is: 5\n",
      "The sum of the digits of 213 is: 6\n",
      "The sum of the digits of 214 is: 7\n",
      "The sum of the digits of 215 is: 8\n",
      "The sum of the digits of 216 is: 9\n",
      "The sum of the digits of 217 is: 10\n",
      "The sum of the digits of 218 is: 11\n",
      "The sum of the digits of 219 is: 12\n",
      "The sum of the digits of 220 is: 4\n",
      "The sum of the digits of 221 is: 5\n",
      "The sum of the digits of 222 is: 6\n",
      "The sum of the digits of 223 is: 7\n",
      "The sum of the digits of 224 is: 8\n",
      "The sum of the digits of 225 is: 9\n",
      "The sum of the digits of 226 is: 10\n",
      "The sum of the digits of 227 is: 11\n",
      "The sum of the digits of 228 is: 12\n",
      "The sum of the digits of 229 is: 13\n",
      "The sum of the digits of 230 is: 5\n",
      "The sum of the digits of 231 is: 6\n",
      "The sum of the digits of 232 is: 7\n",
      "The sum of the digits of 233 is: 8\n",
      "The sum of the digits of 234 is: 9\n",
      "The sum of the digits of 235 is: 10\n",
      "The sum of the digits of 236 is: 11\n",
      "The sum of the digits of 237 is: 12\n",
      "The sum of the digits of 238 is: 13\n",
      "The sum of the digits of 239 is: 14\n",
      "The sum of the digits of 240 is: 6\n",
      "The sum of the digits of 241 is: 7\n",
      "The sum of the digits of 242 is: 8\n",
      "The sum of the digits of 243 is: 9\n",
      "The sum of the digits of 244 is: 10\n",
      "The sum of the digits of 245 is: 11\n",
      "The sum of the digits of 246 is: 12\n",
      "The sum of the digits of 247 is: 13\n",
      "The sum of the digits of 248 is: 14\n",
      "The sum of the digits of 249 is: 15\n",
      "The sum of the digits of 250 is: 7\n",
      "The sum of the digits of 251 is: 8\n",
      "The sum of the digits of 252 is: 9\n",
      "The sum of the digits of 253 is: 10\n",
      "The sum of the digits of 254 is: 11\n",
      "The sum of the digits of 255 is: 12\n",
      "The sum of the digits of 256 is: 13\n",
      "The sum of the digits of 257 is: 14\n",
      "The sum of the digits of 258 is: 15\n",
      "The sum of the digits of 259 is: 16\n",
      "The sum of the digits of 260 is: 8\n",
      "The sum of the digits of 261 is: 9\n",
      "The sum of the digits of 262 is: 10\n",
      "The sum of the digits of 263 is: 11\n",
      "The sum of the digits of 264 is: 12\n",
      "The sum of the digits of 265 is: 13\n",
      "The sum of the digits of 266 is: 14\n",
      "The sum of the digits of 267 is: 15\n",
      "The sum of the digits of 268 is: 16\n",
      "The sum of the digits of 269 is: 17\n",
      "The sum of the digits of 270 is: 9\n",
      "The sum of the digits of 271 is: 10\n",
      "The sum of the digits of 272 is: 11\n",
      "The sum of the digits of 273 is: 12\n",
      "The sum of the digits of 274 is: 13\n",
      "The sum of the digits of 275 is: 14\n",
      "The sum of the digits of 276 is: 15\n",
      "The sum of the digits of 277 is: 16\n",
      "The sum of the digits of 278 is: 17\n",
      "The sum of the digits of 279 is: 18\n",
      "The sum of the digits of 280 is: 10\n",
      "The sum of the digits of 281 is: 11\n",
      "The sum of the digits of 282 is: 12\n",
      "The sum of the digits of 283 is: 13\n",
      "The sum of the digits of 284 is: 14\n",
      "The sum of the digits of 285 is: 15\n",
      "The sum of the digits of 286 is: 16\n",
      "The sum of the digits of 287 is: 17\n",
      "The sum of the digits of 288 is: 18\n",
      "The sum of the digits of 289 is: 19\n",
      "The sum of the digits of 290 is: 11\n",
      "The sum of the digits of 291 is: 12\n",
      "The sum of the digits of 292 is: 13\n",
      "The sum of the digits of 293 is: 14\n",
      "The sum of the digits of 294 is: 15\n",
      "The sum of the digits of 295 is: 16\n",
      "The sum of the digits of 296 is: 17\n",
      "The sum of the digits of 297 is: 18\n",
      "The sum of the digits of 298 is: 19\n",
      "The sum of the digits of 299 is: 20\n",
      "The sum of the digits of 300 is: 3\n",
      "The sum of the digits of 301 is: 4\n",
      "The sum of the digits of 302 is: 5\n",
      "The sum of the digits of 303 is: 6\n",
      "The sum of the digits of 304 is: 7\n",
      "The sum of the digits of 305 is: 8\n",
      "The sum of the digits of 306 is: 9\n",
      "The sum of the digits of 307 is: 10\n",
      "The sum of the digits of 308 is: 11\n",
      "The sum of the digits of 309 is: 12\n",
      "The sum of the digits of 310 is: 4\n",
      "The sum of the digits of 311 is: 5\n",
      "The sum of the digits of 312 is: 6\n",
      "The sum of the digits of 313 is: 7\n",
      "The sum of the digits of 314 is: 8\n",
      "The sum of the digits of 315 is: 9\n",
      "The sum of the digits of 316 is: 10\n",
      "The sum of the digits of 317 is: 11\n",
      "The sum of the digits of 318 is: 12\n",
      "The sum of the digits of 319 is: 13\n",
      "The sum of the digits of 320 is: 5\n",
      "The sum of the digits of 321 is: 6\n",
      "The sum of the digits of 322 is: 7\n",
      "The sum of the digits of 323 is: 8\n",
      "The sum of the digits of 324 is: 9\n",
      "The sum of the digits of 325 is: 10\n",
      "The sum of the digits of 326 is: 11\n",
      "The sum of the digits of 327 is: 12\n",
      "The sum of the digits of 328 is: 13\n",
      "The sum of the digits of 329 is: 14\n",
      "The sum of the digits of 330 is: 6\n",
      "The sum of the digits of 331 is: 7\n",
      "The sum of the digits of 332 is: 8\n",
      "The sum of the digits of 333 is: 9\n",
      "The sum of the digits of 334 is: 10\n",
      "The sum of the digits of 335 is: 11\n",
      "The sum of the digits of 336 is: 12\n",
      "The sum of the digits of 337 is: 13\n",
      "The sum of the digits of 338 is: 14\n",
      "The sum of the digits of 339 is: 15\n",
      "The sum of the digits of 340 is: 7\n",
      "The sum of the digits of 341 is: 8\n",
      "The sum of the digits of 342 is: 9\n",
      "The sum of the digits of 343 is: 10\n",
      "The sum of the digits of 344 is: 11\n",
      "The sum of the digits of 345 is: 12\n",
      "The sum of the digits of 346 is: 13\n",
      "The sum of the digits of 347 is: 14\n",
      "The sum of the digits of 348 is: 15\n",
      "The sum of the digits of 349 is: 16\n",
      "The sum of the digits of 350 is: 8\n",
      "The sum of the digits of 351 is: 9\n",
      "The sum of the digits of 352 is: 10\n",
      "The sum of the digits of 353 is: 11\n",
      "The sum of the digits of 354 is: 12\n",
      "The sum of the digits of 355 is: 13\n",
      "The sum of the digits of 356 is: 14\n",
      "The sum of the digits of 357 is: 15\n",
      "The sum of the digits of 358 is: 16\n",
      "The sum of the digits of 359 is: 17\n",
      "The sum of the digits of 360 is: 9\n",
      "The sum of the digits of 361 is: 10\n",
      "The sum of the digits of 362 is: 11\n",
      "The sum of the digits of 363 is: 12\n",
      "The sum of the digits of 364 is: 13\n",
      "The sum of the digits of 365 is: 14\n",
      "The sum of the digits of 366 is: 15\n",
      "The sum of the digits of 367 is: 16\n",
      "The sum of the digits of 368 is: 17\n",
      "The sum of the digits of 369 is: 18\n",
      "The sum of the digits of 370 is: 10\n",
      "The sum of the digits of 371 is: 11\n",
      "The sum of the digits of 372 is: 12\n",
      "The sum of the digits of 373 is: 13\n",
      "The sum of the digits of 374 is: 14\n",
      "The sum of the digits of 375 is: 15\n",
      "The sum of the digits of 376 is: 16\n",
      "The sum of the digits of 377 is: 17\n",
      "The sum of the digits of 378 is: 18\n",
      "The sum of the digits of 379 is: 19\n",
      "The sum of the digits of 380 is: 11\n",
      "The sum of the digits of 381 is: 12\n",
      "The sum of the digits of 382 is: 13\n",
      "The sum of the digits of 383 is: 14\n",
      "The sum of the digits of 384 is: 15\n",
      "The sum of the digits of 385 is: 16\n",
      "The sum of the digits of 386 is: 17\n",
      "The sum of the digits of 387 is: 18\n",
      "The sum of the digits of 388 is: 19\n",
      "The sum of the digits of 389 is: 20\n",
      "The sum of the digits of 390 is: 12\n",
      "The sum of the digits of 391 is: 13\n",
      "The sum of the digits of 392 is: 14\n",
      "The sum of the digits of 393 is: 15\n",
      "The sum of the digits of 394 is: 16\n",
      "The sum of the digits of 395 is: 17\n",
      "The sum of the digits of 396 is: 18\n",
      "The sum of the digits of 397 is: 19\n",
      "The sum of the digits of 398 is: 20\n",
      "The sum of the digits of 399 is: 21\n",
      "The sum of the digits of 400 is: 4\n",
      "The sum of the digits of 401 is: 5\n",
      "The sum of the digits of 402 is: 6\n",
      "The sum of the digits of 403 is: 7\n",
      "The sum of the digits of 404 is: 8\n",
      "The sum of the digits of 405 is: 9\n",
      "The sum of the digits of 406 is: 10\n",
      "The sum of the digits of 407 is: 11\n",
      "The sum of the digits of 408 is: 12\n",
      "The sum of the digits of 409 is: 13\n",
      "The sum of the digits of 410 is: 5\n",
      "The sum of the digits of 411 is: 6\n",
      "The sum of the digits of 412 is: 7\n",
      "The sum of the digits of 413 is: 8\n",
      "The sum of the digits of 414 is: 9\n",
      "The sum of the digits of 415 is: 10\n",
      "The sum of the digits of 416 is: 11\n",
      "The sum of the digits of 417 is: 12\n",
      "The sum of the digits of 418 is: 13\n",
      "The sum of the digits of 419 is: 14\n",
      "The sum of the digits of 420 is: 6\n",
      "The sum of the digits of 421 is: 7\n",
      "The sum of the digits of 422 is: 8\n",
      "The sum of the digits of 423 is: 9\n",
      "The sum of the digits of 424 is: 10\n",
      "The sum of the digits of 425 is: 11\n",
      "The sum of the digits of 426 is: 12\n",
      "The sum of the digits of 427 is: 13\n",
      "The sum of the digits of 428 is: 14\n",
      "The sum of the digits of 429 is: 15\n",
      "The sum of the digits of 430 is: 7\n",
      "The sum of the digits of 431 is: 8\n",
      "The sum of the digits of 432 is: 9\n",
      "The sum of the digits of 433 is: 10\n",
      "The sum of the digits of 434 is: 11\n",
      "The sum of the digits of 435 is: 12\n",
      "The sum of the digits of 436 is: 13\n",
      "The sum of the digits of 437 is: 14\n",
      "The sum of the digits of 438 is: 15\n",
      "The sum of the digits of 439 is: 16\n",
      "The sum of the digits of 440 is: 8\n",
      "The sum of the digits of 441 is: 9\n",
      "The sum of the digits of 442 is: 10\n",
      "The sum of the digits of 443 is: 11\n",
      "The sum of the digits of 444 is: 12\n",
      "The sum of the digits of 445 is: 13\n",
      "The sum of the digits of 446 is: 14\n",
      "The sum of the digits of 447 is: 15\n",
      "The sum of the digits of 448 is: 16\n",
      "The sum of the digits of 449 is: 17\n",
      "The sum of the digits of 450 is: 9\n",
      "The sum of the digits of 451 is: 10\n",
      "The sum of the digits of 452 is: 11\n",
      "The sum of the digits of 453 is: 12\n",
      "The sum of the digits of 454 is: 13\n",
      "The sum of the digits of 455 is: 14\n",
      "The sum of the digits of 456 is: 15\n",
      "The sum of the digits of 457 is: 16\n",
      "The sum of the digits of 458 is: 17\n",
      "The sum of the digits of 459 is: 18\n",
      "The sum of the digits of 460 is: 10\n",
      "The sum of the digits of 461 is: 11\n",
      "The sum of the digits of 462 is: 12\n",
      "The sum of the digits of 463 is: 13\n",
      "The sum of the digits of 464 is: 14\n",
      "The sum of the digits of 465 is: 15\n",
      "The sum of the digits of 466 is: 16\n",
      "The sum of the digits of 467 is: 17\n",
      "The sum of the digits of 468 is: 18\n",
      "The sum of the digits of 469 is: 19\n",
      "The sum of the digits of 470 is: 11\n",
      "The sum of the digits of 471 is: 12\n",
      "The sum of the digits of 472 is: 13\n",
      "The sum of the digits of 473 is: 14\n",
      "The sum of the digits of 474 is: 15\n",
      "The sum of the digits of 475 is: 16\n",
      "The sum of the digits of 476 is: 17\n",
      "The sum of the digits of 477 is: 18\n",
      "The sum of the digits of 478 is: 19\n",
      "The sum of the digits of 479 is: 20\n",
      "The sum of the digits of 480 is: 12\n",
      "The sum of the digits of 481 is: 13\n",
      "The sum of the digits of 482 is: 14\n",
      "The sum of the digits of 483 is: 15\n",
      "The sum of the digits of 484 is: 16\n",
      "The sum of the digits of 485 is: 17\n",
      "The sum of the digits of 486 is: 18\n",
      "The sum of the digits of 487 is: 19\n",
      "The sum of the digits of 488 is: 20\n",
      "The sum of the digits of 489 is: 21\n",
      "The sum of the digits of 490 is: 13\n",
      "The sum of the digits of 491 is: 14\n",
      "The sum of the digits of 492 is: 15\n",
      "The sum of the digits of 493 is: 16\n",
      "The sum of the digits of 494 is: 17\n",
      "The sum of the digits of 495 is: 18\n",
      "The sum of the digits of 496 is: 19\n",
      "The sum of the digits of 497 is: 20\n",
      "The sum of the digits of 498 is: 21\n",
      "The sum of the digits of 499 is: 22\n",
      "The sum of the digits of 500 is: 5\n",
      "The sum of the digits of 501 is: 6\n",
      "The sum of the digits of 502 is: 7\n",
      "The sum of the digits of 503 is: 8\n",
      "The sum of the digits of 504 is: 9\n",
      "The sum of the digits of 505 is: 10\n",
      "The sum of the digits of 506 is: 11\n",
      "The sum of the digits of 507 is: 12\n",
      "The sum of the digits of 508 is: 13\n",
      "The sum of the digits of 509 is: 14\n",
      "The sum of the digits of 510 is: 6\n",
      "The sum of the digits of 511 is: 7\n",
      "The sum of the digits of 512 is: 8\n",
      "The sum of the digits of 513 is: 9\n",
      "The sum of the digits of 514 is: 10\n",
      "The sum of the digits of 515 is: 11\n",
      "The sum of the digits of 516 is: 12\n",
      "The sum of the digits of 517 is: 13\n",
      "The sum of the digits of 518 is: 14\n",
      "The sum of the digits of 519 is: 15\n",
      "The sum of the digits of 520 is: 7\n",
      "The sum of the digits of 521 is: 8\n",
      "The sum of the digits of 522 is: 9\n",
      "The sum of the digits of 523 is: 10\n",
      "The sum of the digits of 524 is: 11\n",
      "The sum of the digits of 525 is: 12\n",
      "The sum of the digits of 526 is: 13\n",
      "The sum of the digits of 527 is: 14\n",
      "The sum of the digits of 528 is: 15\n",
      "The sum of the digits of 529 is: 16\n",
      "The sum of the digits of 530 is: 8\n",
      "The sum of the digits of 531 is: 9\n",
      "The sum of the digits of 532 is: 10\n",
      "The sum of the digits of 533 is: 11\n",
      "The sum of the digits of 534 is: 12\n",
      "The sum of the digits of 535 is: 13\n",
      "The sum of the digits of 536 is: 14\n",
      "The sum of the digits of 537 is: 15\n",
      "The sum of the digits of 538 is: 16\n",
      "The sum of the digits of 539 is: 17\n",
      "The sum of the digits of 540 is: 9\n",
      "The sum of the digits of 541 is: 10\n",
      "The sum of the digits of 542 is: 11\n",
      "The sum of the digits of 543 is: 12\n",
      "The sum of the digits of 544 is: 13\n",
      "The sum of the digits of 545 is: 14\n",
      "The sum of the digits of 546 is: 15\n",
      "The sum of the digits of 547 is: 16\n",
      "The sum of the digits of 548 is: 17\n",
      "The sum of the digits of 549 is: 18\n",
      "The sum of the digits of 550 is: 10\n",
      "The sum of the digits of 551 is: 11\n",
      "The sum of the digits of 552 is: 12\n",
      "The sum of the digits of 553 is: 13\n",
      "The sum of the digits of 554 is: 14\n",
      "The sum of the digits of 555 is: 15\n",
      "The sum of the digits of 556 is: 16\n",
      "The sum of the digits of 557 is: 17\n",
      "The sum of the digits of 558 is: 18\n",
      "The sum of the digits of 559 is: 19\n",
      "The sum of the digits of 560 is: 11\n",
      "The sum of the digits of 561 is: 12\n",
      "The sum of the digits of 562 is: 13\n",
      "The sum of the digits of 563 is: 14\n",
      "The sum of the digits of 564 is: 15\n",
      "The sum of the digits of 565 is: 16\n",
      "The sum of the digits of 566 is: 17\n",
      "The sum of the digits of 567 is: 18\n",
      "The sum of the digits of 568 is: 19\n",
      "The sum of the digits of 569 is: 20\n",
      "The sum of the digits of 570 is: 12\n",
      "The sum of the digits of 571 is: 13\n",
      "The sum of the digits of 572 is: 14\n",
      "The sum of the digits of 573 is: 15\n",
      "The sum of the digits of 574 is: 16\n",
      "The sum of the digits of 575 is: 17\n",
      "The sum of the digits of 576 is: 18\n",
      "The sum of the digits of 577 is: 19\n",
      "The sum of the digits of 578 is: 20\n",
      "The sum of the digits of 579 is: 21\n",
      "The sum of the digits of 580 is: 13\n",
      "The sum of the digits of 581 is: 14\n",
      "The sum of the digits of 582 is: 15\n",
      "The sum of the digits of 583 is: 16\n",
      "The sum of the digits of 584 is: 17\n",
      "The sum of the digits of 585 is: 18\n",
      "The sum of the digits of 586 is: 19\n",
      "The sum of the digits of 587 is: 20\n",
      "The sum of the digits of 588 is: 21\n",
      "The sum of the digits of 589 is: 22\n",
      "The sum of the digits of 590 is: 14\n",
      "The sum of the digits of 591 is: 15\n",
      "The sum of the digits of 592 is: 16\n",
      "The sum of the digits of 593 is: 17\n",
      "The sum of the digits of 594 is: 18\n",
      "The sum of the digits of 595 is: 19\n",
      "The sum of the digits of 596 is: 20\n",
      "The sum of the digits of 597 is: 21\n",
      "The sum of the digits of 598 is: 22\n",
      "The sum of the digits of 599 is: 23\n",
      "The sum of the digits of 600 is: 6\n",
      "The sum of the digits of 601 is: 7\n",
      "The sum of the digits of 602 is: 8\n",
      "The sum of the digits of 603 is: 9\n",
      "The sum of the digits of 604 is: 10\n",
      "The sum of the digits of 605 is: 11\n",
      "The sum of the digits of 606 is: 12\n",
      "The sum of the digits of 607 is: 13\n",
      "The sum of the digits of 608 is: 14\n",
      "The sum of the digits of 609 is: 15\n",
      "The sum of the digits of 610 is: 7\n",
      "The sum of the digits of 611 is: 8\n",
      "The sum of the digits of 612 is: 9\n",
      "The sum of the digits of 613 is: 10\n",
      "The sum of the digits of 614 is: 11\n",
      "The sum of the digits of 615 is: 12\n",
      "The sum of the digits of 616 is: 13\n",
      "The sum of the digits of 617 is: 14\n",
      "The sum of the digits of 618 is: 15\n",
      "The sum of the digits of 619 is: 16\n",
      "The sum of the digits of 620 is: 8\n",
      "The sum of the digits of 621 is: 9\n",
      "The sum of the digits of 622 is: 10\n",
      "The sum of the digits of 623 is: 11\n",
      "The sum of the digits of 624 is: 12\n",
      "The sum of the digits of 625 is: 13\n",
      "The sum of the digits of 626 is: 14\n",
      "The sum of the digits of 627 is: 15\n",
      "The sum of the digits of 628 is: 16\n",
      "The sum of the digits of 629 is: 17\n",
      "The sum of the digits of 630 is: 9\n",
      "The sum of the digits of 631 is: 10\n",
      "The sum of the digits of 632 is: 11\n",
      "The sum of the digits of 633 is: 12\n",
      "The sum of the digits of 634 is: 13\n",
      "The sum of the digits of 635 is: 14\n",
      "The sum of the digits of 636 is: 15\n",
      "The sum of the digits of 637 is: 16\n",
      "The sum of the digits of 638 is: 17\n",
      "The sum of the digits of 639 is: 18\n",
      "The sum of the digits of 640 is: 10\n",
      "The sum of the digits of 641 is: 11\n",
      "The sum of the digits of 642 is: 12\n",
      "The sum of the digits of 643 is: 13\n",
      "The sum of the digits of 644 is: 14\n",
      "The sum of the digits of 645 is: 15\n",
      "The sum of the digits of 646 is: 16\n",
      "The sum of the digits of 647 is: 17\n",
      "The sum of the digits of 648 is: 18\n",
      "The sum of the digits of 649 is: 19\n",
      "The sum of the digits of 650 is: 11\n",
      "The sum of the digits of 651 is: 12\n",
      "The sum of the digits of 652 is: 13\n",
      "The sum of the digits of 653 is: 14\n",
      "The sum of the digits of 654 is: 15\n",
      "The sum of the digits of 655 is: 16\n",
      "The sum of the digits of 656 is: 17\n",
      "The sum of the digits of 657 is: 18\n",
      "The sum of the digits of 658 is: 19\n",
      "The sum of the digits of 659 is: 20\n",
      "The sum of the digits of 660 is: 12\n",
      "The sum of the digits of 661 is: 13\n",
      "The sum of the digits of 662 is: 14\n",
      "The sum of the digits of 663 is: 15\n",
      "The sum of the digits of 664 is: 16\n",
      "The sum of the digits of 665 is: 17\n",
      "The sum of the digits of 666 is: 18\n",
      "The sum of the digits of 667 is: 19\n",
      "The sum of the digits of 668 is: 20\n",
      "The sum of the digits of 669 is: 21\n",
      "The sum of the digits of 670 is: 13\n",
      "The sum of the digits of 671 is: 14\n",
      "The sum of the digits of 672 is: 15\n",
      "The sum of the digits of 673 is: 16\n",
      "The sum of the digits of 674 is: 17\n",
      "The sum of the digits of 675 is: 18\n",
      "The sum of the digits of 676 is: 19\n",
      "The sum of the digits of 677 is: 20\n",
      "The sum of the digits of 678 is: 21\n",
      "The sum of the digits of 679 is: 22\n",
      "The sum of the digits of 680 is: 14\n",
      "The sum of the digits of 681 is: 15\n",
      "The sum of the digits of 682 is: 16\n",
      "The sum of the digits of 683 is: 17\n",
      "The sum of the digits of 684 is: 18\n",
      "The sum of the digits of 685 is: 19\n",
      "The sum of the digits of 686 is: 20\n",
      "The sum of the digits of 687 is: 21\n",
      "The sum of the digits of 688 is: 22\n",
      "The sum of the digits of 689 is: 23\n",
      "The sum of the digits of 690 is: 15\n",
      "The sum of the digits of 691 is: 16\n",
      "The sum of the digits of 692 is: 17\n",
      "The sum of the digits of 693 is: 18\n",
      "The sum of the digits of 694 is: 19\n",
      "The sum of the digits of 695 is: 20\n",
      "The sum of the digits of 696 is: 21\n",
      "The sum of the digits of 697 is: 22\n",
      "The sum of the digits of 698 is: 23\n",
      "The sum of the digits of 699 is: 24\n",
      "The sum of the digits of 700 is: 7\n",
      "The sum of the digits of 701 is: 8\n",
      "The sum of the digits of 702 is: 9\n",
      "The sum of the digits of 703 is: 10\n",
      "The sum of the digits of 704 is: 11\n",
      "The sum of the digits of 705 is: 12\n",
      "The sum of the digits of 706 is: 13\n",
      "The sum of the digits of 707 is: 14\n",
      "The sum of the digits of 708 is: 15\n",
      "The sum of the digits of 709 is: 16\n",
      "The sum of the digits of 710 is: 8\n",
      "The sum of the digits of 711 is: 9\n",
      "The sum of the digits of 712 is: 10\n",
      "The sum of the digits of 713 is: 11\n",
      "The sum of the digits of 714 is: 12\n",
      "The sum of the digits of 715 is: 13\n",
      "The sum of the digits of 716 is: 14\n",
      "The sum of the digits of 717 is: 15\n",
      "The sum of the digits of 718 is: 16\n",
      "The sum of the digits of 719 is: 17\n",
      "The sum of the digits of 720 is: 9\n",
      "The sum of the digits of 721 is: 10\n",
      "The sum of the digits of 722 is: 11\n",
      "The sum of the digits of 723 is: 12\n",
      "The sum of the digits of 724 is: 13\n",
      "The sum of the digits of 725 is: 14\n",
      "The sum of the digits of 726 is: 15\n",
      "The sum of the digits of 727 is: 16\n",
      "The sum of the digits of 728 is: 17\n",
      "The sum of the digits of 729 is: 18\n",
      "The sum of the digits of 730 is: 10\n",
      "The sum of the digits of 731 is: 11\n",
      "The sum of the digits of 732 is: 12\n",
      "The sum of the digits of 733 is: 13\n",
      "The sum of the digits of 734 is: 14\n",
      "The sum of the digits of 735 is: 15\n",
      "The sum of the digits of 736 is: 16\n",
      "The sum of the digits of 737 is: 17\n",
      "The sum of the digits of 738 is: 18\n",
      "The sum of the digits of 739 is: 19\n",
      "The sum of the digits of 740 is: 11\n",
      "The sum of the digits of 741 is: 12\n",
      "The sum of the digits of 742 is: 13\n",
      "The sum of the digits of 743 is: 14\n",
      "The sum of the digits of 744 is: 15\n",
      "The sum of the digits of 745 is: 16\n",
      "The sum of the digits of 746 is: 17\n",
      "The sum of the digits of 747 is: 18\n",
      "The sum of the digits of 748 is: 19\n",
      "The sum of the digits of 749 is: 20\n",
      "The sum of the digits of 750 is: 12\n",
      "The sum of the digits of 751 is: 13\n",
      "The sum of the digits of 752 is: 14\n",
      "The sum of the digits of 753 is: 15\n",
      "The sum of the digits of 754 is: 16\n",
      "The sum of the digits of 755 is: 17\n",
      "The sum of the digits of 756 is: 18\n",
      "The sum of the digits of 757 is: 19\n",
      "The sum of the digits of 758 is: 20\n",
      "The sum of the digits of 759 is: 21\n",
      "The sum of the digits of 760 is: 13\n",
      "The sum of the digits of 761 is: 14\n",
      "The sum of the digits of 762 is: 15\n",
      "The sum of the digits of 763 is: 16\n",
      "The sum of the digits of 764 is: 17\n",
      "The sum of the digits of 765 is: 18\n",
      "The sum of the digits of 766 is: 19\n",
      "The sum of the digits of 767 is: 20\n",
      "The sum of the digits of 768 is: 21\n",
      "The sum of the digits of 769 is: 22\n",
      "The sum of the digits of 770 is: 14\n",
      "The sum of the digits of 771 is: 15\n",
      "The sum of the digits of 772 is: 16\n",
      "The sum of the digits of 773 is: 17\n",
      "The sum of the digits of 774 is: 18\n",
      "The sum of the digits of 775 is: 19\n",
      "The sum of the digits of 776 is: 20\n",
      "The sum of the digits of 777 is: 21\n",
      "The sum of the digits of 778 is: 22\n",
      "The sum of the digits of 779 is: 23\n",
      "The sum of the digits of 780 is: 15\n",
      "The sum of the digits of 781 is: 16\n",
      "The sum of the digits of 782 is: 17\n",
      "The sum of the digits of 783 is: 18\n",
      "The sum of the digits of 784 is: 19\n",
      "The sum of the digits of 785 is: 20\n",
      "The sum of the digits of 786 is: 21\n",
      "The sum of the digits of 787 is: 22\n",
      "The sum of the digits of 788 is: 23\n",
      "The sum of the digits of 789 is: 24\n",
      "The sum of the digits of 790 is: 16\n",
      "The sum of the digits of 791 is: 17\n",
      "The sum of the digits of 792 is: 18\n",
      "The sum of the digits of 793 is: 19\n",
      "The sum of the digits of 794 is: 20\n",
      "The sum of the digits of 795 is: 21\n",
      "The sum of the digits of 796 is: 22\n",
      "The sum of the digits of 797 is: 23\n",
      "The sum of the digits of 798 is: 24\n",
      "The sum of the digits of 799 is: 25\n",
      "The sum of the digits of 800 is: 8\n",
      "The sum of the digits of 801 is: 9\n",
      "The sum of the digits of 802 is: 10\n",
      "The sum of the digits of 803 is: 11\n",
      "The sum of the digits of 804 is: 12\n",
      "The sum of the digits of 805 is: 13\n",
      "The sum of the digits of 806 is: 14\n",
      "The sum of the digits of 807 is: 15\n",
      "The sum of the digits of 808 is: 16\n",
      "The sum of the digits of 809 is: 17\n",
      "The sum of the digits of 810 is: 9\n",
      "The sum of the digits of 811 is: 10\n",
      "The sum of the digits of 812 is: 11\n",
      "The sum of the digits of 813 is: 12\n",
      "The sum of the digits of 814 is: 13\n",
      "The sum of the digits of 815 is: 14\n",
      "The sum of the digits of 816 is: 15\n",
      "The sum of the digits of 817 is: 16\n",
      "The sum of the digits of 818 is: 17\n",
      "The sum of the digits of 819 is: 18\n",
      "The sum of the digits of 820 is: 10\n",
      "The sum of the digits of 821 is: 11\n",
      "The sum of the digits of 822 is: 12\n",
      "The sum of the digits of 823 is: 13\n",
      "The sum of the digits of 824 is: 14\n",
      "The sum of the digits of 825 is: 15\n",
      "The sum of the digits of 826 is: 16\n",
      "The sum of the digits of 827 is: 17\n",
      "The sum of the digits of 828 is: 18\n",
      "The sum of the digits of 829 is: 19\n",
      "The sum of the digits of 830 is: 11\n",
      "The sum of the digits of 831 is: 12\n",
      "The sum of the digits of 832 is: 13\n",
      "The sum of the digits of 833 is: 14\n",
      "The sum of the digits of 834 is: 15\n",
      "The sum of the digits of 835 is: 16\n",
      "The sum of the digits of 836 is: 17\n",
      "The sum of the digits of 837 is: 18\n",
      "The sum of the digits of 838 is: 19\n",
      "The sum of the digits of 839 is: 20\n",
      "The sum of the digits of 840 is: 12\n",
      "The sum of the digits of 841 is: 13\n",
      "The sum of the digits of 842 is: 14\n",
      "The sum of the digits of 843 is: 15\n",
      "The sum of the digits of 844 is: 16\n",
      "The sum of the digits of 845 is: 17\n",
      "The sum of the digits of 846 is: 18\n",
      "The sum of the digits of 847 is: 19\n",
      "The sum of the digits of 848 is: 20\n",
      "The sum of the digits of 849 is: 21\n",
      "The sum of the digits of 850 is: 13\n",
      "The sum of the digits of 851 is: 14\n",
      "The sum of the digits of 852 is: 15\n",
      "The sum of the digits of 853 is: 16\n",
      "The sum of the digits of 854 is: 17\n",
      "The sum of the digits of 855 is: 18\n",
      "The sum of the digits of 856 is: 19\n",
      "The sum of the digits of 857 is: 20\n",
      "The sum of the digits of 858 is: 21\n",
      "The sum of the digits of 859 is: 22\n",
      "The sum of the digits of 860 is: 14\n",
      "The sum of the digits of 861 is: 15\n",
      "The sum of the digits of 862 is: 16\n",
      "The sum of the digits of 863 is: 17\n",
      "The sum of the digits of 864 is: 18\n",
      "The sum of the digits of 865 is: 19\n",
      "The sum of the digits of 866 is: 20\n",
      "The sum of the digits of 867 is: 21\n",
      "The sum of the digits of 868 is: 22\n",
      "The sum of the digits of 869 is: 23\n",
      "The sum of the digits of 870 is: 15\n",
      "The sum of the digits of 871 is: 16\n",
      "The sum of the digits of 872 is: 17\n",
      "The sum of the digits of 873 is: 18\n",
      "The sum of the digits of 874 is: 19\n",
      "The sum of the digits of 875 is: 20\n",
      "The sum of the digits of 876 is: 21\n",
      "The sum of the digits of 877 is: 22\n",
      "The sum of the digits of 878 is: 23\n",
      "The sum of the digits of 879 is: 24\n",
      "The sum of the digits of 880 is: 16\n",
      "The sum of the digits of 881 is: 17\n",
      "The sum of the digits of 882 is: 18\n",
      "The sum of the digits of 883 is: 19\n",
      "The sum of the digits of 884 is: 20\n",
      "The sum of the digits of 885 is: 21\n",
      "The sum of the digits of 886 is: 22\n",
      "The sum of the digits of 887 is: 23\n",
      "The sum of the digits of 888 is: 24\n",
      "The sum of the digits of 889 is: 25\n",
      "The sum of the digits of 890 is: 17\n",
      "The sum of the digits of 891 is: 18\n",
      "The sum of the digits of 892 is: 19\n",
      "The sum of the digits of 893 is: 20\n",
      "The sum of the digits of 894 is: 21\n",
      "The sum of the digits of 895 is: 22\n",
      "The sum of the digits of 896 is: 23\n",
      "The sum of the digits of 897 is: 24\n",
      "The sum of the digits of 898 is: 25\n",
      "The sum of the digits of 899 is: 26\n",
      "The sum of the digits of 900 is: 9\n",
      "The sum of the digits of 901 is: 10\n",
      "The sum of the digits of 902 is: 11\n",
      "The sum of the digits of 903 is: 12\n",
      "The sum of the digits of 904 is: 13\n",
      "The sum of the digits of 905 is: 14\n",
      "The sum of the digits of 906 is: 15\n",
      "The sum of the digits of 907 is: 16\n",
      "The sum of the digits of 908 is: 17\n",
      "The sum of the digits of 909 is: 18\n",
      "The sum of the digits of 910 is: 10\n",
      "The sum of the digits of 911 is: 11\n",
      "The sum of the digits of 912 is: 12\n",
      "The sum of the digits of 913 is: 13\n",
      "The sum of the digits of 914 is: 14\n",
      "The sum of the digits of 915 is: 15\n",
      "The sum of the digits of 916 is: 16\n",
      "The sum of the digits of 917 is: 17\n",
      "The sum of the digits of 918 is: 18\n",
      "The sum of the digits of 919 is: 19\n",
      "The sum of the digits of 920 is: 11\n",
      "The sum of the digits of 921 is: 12\n",
      "The sum of the digits of 922 is: 13\n",
      "The sum of the digits of 923 is: 14\n",
      "The sum of the digits of 924 is: 15\n",
      "The sum of the digits of 925 is: 16\n",
      "The sum of the digits of 926 is: 17\n",
      "The sum of the digits of 927 is: 18\n",
      "The sum of the digits of 928 is: 19\n",
      "The sum of the digits of 929 is: 20\n",
      "The sum of the digits of 930 is: 12\n",
      "The sum of the digits of 931 is: 13\n",
      "The sum of the digits of 932 is: 14\n",
      "The sum of the digits of 933 is: 15\n",
      "The sum of the digits of 934 is: 16\n",
      "The sum of the digits of 935 is: 17\n",
      "The sum of the digits of 936 is: 18\n",
      "The sum of the digits of 937 is: 19\n",
      "The sum of the digits of 938 is: 20\n",
      "The sum of the digits of 939 is: 21\n",
      "The sum of the digits of 940 is: 13\n",
      "The sum of the digits of 941 is: 14\n",
      "The sum of the digits of 942 is: 15\n",
      "The sum of the digits of 943 is: 16\n",
      "The sum of the digits of 944 is: 17\n",
      "The sum of the digits of 945 is: 18\n",
      "The sum of the digits of 946 is: 19\n",
      "The sum of the digits of 947 is: 20\n",
      "The sum of the digits of 948 is: 21\n",
      "The sum of the digits of 949 is: 22\n",
      "The sum of the digits of 950 is: 14\n",
      "The sum of the digits of 951 is: 15\n",
      "The sum of the digits of 952 is: 16\n",
      "The sum of the digits of 953 is: 17\n",
      "The sum of the digits of 954 is: 18\n",
      "The sum of the digits of 955 is: 19\n",
      "The sum of the digits of 956 is: 20\n",
      "The sum of the digits of 957 is: 21\n",
      "The sum of the digits of 958 is: 22\n",
      "The sum of the digits of 959 is: 23\n",
      "The sum of the digits of 960 is: 15\n",
      "The sum of the digits of 961 is: 16\n",
      "The sum of the digits of 962 is: 17\n",
      "The sum of the digits of 963 is: 18\n",
      "The sum of the digits of 964 is: 19\n",
      "The sum of the digits of 965 is: 20\n",
      "The sum of the digits of 966 is: 21\n",
      "The sum of the digits of 967 is: 22\n",
      "The sum of the digits of 968 is: 23\n",
      "The sum of the digits of 969 is: 24\n",
      "The sum of the digits of 970 is: 16\n",
      "The sum of the digits of 971 is: 17\n",
      "The sum of the digits of 972 is: 18\n",
      "The sum of the digits of 973 is: 19\n",
      "The sum of the digits of 974 is: 20\n",
      "The sum of the digits of 975 is: 21\n",
      "The sum of the digits of 976 is: 22\n",
      "The sum of the digits of 977 is: 23\n",
      "The sum of the digits of 978 is: 24\n",
      "The sum of the digits of 979 is: 25\n",
      "The sum of the digits of 980 is: 17\n",
      "The sum of the digits of 981 is: 18\n",
      "The sum of the digits of 982 is: 19\n",
      "The sum of the digits of 983 is: 20\n",
      "The sum of the digits of 984 is: 21\n",
      "The sum of the digits of 985 is: 22\n",
      "The sum of the digits of 986 is: 23\n",
      "The sum of the digits of 987 is: 24\n",
      "The sum of the digits of 988 is: 25\n",
      "The sum of the digits of 989 is: 26\n",
      "The sum of the digits of 990 is: 18\n",
      "The sum of the digits of 991 is: 19\n",
      "The sum of the digits of 992 is: 20\n",
      "The sum of the digits of 993 is: 21\n",
      "The sum of the digits of 994 is: 22\n",
      "The sum of the digits of 995 is: 23\n",
      "The sum of the digits of 996 is: 24\n",
      "The sum of the digits of 997 is: 25\n",
      "The sum of the digits of 998 is: 26\n",
      "The sum of the digits of 999 is: 27\n",
      "The sum of the digits of 1000 is: 1\n"
     ]
    }
   ],
   "source": [
    "# Define the range of numbers\n",
    "number_range = range(1, 1001)\n",
    "\n",
    "# Use list comprehension to calculate the sum of digits\n",
    "sum_of_digits = [sum(int(digit) for digit in str(num)) for num in number_range]\n",
    "\n",
    "# Print the result\n",
    "for num, result in zip(number_range, sum_of_digits):\n",
    "    print(f\"The sum of the digits of {num} is: {result}\")\n"
   ]
  },
  {
   "cell_type": "markdown",
   "id": "02247ef4-7cfa-44e1-a679-a056fe6bd302",
   "metadata": {},
   "source": [
    "### 10.Write a program that generates a list of prime palindromic numbers using list comprehension."
   ]
  },
  {
   "cell_type": "code",
   "execution_count": 36,
   "id": "a43a4fd2-41e2-4a05-b75e-144c767882dc",
   "metadata": {},
   "outputs": [
    {
     "name": "stdout",
     "output_type": "stream",
     "text": [
      "Prime Palindromic Numbers: [2, 3, 5, 7, 11, 101, 131, 151, 181, 191, 313, 353, 373, 383, 727, 757, 787, 797, 919, 929]\n"
     ]
    }
   ],
   "source": [
    "# define the prime function\n",
    "def is_prime(n):\n",
    "    # check\n",
    "    if n < 2:\n",
    "        return False\n",
    "    # for loop use\n",
    "    for i in range(2, int(n**0.5) + 1):\n",
    "        if n % i == 0:\n",
    "            return False\n",
    "    return True\n",
    "\n",
    "#  Use list comprehension to generate palindromic numbers\n",
    "palindromic_numbers = [num for num in range(1, 1000) if str(num) == str(num)[::-1]]\n",
    "\n",
    "#Use list comprehension to filter prime palindromic numbers\n",
    "prime_palindromes = [num for num in palindromic_numbers if is_prime(num)]\n",
    "\n",
    "# Print the result\n",
    "print(\"Prime Palindromic Numbers:\", prime_palindromes)\n"
   ]
  },
  {
   "cell_type": "code",
   "execution_count": null,
   "id": "ca850e80-3750-4acd-8944-c3c10cda1b84",
   "metadata": {},
   "outputs": [],
   "source": []
  }
 ],
 "metadata": {
  "kernelspec": {
   "display_name": "Python 3 (ipykernel)",
   "language": "python",
   "name": "python3"
  },
  "language_info": {
   "codemirror_mode": {
    "name": "ipython",
    "version": 3
   },
   "file_extension": ".py",
   "mimetype": "text/x-python",
   "name": "python",
   "nbconvert_exporter": "python",
   "pygments_lexer": "ipython3",
   "version": "3.10.8"
  }
 },
 "nbformat": 4,
 "nbformat_minor": 5
}
