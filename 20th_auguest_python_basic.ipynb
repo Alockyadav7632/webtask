{
 "cells": [
  {
   "cell_type": "markdown",
   "id": "d9059195-6ba3-41ce-8f4e-a122e41fb9ef",
   "metadata": {},
   "source": [
    "### TOPIC: String Based Assignment Problem"
   ]
  },
  {
   "cell_type": "markdown",
   "id": "7ba21181-3114-426c-bcac-1929a61dbc0a",
   "metadata": {},
   "source": [
    "### 1. Write a program to reverse a string."
   ]
  },
  {
   "cell_type": "code",
   "execution_count": 4,
   "id": "518f22f3-9772-4e1d-8f99-67e2110a9475",
   "metadata": {},
   "outputs": [
    {
     "name": "stdout",
     "output_type": "stream",
     "text": [
      "sllikS wP\n"
     ]
    }
   ],
   "source": [
    "def reverse_string(input_string):\n",
    "    # Step 1: Define a function called reverse_string that takes an input_string as its parameter.\n",
    "\n",
    "    reversed_string = \"\"\n",
    "    # Step 2: Initialize an empty string called reversed_string to store the reversed characters.\n",
    "\n",
    "    for char in input_string:\n",
    "        # Step 3: Start a loop that iterates through each character in the input_string.\n",
    "\n",
    "        reversed_string = char + reversed_string\n",
    "        # Step 4: Concatenate the current character with the existing reversed_string.\n",
    "\n",
    "\n",
    "    return reversed_string\n",
    "\n",
    "input_str = \"Pw Skills\"\n",
    "reversed_str = reverse_string(input_str)\n",
    "print(reversed_str)"
   ]
  },
  {
   "cell_type": "markdown",
   "id": "1293be59-a509-4169-947d-08e204356ba9",
   "metadata": {},
   "source": [
    "### 2. Check if a string is a palindrome."
   ]
  },
  {
   "cell_type": "code",
   "execution_count": 6,
   "id": "d7616a8a-dddc-4853-981a-242f01ce78f3",
   "metadata": {},
   "outputs": [
    {
     "name": "stdout",
     "output_type": "stream",
     "text": [
      "True\n"
     ]
    }
   ],
   "source": [
    "def is_palindrome(s):\n",
    "    # Convert the string to lowercase to ensure case-insensitive comparison\n",
    "    s = s.lower()\n",
    "\n",
    "    # Remove spaces and punctuation from the string\n",
    "    s = ''.join(e for e in s if e.isalnum())\n",
    "\n",
    "    # Compare the original string with its reverse\n",
    "    return s == s[::-1]\n",
    "\n",
    "print(is_palindrome(\"racecar\"))"
   ]
  },
  {
   "cell_type": "markdown",
   "id": "bb5f9a12-501b-4add-a3d9-869e7c605981",
   "metadata": {},
   "source": [
    "### 3. Convert a string to uppercase."
   ]
  },
  {
   "cell_type": "code",
   "execution_count": 7,
   "id": "b1a7205d-091f-4a3b-b97c-6300afb1947e",
   "metadata": {},
   "outputs": [
    {
     "name": "stdin",
     "output_type": "stream",
     "text": [
      "Enter a string:  hello world\n"
     ]
    },
    {
     "name": "stdout",
     "output_type": "stream",
     "text": [
      "Uppercase string: HELLO WORLD\n"
     ]
    }
   ],
   "source": [
    "# Step 1: Get input from the user\n",
    "input_string = input(\"Enter a string: \")\n",
    "\n",
    "# Step 2: Convert the string to uppercase\n",
    "uppercase_string = input_string.upper()\n",
    "\n",
    "# Step 3: Print the uppercase string\n",
    "print(\"Uppercase string:\", uppercase_string)"
   ]
  },
  {
   "cell_type": "markdown",
   "id": "797f75a3-e602-4890-a628-65b019846876",
   "metadata": {},
   "source": [
    "### 4. Convert a string to lowercase."
   ]
  },
  {
   "cell_type": "code",
   "execution_count": 8,
   "id": "5df894a4-73a8-4adf-b8aa-9b250214d506",
   "metadata": {},
   "outputs": [
    {
     "name": "stdin",
     "output_type": "stream",
     "text": [
      "Enter a string:  HELLO WORLD PWSKILLS\n"
     ]
    },
    {
     "name": "stdout",
     "output_type": "stream",
     "text": [
      "Lowercase string: hello world pwskills\n"
     ]
    }
   ],
   "source": [
    "# Step 1: Get input from the user\n",
    "input_string = input(\"Enter a string: \")\n",
    "\n",
    "# Step 2: Convert the string to lowercase using the lower() method\n",
    "lowercase_string = input_string.lower()\n",
    "\n",
    "# Step 3: Print the lowercase string\n",
    "print(\"Lowercase string:\", lowercase_string)"
   ]
  },
  {
   "cell_type": "markdown",
   "id": "df92d3c4-fe90-4448-a350-2322a22759e4",
   "metadata": {},
   "source": [
    "### 5. Count the number of vowels in a string."
   ]
  },
  {
   "cell_type": "code",
   "execution_count": 9,
   "id": "90b53c53-17ab-4e17-bc89-cca0d3027b23",
   "metadata": {},
   "outputs": [
    {
     "name": "stdout",
     "output_type": "stream",
     "text": [
      "Number of vowels: 7\n"
     ]
    }
   ],
   "source": [
    "def count_vowels(string):\n",
    "    # Initialize a variable to keep track of the vowel count\n",
    "    vowel_count = 0\n",
    "\n",
    "    # Convert the input string to lowercase to handle both upper and lowercase vowels\n",
    "    string = string.lower()\n",
    "\n",
    "    # Define a set of vowels\n",
    "    vowels = set(\"aeiou\")\n",
    "\n",
    "    # Iterate through each character in the string\n",
    "    for char in string:\n",
    "        # Check if the character is a vowel\n",
    "        if char in vowels:\n",
    "            # Increment the vowel count if the character is a vowel\n",
    "            vowel_count += 1\n",
    "\n",
    "    # Return the final vowel count\n",
    "    return vowel_count\n",
    "\n",
    "# Test the function\n",
    "input_string = \"Hello, how are you?\"\n",
    "result = count_vowels(input_string)\n",
    "print(\"Number of vowels:\", result)"
   ]
  },
  {
   "cell_type": "markdown",
   "id": "bb6fa9e0-5f50-41a8-aac9-bc7517d30896",
   "metadata": {},
   "source": [
    "### 6. Count the number of consonants in a string."
   ]
  },
  {
   "cell_type": "code",
   "execution_count": 10,
   "id": "9b1be60c-40eb-47e2-b03c-bb8cf1bb9261",
   "metadata": {},
   "outputs": [
    {
     "name": "stdin",
     "output_type": "stream",
     "text": [
      "Enter a string:  hello world pwslills\n"
     ]
    },
    {
     "name": "stdout",
     "output_type": "stream",
     "text": [
      "Number of consonants: 14\n"
     ]
    }
   ],
   "source": [
    "def count_consonants(string):\n",
    "    # Initialize a variable to keep track of the count of consonants\n",
    "    consonant_count = 0\n",
    "\n",
    "    # Define a set of consonant characters\n",
    "    consonants = \"bcdfghjklmnpqrstvwxyzBCDFGHJKLMNPQRSTVWXYZ\"\n",
    "\n",
    "    # Iterate through each character in the input string\n",
    "    for char in string:\n",
    "        # Check if the character is in the set of consonants\n",
    "        if char in consonants:\n",
    "            # Increment the consonant count\n",
    "            consonant_count += 1\n",
    "\n",
    "    # Return the final count of consonants\n",
    "    return consonant_count\n",
    "\n",
    "# Input string\n",
    "input_string = input(\"Enter a string: \")\n",
    "\n",
    "# Call the function and print the result\n",
    "result = count_consonants(input_string)\n",
    "print(\"Number of consonants:\", result)"
   ]
  },
  {
   "cell_type": "markdown",
   "id": "03b6c5ac-a636-4532-aaee-4a3aec269797",
   "metadata": {},
   "source": [
    "### 7. Remove all whitespaces from a string."
   ]
  },
  {
   "cell_type": "code",
   "execution_count": 11,
   "id": "39455513-097a-4e8c-b45d-531b24796131",
   "metadata": {},
   "outputs": [
    {
     "name": "stdout",
     "output_type": "stream",
     "text": [
      "HelloWorld!How'sitgoing?\n"
     ]
    }
   ],
   "source": [
    "def remove_whitespace(input_string):\n",
    "    # Step 1: Initialize an empty string to store the result.\n",
    "    result = \"\"\n",
    "\n",
    "    # Step 2: Iterate through each character in the input string.\n",
    "    for char in input_string:\n",
    "        # Step 3: Check if the character is a whitespace.\n",
    "        if char != \" \":\n",
    "            # Step 4: If the character is not a whitespace, append it to the result string.\n",
    "            result += char\n",
    "\n",
    "    # Step 5: Return the result string with all whitespaces removed.\n",
    "    return result\n",
    "\n",
    "# Example usage\n",
    "input_string = \"Hello   World!  How's   it   going?\"\n",
    "output_string = remove_whitespace(input_string)\n",
    "print(output_string)"
   ]
  },
  {
   "cell_type": "markdown",
   "id": "0d4a6354-3ef7-4122-9b18-1ec02db8e242",
   "metadata": {},
   "source": [
    "### 8. Find the length of a string without using the `len()` function."
   ]
  },
  {
   "cell_type": "code",
   "execution_count": 13,
   "id": "e5459733-7a06-4fac-96bc-c8dd9f5d0405",
   "metadata": {},
   "outputs": [
    {
     "name": "stdout",
     "output_type": "stream",
     "text": [
      "The length of the string is: 35\n"
     ]
    }
   ],
   "source": [
    "# Step 1: Initialize a variable to keep track of the count\n",
    "count = 0\n",
    "\n",
    "# Step 2: Iterate through each character in the string\n",
    "for char in input_string:  # Replace 'input_string' with your actual string variable\n",
    "    # Step 3: Increment the count variable by 1 for each character\n",
    "    count += 1\n",
    "\n",
    "# Step 5: Print the final count, which represents the length of the string\n",
    "print(\"The length of the string is:\", count)"
   ]
  },
  {
   "cell_type": "markdown",
   "id": "8afa8491-288b-4b66-ad41-8356a7757ff2",
   "metadata": {},
   "source": [
    "### 9. Check if a string contains a specific word."
   ]
  },
  {
   "cell_type": "code",
   "execution_count": 14,
   "id": "a0a5a8a7-a08d-4b67-a567-3b1b962ef6e1",
   "metadata": {},
   "outputs": [
    {
     "name": "stdin",
     "output_type": "stream",
     "text": [
      "Enter a string:   hello world pwskills\n",
      "Enter the specific word to check for:  pwskills\n"
     ]
    },
    {
     "name": "stdout",
     "output_type": "stream",
     "text": [
      "The string contains the word 'pwskills'.\n"
     ]
    }
   ],
   "source": [
    "# Step 1: Input the string and the specific word\n",
    "input_string = input(\"Enter a string: \")\n",
    "specific_word = input(\"Enter the specific word to check for: \")\n",
    "\n",
    "# Step 2: Check if the specific word is present in the string using the 'in' keyword\n",
    "if specific_word in input_string:\n",
    "    # Step 3: Print message if word is present\n",
    "    print(f\"The string contains the word '{specific_word}'.\")\n",
    "else:\n",
    "    # Step 3: Print message if word is not present\n",
    "    print(f\"The string does not contain the word '{specific_word}'.\")"
   ]
  },
  {
   "cell_type": "markdown",
   "id": "a79646be-488b-4d2e-9d04-d9a301534f76",
   "metadata": {},
   "source": [
    "### 10. Replace a word in a string with another word."
   ]
  },
  {
   "cell_type": "code",
   "execution_count": 15,
   "id": "043c38e3-488b-4d63-b95e-fc3f166e1f0c",
   "metadata": {},
   "outputs": [
    {
     "name": "stdin",
     "output_type": "stream",
     "text": [
      "Enter a sentence:   hello world how are you\n",
      "Enter the word to be replaced:  pw skills\n",
      "Enter the new word:  you are\n"
     ]
    },
    {
     "name": "stdout",
     "output_type": "stream",
     "text": [
      "Modified string:  hello world how are you\n"
     ]
    }
   ],
   "source": [
    "# Step 1: Accept the input string\n",
    "input_string = input(\"Enter a sentence: \")\n",
    "\n",
    "# Step 2: Accept the old word and the new word\n",
    "old_word = input(\"Enter the word to be replaced: \")\n",
    "new_word = input(\"Enter the new word: \")\n",
    "\n",
    "# Step 3: Replace the old word with the new word using string.replace() method\n",
    "modified_string = input_string.replace(old_word, new_word)\n",
    "\n",
    "# Step 4: Print the modified string\n",
    "print(\"Modified string:\", modified_string)"
   ]
  },
  {
   "cell_type": "markdown",
   "id": "288a5529-162a-4534-b268-315b68edc406",
   "metadata": {},
   "source": [
    "### 11. Count the occurrences of a word in a string."
   ]
  },
  {
   "cell_type": "code",
   "execution_count": 2,
   "id": "ce163a8f-b70f-40c0-ad9f-3146304698e8",
   "metadata": {},
   "outputs": [
    {
     "name": "stdout",
     "output_type": "stream",
     "text": [
      "2\n"
     ]
    }
   ],
   "source": [
    "# define the function\n",
    "def count_occurrences(input_string, word):\n",
    "    return input_string.split().count(word)\n",
    "\n",
    "# Example \n",
    "input_string = \"hello world hello\"\n",
    "word = \"hello\"\n",
    "print(count_occurrences(input_string, word)) \n"
   ]
  },
  {
   "cell_type": "markdown",
   "id": "dad7e153-b905-42d0-bc06-2b9f7ae6bdbc",
   "metadata": {},
   "source": [
    "### Find the first occurrence of a word in a string."
   ]
  },
  {
   "cell_type": "code",
   "execution_count": 3,
   "id": "13c657c6-5931-4051-af9b-d49dabc534d3",
   "metadata": {},
   "outputs": [
    {
     "name": "stdout",
     "output_type": "stream",
     "text": [
      "1\n"
     ]
    }
   ],
   "source": [
    "def find_first_occurrence(input_string, word):\n",
    "    #Split the input string into words\n",
    "    words = input_string.split()\n",
    "\n",
    "    #  Iterate through the words\n",
    "    for i, w in enumerate(words):\n",
    "        #Check for match\n",
    "        if w == word:\n",
    "            return i\n",
    "\n",
    "    #  Handling no match\n",
    "    return -1\n",
    "\n",
    "# Example\n",
    "input_string = \"hello world hello\"\n",
    "word = \"world\"\n",
    "print(find_first_occurrence(input_string, word))  # Output: 1\n"
   ]
  },
  {
   "cell_type": "markdown",
   "id": "a7058715-ab34-4bd2-91fa-2ef4effdb372",
   "metadata": {},
   "source": [
    "### 14. Split a string into a list of words."
   ]
  },
  {
   "cell_type": "code",
   "execution_count": 4,
   "id": "89e30e42-cd31-4aae-8640-18d1c8d1ae20",
   "metadata": {},
   "outputs": [
    {
     "name": "stdout",
     "output_type": "stream",
     "text": [
      "['Hello,', 'pwskills!', 'How', 'are', 'you?']\n"
     ]
    }
   ],
   "source": [
    "def split_into_words(input_string):\n",
    "    return input_string.split()\n",
    "\n",
    "# Example\n",
    "input_string = \"Hello, pwskills! How are you?\"\n",
    "words = split_into_words(input_string)\n",
    "print(words)\n"
   ]
  },
  {
   "cell_type": "markdown",
   "id": "90565c53-29ff-45e6-9e1d-0db8aa18d6a0",
   "metadata": {},
   "source": [
    "### Convert a string where words are separated by spaces to one where words\n",
    "are separated by underscores."
   ]
  },
  {
   "cell_type": "code",
   "execution_count": 7,
   "id": "3066050a-a5f1-4dd9-be50-b46c9fdb3b44",
   "metadata": {},
   "outputs": [
    {
     "name": "stdout",
     "output_type": "stream",
     "text": [
      "Hello_pwskills_how_are_you\n"
     ]
    }
   ],
   "source": [
    "def convert_to_underscore(input_string):\n",
    "    return input_string.replace(\" \", \"_\")\n",
    "\n",
    "# Example usage\n",
    "input_string = \"Hello pwskills how are you\"\n",
    "output_string = convert_to_underscore(input_string)\n",
    "print(output_string)\n"
   ]
  },
  {
   "cell_type": "code",
   "execution_count": null,
   "id": "e2e8ec58-398e-4f09-a389-7d18f20f97c6",
   "metadata": {},
   "outputs": [],
   "source": []
  },
  {
   "cell_type": "code",
   "execution_count": null,
   "id": "f03ab3fd-f1e9-46aa-9117-9909f445a615",
   "metadata": {},
   "outputs": [],
   "source": []
  },
  {
   "cell_type": "markdown",
   "id": "d9a23137-a37b-416b-a50e-033df2237555",
   "metadata": {},
   "source": [
    "### List Based Practice Problem :\n"
   ]
  },
  {
   "cell_type": "markdown",
   "id": "d517ddd2-6a94-4195-9f6c-c54378ae2c72",
   "metadata": {},
   "source": [
    "\n",
    "### 1. Create a list with integers from 1 to 10."
   ]
  },
  {
   "cell_type": "code",
   "execution_count": 8,
   "id": "b43e6b1a-dfe2-49df-a2b0-e637e3b66cca",
   "metadata": {},
   "outputs": [
    {
     "name": "stdout",
     "output_type": "stream",
     "text": [
      "[1, 2, 3, 4, 5, 6, 7, 8, 9, 10]\n"
     ]
    }
   ],
   "source": [
    "my_list = [x for x in range(1, 11)]\n",
    "print(my_list)\n"
   ]
  },
  {
   "cell_type": "markdown",
   "id": "2723ca6c-f314-4a73-852b-1ab7f9a1c936",
   "metadata": {},
   "source": [
    "### 2. Find the length of a list without using the `len()` function."
   ]
  },
  {
   "cell_type": "code",
   "execution_count": 9,
   "id": "5c948e87-3b35-4d31-8b98-b9932e9ffc35",
   "metadata": {},
   "outputs": [
    {
     "name": "stdout",
     "output_type": "stream",
     "text": [
      "5\n"
     ]
    }
   ],
   "source": [
    "# define the function\n",
    "def find_length(my_list):\n",
    "    length = 0\n",
    "    for _ in my_list:\n",
    "        length += 1\n",
    "    return length\n",
    "\n",
    "\n",
    "my_list = [1, 2, 3, 4, 5]\n",
    "# display the result\n",
    "print(find_length(my_list)) \n"
   ]
  },
  {
   "cell_type": "markdown",
   "id": "87ac49ff-7abd-418d-98c2-738a10ca55fb",
   "metadata": {},
   "source": [
    "### Insert an element at a specific index in a list."
   ]
  },
  {
   "cell_type": "code",
   "execution_count": 10,
   "id": "adae57a6-ad9d-47df-812e-2321d5b3e099",
   "metadata": {},
   "outputs": [
    {
     "name": "stdout",
     "output_type": "stream",
     "text": [
      "[1, 2, 100, 3, 4, 5]\n"
     ]
    }
   ],
   "source": [
    "# define the function\n",
    "my_list = [1, 2, 3, 4, 5]\n",
    "index = 2  # Index at which to insert the element\n",
    "element = 100  # Element to insert\n",
    "\n",
    "my_list.insert(index, element)\n",
    "# display the result\n",
    "print(my_list)\n"
   ]
  },
  {
   "cell_type": "markdown",
   "id": "610d29e3-0ecc-4b0d-86ab-deb83279caca",
   "metadata": {},
   "source": [
    "### Remove an element from a list by its value."
   ]
  },
  {
   "cell_type": "code",
   "execution_count": 11,
   "id": "d7a992c5-3fdd-4e6d-816c-60cdf390e2b1",
   "metadata": {},
   "outputs": [
    {
     "name": "stdout",
     "output_type": "stream",
     "text": [
      "[1, 2, 4, 5]\n"
     ]
    }
   ],
   "source": [
    "# define the function\n",
    "my_list = [1, 2, 3, 4, 5]\n",
    "value_to_remove = 3\n",
    "\n",
    "my_list.remove(value_to_remove)\n",
    "# display the result\n",
    "print(my_list)\n"
   ]
  },
  {
   "cell_type": "markdown",
   "id": "205502ee-ffa8-4891-89dc-653a9e002304",
   "metadata": {},
   "source": [
    "### Reverse the order of elements in a list."
   ]
  },
  {
   "cell_type": "code",
   "execution_count": 12,
   "id": "ceed35fc-0c53-4ab0-b8b3-896172179fa3",
   "metadata": {},
   "outputs": [
    {
     "name": "stdout",
     "output_type": "stream",
     "text": [
      "[5, 4, 3, 2, 1]\n"
     ]
    }
   ],
   "source": [
    "my_list = [1, 2, 3, 4, 5]\n",
    "my_list.reverse()\n",
    "print(my_list)\n"
   ]
  },
  {
   "cell_type": "markdown",
   "id": "df7b4381-b549-4e5d-845c-fd1d3672e335",
   "metadata": {},
   "source": [
    "### Sort a list in ascending order."
   ]
  },
  {
   "cell_type": "code",
   "execution_count": 13,
   "id": "b3f1aef8-122c-470e-9e27-65374da090d2",
   "metadata": {},
   "outputs": [
    {
     "name": "stdout",
     "output_type": "stream",
     "text": [
      "[1, 1, 2, 3, 3, 4, 5, 5, 5, 6, 9]\n"
     ]
    }
   ],
   "source": [
    "my_list = [3, 1, 4, 1, 5, 9, 2, 6, 5, 3, 5]\n",
    "sorted_list = sorted(my_list)\n",
    "print(sorted_list)\n"
   ]
  },
  {
   "cell_type": "markdown",
   "id": "6dd134bb-fbf1-4a06-ac08-f90fec5b8248",
   "metadata": {},
   "source": [
    "### Sort a list in descending order."
   ]
  },
  {
   "cell_type": "code",
   "execution_count": 14,
   "id": "605c1645-c8cb-4bc7-86d8-ab4b88aaf5be",
   "metadata": {},
   "outputs": [
    {
     "name": "stdout",
     "output_type": "stream",
     "text": [
      "[9, 6, 5, 5, 5, 4, 3, 3, 2, 1, 1]\n"
     ]
    }
   ],
   "source": [
    "my_list = [3, 1, 4, 1, 5, 9, 2, 6, 5, 3, 5]\n",
    "my_list.sort(reverse=True)\n",
    "print(my_list)\n"
   ]
  },
  {
   "cell_type": "markdown",
   "id": "619f1d02-2041-4fcb-8f70-2747a6045175",
   "metadata": {},
   "source": [
    "### Create a list of even numbers from 1 to 20."
   ]
  },
  {
   "cell_type": "code",
   "execution_count": 15,
   "id": "a7c47c1b-dcd4-4819-abe3-400578983459",
   "metadata": {},
   "outputs": [
    {
     "name": "stdout",
     "output_type": "stream",
     "text": [
      "[2, 4, 6, 8, 10, 12, 14, 16, 18, 20]\n"
     ]
    }
   ],
   "source": [
    "even_numbers = [x for x in range(1, 21) if x % 2 == 0]\n",
    "print(even_numbers)\n"
   ]
  },
  {
   "cell_type": "markdown",
   "id": "5e84de8e-39c3-4052-80b9-01fc44a9e81a",
   "metadata": {},
   "source": [
    "### Create a list of odd numbers from 1 to 20."
   ]
  },
  {
   "cell_type": "code",
   "execution_count": 16,
   "id": "372812fa-c04b-46f2-a916-c58b032633e9",
   "metadata": {},
   "outputs": [
    {
     "name": "stdout",
     "output_type": "stream",
     "text": [
      "[1, 3, 5, 7, 9, 11, 13, 15, 17, 19]\n"
     ]
    }
   ],
   "source": [
    "even_numbers = [x for x in range(1, 21) if x % 2 != 0]\n",
    "print(even_numbers)\n"
   ]
  },
  {
   "cell_type": "markdown",
   "id": "8ed825ad-1daf-4ac4-9d2c-c575d61bb851",
   "metadata": {},
   "source": [
    "### Find the sum of all elements in a list."
   ]
  },
  {
   "cell_type": "code",
   "execution_count": 17,
   "id": "23563471-fabd-4a01-8334-62f0fc81bf9d",
   "metadata": {},
   "outputs": [
    {
     "name": "stdout",
     "output_type": "stream",
     "text": [
      "15\n"
     ]
    }
   ],
   "source": [
    "my_list = [1, 2, 3, 4, 5]\n",
    "list_sum = sum(my_list)\n",
    "print(list_sum)\n"
   ]
  },
  {
   "cell_type": "markdown",
   "id": "12ca7863-b364-4f1d-9f21-75af6264515a",
   "metadata": {},
   "source": [
    "###  Find the maximum value in a list.\n",
    "\n"
   ]
  },
  {
   "cell_type": "code",
   "execution_count": 18,
   "id": "a110a472-87e9-4129-9db7-03770fc3fd25",
   "metadata": {},
   "outputs": [
    {
     "name": "stdout",
     "output_type": "stream",
     "text": [
      "Maximum value: 9\n"
     ]
    }
   ],
   "source": [
    "\n",
    "my_list = [3, 1, 4, 1, 5, 9, 2, 6, 5, 3, 5]\n",
    "\n",
    "# Find the maximum value\n",
    "max_value = max(my_list)\n",
    "print(\"Maximum value:\", max_value)\n",
    "\n"
   ]
  },
  {
   "cell_type": "markdown",
   "id": "66ef2718-af28-47cc-95a5-944eeee80655",
   "metadata": {},
   "source": [
    "###  Find the minimum value in a list."
   ]
  },
  {
   "cell_type": "code",
   "execution_count": 19,
   "id": "6d18549a-5be6-4623-9714-d7064bf7942f",
   "metadata": {},
   "outputs": [
    {
     "name": "stdout",
     "output_type": "stream",
     "text": [
      "Minimum value: 1\n"
     ]
    }
   ],
   "source": [
    "my_list = [3, 1, 4, 1, 5, 9, 2, 6, 5, 3, 5]\n",
    "\n",
    "# Find the minimum value\n",
    "min_value = min(my_list)\n",
    "print(\"Minimum value:\", min_value)\n"
   ]
  },
  {
   "cell_type": "markdown",
   "id": "5bd027e3-2760-4888-bff4-15502cff7010",
   "metadata": {},
   "source": [
    "### Tuple Based Practice Problem :"
   ]
  },
  {
   "cell_type": "markdown",
   "id": "1bcfd2c4-9ed8-4af7-b242-661a68b04269",
   "metadata": {},
   "source": [
    "### 1. Create a tuple with integers from 1 to 5.\n"
   ]
  },
  {
   "cell_type": "code",
   "execution_count": 22,
   "id": "77883c25-07b4-44b6-a9e9-e5cc36d9d7a2",
   "metadata": {},
   "outputs": [],
   "source": [
    "my_tuple = (1, 2, 3, 4, 5)\n"
   ]
  },
  {
   "cell_type": "markdown",
   "id": "e21e8ba4-b434-43de-8f4a-ed5437bf94b9",
   "metadata": {},
   "source": [
    "### Access the third element of a tuple.\n"
   ]
  },
  {
   "cell_type": "code",
   "execution_count": 23,
   "id": "002a76ab-3227-49b4-9c5a-43757a0d8178",
   "metadata": {},
   "outputs": [
    {
     "name": "stdout",
     "output_type": "stream",
     "text": [
      "3\n"
     ]
    }
   ],
   "source": [
    "third_element = my_tuple[2]\n",
    "print(third_element)  \n"
   ]
  },
  {
   "cell_type": "markdown",
   "id": "0b176a6e-58c0-434f-a422-d78a5ea4190e",
   "metadata": {},
   "source": [
    "###  Find the length of a tuple without using the `len()` function.\n"
   ]
  },
  {
   "cell_type": "code",
   "execution_count": 24,
   "id": "6f88d18b-03d0-4433-9752-dea7783cc85f",
   "metadata": {},
   "outputs": [
    {
     "name": "stdout",
     "output_type": "stream",
     "text": [
      "5\n"
     ]
    }
   ],
   "source": [
    "def tuple_length(my_tuple):\n",
    "    length = 0\n",
    "    for _ in my_tuple:\n",
    "        length += 1\n",
    "    return length\n",
    "\n",
    "print(tuple_length(my_tuple)) "
   ]
  },
  {
   "cell_type": "markdown",
   "id": "fab2af93-0ee0-4643-8d5c-51a6a800d3c6",
   "metadata": {},
   "source": [
    "### Count the occurrences of an element in a tuple."
   ]
  },
  {
   "cell_type": "code",
   "execution_count": 25,
   "id": "b79b3667-7c3b-45a0-afdf-5b3dd346e8b5",
   "metadata": {},
   "outputs": [
    {
     "name": "stdout",
     "output_type": "stream",
     "text": [
      "1\n"
     ]
    }
   ],
   "source": [
    "def count_occurrences(my_tuple, element):\n",
    "    count = 0\n",
    "    for item in my_tuple:\n",
    "        if item == element:\n",
    "            count += 1\n",
    "    return count\n",
    "\n",
    "element = 3\n",
    "print(count_occurrences(my_tuple, element))\n"
   ]
  },
  {
   "cell_type": "markdown",
   "id": "fa0685af-458d-4d03-af96-fbbd5ad5c6f4",
   "metadata": {},
   "source": [
    "###  Find the index of the first occurrence of an element in a tuple.\n"
   ]
  },
  {
   "cell_type": "code",
   "execution_count": null,
   "id": "4574a6ec-c98c-488a-b6b6-d0ca7c70ae90",
   "metadata": {},
   "outputs": [],
   "source": []
  },
  {
   "cell_type": "markdown",
   "id": "dfdd6beb-6ec4-41f0-b390-7e6258d2cb70",
   "metadata": {},
   "source": [
    "### Check if an element exists in a tuple.\n"
   ]
  },
  {
   "cell_type": "code",
   "execution_count": null,
   "id": "0e86ca68-7b64-493b-ad51-899084c238b0",
   "metadata": {},
   "outputs": [],
   "source": []
  },
  {
   "cell_type": "markdown",
   "id": "bdebe540-ce75-4677-9d0a-2f03a965550d",
   "metadata": {},
   "source": [
    "### Convert a tuple to a list."
   ]
  },
  {
   "cell_type": "code",
   "execution_count": null,
   "id": "648541ea-f564-43c5-8ee6-653d069c2f14",
   "metadata": {},
   "outputs": [],
   "source": []
  },
  {
   "cell_type": "markdown",
   "id": "4d76b9e8-7282-4014-aa15-c2810ee0fd96",
   "metadata": {},
   "source": [
    "### Convert a list to a tuple."
   ]
  },
  {
   "cell_type": "code",
   "execution_count": null,
   "id": "924a1ee4-04d3-4ba4-98d6-977f025914cb",
   "metadata": {},
   "outputs": [],
   "source": []
  },
  {
   "cell_type": "markdown",
   "id": "147d7557-0fbe-4495-978c-476e22466047",
   "metadata": {},
   "source": [
    "### Unpack the elements of a tuple into variables.\n"
   ]
  },
  {
   "cell_type": "code",
   "execution_count": 28,
   "id": "9d9f7605-92c4-4d50-a4f7-8d3415879e8a",
   "metadata": {},
   "outputs": [
    {
     "name": "stdout",
     "output_type": "stream",
     "text": [
      "1 2 3\n"
     ]
    }
   ],
   "source": [
    "my_tuple = (1, 2, 3)\n",
    "a, b, c = my_tuple\n",
    "print(a, b, c) \n"
   ]
  },
  {
   "cell_type": "markdown",
   "id": "9bd5dad2-b066-476a-9a0b-bb5deeb0b590",
   "metadata": {},
   "source": [
    "### Create a tuple of even numbers from 1 to 10.\n"
   ]
  },
  {
   "cell_type": "code",
   "execution_count": 27,
   "id": "674554e1-90f2-4301-87c7-b5d69b8164a7",
   "metadata": {},
   "outputs": [
    {
     "name": "stdout",
     "output_type": "stream",
     "text": [
      "(2, 4, 6, 8, 10)\n"
     ]
    }
   ],
   "source": [
    "even_numbers = tuple(x for x in range(1, 11) if x % 2 == 0)\n",
    "print(even_numbers) \n"
   ]
  },
  {
   "cell_type": "markdown",
   "id": "35e12d37-40d0-403b-8762-404fba34ecde",
   "metadata": {},
   "source": [
    "###  Create a tuple of odd numbers from 1 to 10."
   ]
  },
  {
   "cell_type": "code",
   "execution_count": 26,
   "id": "df27681d-0360-4255-a794-10b455dd8052",
   "metadata": {},
   "outputs": [
    {
     "name": "stdout",
     "output_type": "stream",
     "text": [
      "(1, 3, 5, 7, 9)\n"
     ]
    }
   ],
   "source": [
    "odd_numbers = tuple(x for x in range(1, 11) if x % 2 != 0)\n",
    "print(odd_numbers)  \n"
   ]
  },
  {
   "cell_type": "code",
   "execution_count": null,
   "id": "5b4acfa9-19c8-44a3-b87f-8059c8b72795",
   "metadata": {},
   "outputs": [],
   "source": []
  }
 ],
 "metadata": {
  "kernelspec": {
   "display_name": "Python 3 (ipykernel)",
   "language": "python",
   "name": "python3"
  },
  "language_info": {
   "codemirror_mode": {
    "name": "ipython",
    "version": 3
   },
   "file_extension": ".py",
   "mimetype": "text/x-python",
   "name": "python",
   "nbconvert_exporter": "python",
   "pygments_lexer": "ipython3",
   "version": "3.10.8"
  }
 },
 "nbformat": 4,
 "nbformat_minor": 5
}
